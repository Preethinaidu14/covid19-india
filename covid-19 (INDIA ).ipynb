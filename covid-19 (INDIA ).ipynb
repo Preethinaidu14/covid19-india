{
 "cells": [
  {
   "cell_type": "code",
   "execution_count": 10,
   "metadata": {
    "scrolled": true
   },
   "outputs": [
    {
     "name": "stdout",
     "output_type": "stream",
     "text": [
      "Collecting cufflinks\n",
      "  Downloading https://files.pythonhosted.org/packages/1a/18/4d32edaaf31ba4af9745dac676c4a28c48d3fc539000c29e855bd8db3b86/cufflinks-0.17.3.tar.gz (81kB)\n",
      "Requirement already satisfied: numpy>=1.9.2 in c:\\users\\preethi\\appdata\\local\\continuum\\anaconda3\\lib\\site-packages (from cufflinks) (1.16.4)\n",
      "Requirement already satisfied: pandas>=0.19.2 in c:\\users\\preethi\\appdata\\local\\continuum\\anaconda3\\lib\\site-packages (from cufflinks) (0.24.2)\n",
      "Requirement already satisfied: plotly>=4.1.1 in c:\\users\\preethi\\appdata\\local\\continuum\\anaconda3\\lib\\site-packages (from cufflinks) (4.8.0)\n",
      "Requirement already satisfied: six>=1.9.0 in c:\\users\\preethi\\appdata\\local\\continuum\\anaconda3\\lib\\site-packages (from cufflinks) (1.12.0)\n",
      "Collecting colorlover>=0.2.1 (from cufflinks)\n",
      "  Downloading https://files.pythonhosted.org/packages/9a/53/f696e4480b1d1de3b1523991dea71cf417c8b19fe70c704da164f3f90972/colorlover-0.3.0-py3-none-any.whl\n",
      "Requirement already satisfied: setuptools>=34.4.1 in c:\\users\\preethi\\appdata\\local\\continuum\\anaconda3\\lib\\site-packages (from cufflinks) (41.0.1)\n",
      "Requirement already satisfied: ipython>=5.3.0 in c:\\users\\preethi\\appdata\\local\\continuum\\anaconda3\\lib\\site-packages (from cufflinks) (7.6.1)\n",
      "Requirement already satisfied: ipywidgets>=7.0.0 in c:\\users\\preethi\\appdata\\local\\continuum\\anaconda3\\lib\\site-packages (from cufflinks) (7.5.0)\n",
      "Requirement already satisfied: pytz>=2011k in c:\\users\\preethi\\appdata\\local\\continuum\\anaconda3\\lib\\site-packages (from pandas>=0.19.2->cufflinks) (2019.1)\n",
      "Requirement already satisfied: python-dateutil>=2.5.0 in c:\\users\\preethi\\appdata\\local\\continuum\\anaconda3\\lib\\site-packages (from pandas>=0.19.2->cufflinks) (2.8.0)\n",
      "Requirement already satisfied: retrying>=1.3.3 in c:\\users\\preethi\\appdata\\local\\continuum\\anaconda3\\lib\\site-packages (from plotly>=4.1.1->cufflinks) (1.3.3)\n",
      "Requirement already satisfied: pygments in c:\\users\\preethi\\appdata\\local\\continuum\\anaconda3\\lib\\site-packages (from ipython>=5.3.0->cufflinks) (2.4.2)\n",
      "Requirement already satisfied: prompt-toolkit<2.1.0,>=2.0.0 in c:\\users\\preethi\\appdata\\local\\continuum\\anaconda3\\lib\\site-packages (from ipython>=5.3.0->cufflinks) (2.0.9)\n",
      "Requirement already satisfied: decorator in c:\\users\\preethi\\appdata\\local\\continuum\\anaconda3\\lib\\site-packages (from ipython>=5.3.0->cufflinks) (4.4.0)\n",
      "Requirement already satisfied: traitlets>=4.2 in c:\\users\\preethi\\appdata\\local\\continuum\\anaconda3\\lib\\site-packages (from ipython>=5.3.0->cufflinks) (4.3.2)\n",
      "Requirement already satisfied: jedi>=0.10 in c:\\users\\preethi\\appdata\\local\\continuum\\anaconda3\\lib\\site-packages (from ipython>=5.3.0->cufflinks) (0.13.3)\n",
      "Requirement already satisfied: pickleshare in c:\\users\\preethi\\appdata\\local\\continuum\\anaconda3\\lib\\site-packages (from ipython>=5.3.0->cufflinks) (0.7.5)\n",
      "Requirement already satisfied: colorama; sys_platform == \"win32\" in c:\\users\\preethi\\appdata\\local\\continuum\\anaconda3\\lib\\site-packages (from ipython>=5.3.0->cufflinks) (0.4.1)\n",
      "Requirement already satisfied: backcall in c:\\users\\preethi\\appdata\\local\\continuum\\anaconda3\\lib\\site-packages (from ipython>=5.3.0->cufflinks) (0.1.0)\n",
      "Requirement already satisfied: ipykernel>=4.5.1 in c:\\users\\preethi\\appdata\\local\\continuum\\anaconda3\\lib\\site-packages (from ipywidgets>=7.0.0->cufflinks) (5.1.1)\n",
      "Requirement already satisfied: widgetsnbextension~=3.5.0 in c:\\users\\preethi\\appdata\\local\\continuum\\anaconda3\\lib\\site-packages (from ipywidgets>=7.0.0->cufflinks) (3.5.0)\n",
      "Requirement already satisfied: nbformat>=4.2.0 in c:\\users\\preethi\\appdata\\local\\continuum\\anaconda3\\lib\\site-packages (from ipywidgets>=7.0.0->cufflinks) (4.4.0)\n",
      "Requirement already satisfied: wcwidth in c:\\users\\preethi\\appdata\\local\\continuum\\anaconda3\\lib\\site-packages (from prompt-toolkit<2.1.0,>=2.0.0->ipython>=5.3.0->cufflinks) (0.1.7)\n",
      "Requirement already satisfied: ipython-genutils in c:\\users\\preethi\\appdata\\local\\continuum\\anaconda3\\lib\\site-packages (from traitlets>=4.2->ipython>=5.3.0->cufflinks) (0.2.0)\n",
      "Requirement already satisfied: parso>=0.3.0 in c:\\users\\preethi\\appdata\\local\\continuum\\anaconda3\\lib\\site-packages (from jedi>=0.10->ipython>=5.3.0->cufflinks) (0.5.0)\n",
      "Requirement already satisfied: jupyter-client in c:\\users\\preethi\\appdata\\local\\continuum\\anaconda3\\lib\\site-packages (from ipykernel>=4.5.1->ipywidgets>=7.0.0->cufflinks) (5.3.1)\n",
      "Requirement already satisfied: tornado>=4.2 in c:\\users\\preethi\\appdata\\local\\continuum\\anaconda3\\lib\\site-packages (from ipykernel>=4.5.1->ipywidgets>=7.0.0->cufflinks) (6.0.3)\n",
      "Requirement already satisfied: notebook>=4.4.1 in c:\\users\\preethi\\appdata\\local\\continuum\\anaconda3\\lib\\site-packages (from widgetsnbextension~=3.5.0->ipywidgets>=7.0.0->cufflinks) (6.0.0)\n",
      "Requirement already satisfied: jsonschema!=2.5.0,>=2.4 in c:\\users\\preethi\\appdata\\local\\continuum\\anaconda3\\lib\\site-packages (from nbformat>=4.2.0->ipywidgets>=7.0.0->cufflinks) (3.0.1)\n",
      "Requirement already satisfied: jupyter-core in c:\\users\\preethi\\appdata\\local\\continuum\\anaconda3\\lib\\site-packages (from nbformat>=4.2.0->ipywidgets>=7.0.0->cufflinks) (4.5.0)\n",
      "Requirement already satisfied: pyzmq>=13 in c:\\users\\preethi\\appdata\\local\\continuum\\anaconda3\\lib\\site-packages (from jupyter-client->ipykernel>=4.5.1->ipywidgets>=7.0.0->cufflinks) (18.0.0)\n",
      "Requirement already satisfied: nbconvert in c:\\users\\preethi\\appdata\\local\\continuum\\anaconda3\\lib\\site-packages (from notebook>=4.4.1->widgetsnbextension~=3.5.0->ipywidgets>=7.0.0->cufflinks) (5.5.0)\n",
      "Requirement already satisfied: terminado>=0.8.1 in c:\\users\\preethi\\appdata\\local\\continuum\\anaconda3\\lib\\site-packages (from notebook>=4.4.1->widgetsnbextension~=3.5.0->ipywidgets>=7.0.0->cufflinks) (0.8.2)\n",
      "Requirement already satisfied: Send2Trash in c:\\users\\preethi\\appdata\\local\\continuum\\anaconda3\\lib\\site-packages (from notebook>=4.4.1->widgetsnbextension~=3.5.0->ipywidgets>=7.0.0->cufflinks) (1.5.0)\n",
      "Requirement already satisfied: prometheus-client in c:\\users\\preethi\\appdata\\local\\continuum\\anaconda3\\lib\\site-packages (from notebook>=4.4.1->widgetsnbextension~=3.5.0->ipywidgets>=7.0.0->cufflinks) (0.7.1)\n",
      "Requirement already satisfied: jinja2 in c:\\users\\preethi\\appdata\\local\\continuum\\anaconda3\\lib\\site-packages (from notebook>=4.4.1->widgetsnbextension~=3.5.0->ipywidgets>=7.0.0->cufflinks) (2.10.1)\n",
      "Requirement already satisfied: attrs>=17.4.0 in c:\\users\\preethi\\appdata\\local\\continuum\\anaconda3\\lib\\site-packages (from jsonschema!=2.5.0,>=2.4->nbformat>=4.2.0->ipywidgets>=7.0.0->cufflinks) (19.1.0)\n",
      "Requirement already satisfied: pyrsistent>=0.14.0 in c:\\users\\preethi\\appdata\\local\\continuum\\anaconda3\\lib\\site-packages (from jsonschema!=2.5.0,>=2.4->nbformat>=4.2.0->ipywidgets>=7.0.0->cufflinks) (0.14.11)\n",
      "Requirement already satisfied: bleach in c:\\users\\preethi\\appdata\\local\\continuum\\anaconda3\\lib\\site-packages (from nbconvert->notebook>=4.4.1->widgetsnbextension~=3.5.0->ipywidgets>=7.0.0->cufflinks) (3.1.0)\n",
      "Requirement already satisfied: defusedxml in c:\\users\\preethi\\appdata\\local\\continuum\\anaconda3\\lib\\site-packages (from nbconvert->notebook>=4.4.1->widgetsnbextension~=3.5.0->ipywidgets>=7.0.0->cufflinks) (0.6.0)\n",
      "Requirement already satisfied: testpath in c:\\users\\preethi\\appdata\\local\\continuum\\anaconda3\\lib\\site-packages (from nbconvert->notebook>=4.4.1->widgetsnbextension~=3.5.0->ipywidgets>=7.0.0->cufflinks) (0.4.2)\n",
      "Requirement already satisfied: pandocfilters>=1.4.1 in c:\\users\\preethi\\appdata\\local\\continuum\\anaconda3\\lib\\site-packages (from nbconvert->notebook>=4.4.1->widgetsnbextension~=3.5.0->ipywidgets>=7.0.0->cufflinks) (1.4.2)\n",
      "Requirement already satisfied: mistune>=0.8.1 in c:\\users\\preethi\\appdata\\local\\continuum\\anaconda3\\lib\\site-packages (from nbconvert->notebook>=4.4.1->widgetsnbextension~=3.5.0->ipywidgets>=7.0.0->cufflinks) (0.8.4)\n",
      "Requirement already satisfied: entrypoints>=0.2.2 in c:\\users\\preethi\\appdata\\local\\continuum\\anaconda3\\lib\\site-packages (from nbconvert->notebook>=4.4.1->widgetsnbextension~=3.5.0->ipywidgets>=7.0.0->cufflinks) (0.3)\n",
      "Requirement already satisfied: MarkupSafe>=0.23 in c:\\users\\preethi\\appdata\\local\\continuum\\anaconda3\\lib\\site-packages (from jinja2->notebook>=4.4.1->widgetsnbextension~=3.5.0->ipywidgets>=7.0.0->cufflinks) (1.1.1)\n",
      "Requirement already satisfied: webencodings in c:\\users\\preethi\\appdata\\local\\continuum\\anaconda3\\lib\\site-packages (from bleach->nbconvert->notebook>=4.4.1->widgetsnbextension~=3.5.0->ipywidgets>=7.0.0->cufflinks) (0.5.1)\n",
      "Building wheels for collected packages: cufflinks\n",
      "  Building wheel for cufflinks (setup.py): started\n",
      "  Building wheel for cufflinks (setup.py): finished with status 'done'\n",
      "  Stored in directory: C:\\Users\\preethi\\AppData\\Local\\pip\\Cache\\wheels\\7d\\ba\\8d\\38b672c3e40d8bd22dd60b8e6e29965b43f2b4be4d064e44d5\n",
      "Successfully built cufflinks\n",
      "Installing collected packages: colorlover, cufflinks\n",
      "Successfully installed colorlover-0.3.0 cufflinks-0.17.3\n"
     ]
    }
   ],
   "source": [
    "!pip install cufflinks"
   ]
  },
  {
   "cell_type": "code",
   "execution_count": 11,
   "metadata": {},
   "outputs": [
    {
     "name": "stdout",
     "output_type": "stream",
     "text": [
      "Requirement already satisfied: plotly in c:\\users\\preethi\\appdata\\local\\continuum\\anaconda3\\lib\\site-packages (4.8.0)\n",
      "Requirement already satisfied: six in c:\\users\\preethi\\appdata\\local\\continuum\\anaconda3\\lib\\site-packages (from plotly) (1.12.0)\n",
      "Requirement already satisfied: retrying>=1.3.3 in c:\\users\\preethi\\appdata\\local\\continuum\\anaconda3\\lib\\site-packages (from plotly) (1.3.3)\n"
     ]
    }
   ],
   "source": [
    "!pip install plotly"
   ]
  },
  {
   "cell_type": "code",
   "execution_count": 1,
   "metadata": {},
   "outputs": [],
   "source": [
    "import pandas as pd\n",
    "import numpy as np\n",
    "import matplotlib.pyplot as plt\n",
    "from matplotlib import style\n",
    "style.use('ggplot')\n",
    "\n",
    "import plotly\n",
    "import plotly.express as px\n",
    "import plotly.graph_objects as go\n",
    "\n",
    "import cufflinks as cf \n",
    "import plotly.offline as pyo\n",
    "from plotly.offline import init_notebook_mode,plot,iplot\n",
    "\n",
    "import folium "
   ]
  },
  {
   "cell_type": "code",
   "execution_count": 2,
   "metadata": {},
   "outputs": [],
   "source": [
    "df = pd.read_csv('C:\\\\Users\\\\preethi\\\\Downloads\\\\covid19-in-india\\\\covid_19_india.csv')"
   ]
  },
  {
   "cell_type": "code",
   "execution_count": 3,
   "metadata": {},
   "outputs": [
    {
     "data": {
      "text/html": [
       "<div>\n",
       "<style scoped>\n",
       "    .dataframe tbody tr th:only-of-type {\n",
       "        vertical-align: middle;\n",
       "    }\n",
       "\n",
       "    .dataframe tbody tr th {\n",
       "        vertical-align: top;\n",
       "    }\n",
       "\n",
       "    .dataframe thead th {\n",
       "        text-align: right;\n",
       "    }\n",
       "</style>\n",
       "<table border=\"1\" class=\"dataframe\">\n",
       "  <thead>\n",
       "    <tr style=\"text-align: right;\">\n",
       "      <th></th>\n",
       "      <th>Sno</th>\n",
       "      <th>Date</th>\n",
       "      <th>Time</th>\n",
       "      <th>State/UnionTerritory</th>\n",
       "      <th>ConfirmedIndianNational</th>\n",
       "      <th>ConfirmedForeignNational</th>\n",
       "      <th>Cured</th>\n",
       "      <th>Deaths</th>\n",
       "      <th>Confirmed</th>\n",
       "    </tr>\n",
       "  </thead>\n",
       "  <tbody>\n",
       "    <tr>\n",
       "      <th>0</th>\n",
       "      <td>1</td>\n",
       "      <td>30/01/20</td>\n",
       "      <td>6:00 PM</td>\n",
       "      <td>Kerala</td>\n",
       "      <td>1</td>\n",
       "      <td>0</td>\n",
       "      <td>0</td>\n",
       "      <td>0</td>\n",
       "      <td>1</td>\n",
       "    </tr>\n",
       "    <tr>\n",
       "      <th>1</th>\n",
       "      <td>2</td>\n",
       "      <td>31/01/20</td>\n",
       "      <td>6:00 PM</td>\n",
       "      <td>Kerala</td>\n",
       "      <td>1</td>\n",
       "      <td>0</td>\n",
       "      <td>0</td>\n",
       "      <td>0</td>\n",
       "      <td>1</td>\n",
       "    </tr>\n",
       "    <tr>\n",
       "      <th>2</th>\n",
       "      <td>3</td>\n",
       "      <td>01/02/20</td>\n",
       "      <td>6:00 PM</td>\n",
       "      <td>Kerala</td>\n",
       "      <td>2</td>\n",
       "      <td>0</td>\n",
       "      <td>0</td>\n",
       "      <td>0</td>\n",
       "      <td>2</td>\n",
       "    </tr>\n",
       "    <tr>\n",
       "      <th>3</th>\n",
       "      <td>4</td>\n",
       "      <td>02/02/20</td>\n",
       "      <td>6:00 PM</td>\n",
       "      <td>Kerala</td>\n",
       "      <td>3</td>\n",
       "      <td>0</td>\n",
       "      <td>0</td>\n",
       "      <td>0</td>\n",
       "      <td>3</td>\n",
       "    </tr>\n",
       "    <tr>\n",
       "      <th>4</th>\n",
       "      <td>5</td>\n",
       "      <td>03/02/20</td>\n",
       "      <td>6:00 PM</td>\n",
       "      <td>Kerala</td>\n",
       "      <td>3</td>\n",
       "      <td>0</td>\n",
       "      <td>0</td>\n",
       "      <td>0</td>\n",
       "      <td>3</td>\n",
       "    </tr>\n",
       "  </tbody>\n",
       "</table>\n",
       "</div>"
      ],
      "text/plain": [
       "   Sno      Date     Time State/UnionTerritory ConfirmedIndianNational  \\\n",
       "0    1  30/01/20  6:00 PM               Kerala                       1   \n",
       "1    2  31/01/20  6:00 PM               Kerala                       1   \n",
       "2    3  01/02/20  6:00 PM               Kerala                       2   \n",
       "3    4  02/02/20  6:00 PM               Kerala                       3   \n",
       "4    5  03/02/20  6:00 PM               Kerala                       3   \n",
       "\n",
       "  ConfirmedForeignNational  Cured  Deaths  Confirmed  \n",
       "0                        0      0       0          1  \n",
       "1                        0      0       0          1  \n",
       "2                        0      0       0          2  \n",
       "3                        0      0       0          3  \n",
       "4                        0      0       0          3  "
      ]
     },
     "execution_count": 3,
     "metadata": {},
     "output_type": "execute_result"
    }
   ],
   "source": [
    "df.head()"
   ]
  },
  {
   "cell_type": "code",
   "execution_count": 4,
   "metadata": {},
   "outputs": [
    {
     "data": {
      "text/plain": [
       "Sno                          int64\n",
       "Date                        object\n",
       "Time                        object\n",
       "State/UnionTerritory        object\n",
       "ConfirmedIndianNational     object\n",
       "ConfirmedForeignNational    object\n",
       "Cured                        int64\n",
       "Deaths                       int64\n",
       "Confirmed                    int64\n",
       "dtype: object"
      ]
     },
     "execution_count": 4,
     "metadata": {},
     "output_type": "execute_result"
    }
   ],
   "source": [
    "df.dtypes"
   ]
  },
  {
   "cell_type": "code",
   "execution_count": 5,
   "metadata": {},
   "outputs": [],
   "source": [
    "df.drop(['Sno'],axis = 1, inplace = True)"
   ]
  },
  {
   "cell_type": "code",
   "execution_count": 6,
   "metadata": {},
   "outputs": [
    {
     "data": {
      "text/plain": [
       "Date                        0\n",
       "Time                        0\n",
       "State/UnionTerritory        0\n",
       "ConfirmedIndianNational     0\n",
       "ConfirmedForeignNational    0\n",
       "Cured                       0\n",
       "Deaths                      0\n",
       "Confirmed                   0\n",
       "dtype: int64"
      ]
     },
     "execution_count": 6,
     "metadata": {},
     "output_type": "execute_result"
    }
   ],
   "source": [
    "df.isnull().sum()"
   ]
  },
  {
   "cell_type": "code",
   "execution_count": 7,
   "metadata": {},
   "outputs": [
    {
     "data": {
      "text/plain": [
       "(1671, 8)"
      ]
     },
     "execution_count": 7,
     "metadata": {},
     "output_type": "execute_result"
    }
   ],
   "source": [
    "df.shape"
   ]
  },
  {
   "cell_type": "markdown",
   "metadata": {},
   "source": [
    "### Q1) How many confirmed cases are there in each state?"
   ]
  },
  {
   "cell_type": "code",
   "execution_count": 31,
   "metadata": {},
   "outputs": [],
   "source": [
    "df['State/UnionTerritory'] = df['State/UnionTerritory'].apply(lambda x : x.strip('#'))"
   ]
  },
  {
   "cell_type": "code",
   "execution_count": 32,
   "metadata": {},
   "outputs": [
    {
     "data": {
      "text/html": [
       "<div>\n",
       "<style scoped>\n",
       "    .dataframe tbody tr th:only-of-type {\n",
       "        vertical-align: middle;\n",
       "    }\n",
       "\n",
       "    .dataframe tbody tr th {\n",
       "        vertical-align: top;\n",
       "    }\n",
       "\n",
       "    .dataframe thead th {\n",
       "        text-align: right;\n",
       "    }\n",
       "</style>\n",
       "<table border=\"1\" class=\"dataframe\">\n",
       "  <thead>\n",
       "    <tr style=\"text-align: right;\">\n",
       "      <th></th>\n",
       "      <th>Cured</th>\n",
       "      <th>Deaths</th>\n",
       "      <th>Confirmed</th>\n",
       "    </tr>\n",
       "    <tr>\n",
       "      <th>State/UnionTerritory</th>\n",
       "      <th></th>\n",
       "      <th></th>\n",
       "      <th></th>\n",
       "    </tr>\n",
       "  </thead>\n",
       "  <tbody>\n",
       "    <tr>\n",
       "      <th>Andaman and Nicobar Islands</th>\n",
       "      <td>356</td>\n",
       "      <td>0</td>\n",
       "      <td>719</td>\n",
       "    </tr>\n",
       "    <tr>\n",
       "      <th>Andhra Pradesh</th>\n",
       "      <td>5328</td>\n",
       "      <td>634</td>\n",
       "      <td>27869</td>\n",
       "    </tr>\n",
       "    <tr>\n",
       "      <th>Arunachal Pradesh</th>\n",
       "      <td>16</td>\n",
       "      <td>0</td>\n",
       "      <td>34</td>\n",
       "    </tr>\n",
       "    <tr>\n",
       "      <th>Assam</th>\n",
       "      <td>461</td>\n",
       "      <td>26</td>\n",
       "      <td>1158</td>\n",
       "    </tr>\n",
       "    <tr>\n",
       "      <th>Bihar</th>\n",
       "      <td>1490</td>\n",
       "      <td>74</td>\n",
       "      <td>6571</td>\n",
       "    </tr>\n",
       "    <tr>\n",
       "      <th>Chandigarh</th>\n",
       "      <td>380</td>\n",
       "      <td>2</td>\n",
       "      <td>1359</td>\n",
       "    </tr>\n",
       "    <tr>\n",
       "      <th>Chhattisgarh</th>\n",
       "      <td>741</td>\n",
       "      <td>0</td>\n",
       "      <td>1124</td>\n",
       "    </tr>\n",
       "    <tr>\n",
       "      <th>Dadar Nagar Haveli</th>\n",
       "      <td>0</td>\n",
       "      <td>0</td>\n",
       "      <td>1</td>\n",
       "    </tr>\n",
       "    <tr>\n",
       "      <th>Delhi</th>\n",
       "      <td>16908</td>\n",
       "      <td>1297</td>\n",
       "      <td>73099</td>\n",
       "    </tr>\n",
       "    <tr>\n",
       "      <th>Goa</th>\n",
       "      <td>164</td>\n",
       "      <td>0</td>\n",
       "      <td>271</td>\n",
       "    </tr>\n",
       "    <tr>\n",
       "      <th>Gujarat</th>\n",
       "      <td>9634</td>\n",
       "      <td>3540</td>\n",
       "      <td>72664</td>\n",
       "    </tr>\n",
       "    <tr>\n",
       "      <th>Haryana</th>\n",
       "      <td>3898</td>\n",
       "      <td>100</td>\n",
       "      <td>8816</td>\n",
       "    </tr>\n",
       "    <tr>\n",
       "      <th>Himachal Pradesh</th>\n",
       "      <td>552</td>\n",
       "      <td>45</td>\n",
       "      <td>1128</td>\n",
       "    </tr>\n",
       "    <tr>\n",
       "      <th>Jammu and Kashmir</th>\n",
       "      <td>3185</td>\n",
       "      <td>183</td>\n",
       "      <td>12980</td>\n",
       "    </tr>\n",
       "    <tr>\n",
       "      <th>Jharkhand</th>\n",
       "      <td>250</td>\n",
       "      <td>66</td>\n",
       "      <td>1728</td>\n",
       "    </tr>\n",
       "    <tr>\n",
       "      <th>Karnataka</th>\n",
       "      <td>4366</td>\n",
       "      <td>512</td>\n",
       "      <td>13772</td>\n",
       "    </tr>\n",
       "    <tr>\n",
       "      <th>Kerala</th>\n",
       "      <td>8633</td>\n",
       "      <td>111</td>\n",
       "      <td>16270</td>\n",
       "    </tr>\n",
       "    <tr>\n",
       "      <th>Ladakh</th>\n",
       "      <td>450</td>\n",
       "      <td>0</td>\n",
       "      <td>911</td>\n",
       "    </tr>\n",
       "    <tr>\n",
       "      <th>Madhya Pradesh</th>\n",
       "      <td>7760</td>\n",
       "      <td>2581</td>\n",
       "      <td>49719</td>\n",
       "    </tr>\n",
       "    <tr>\n",
       "      <th>Maharashtra</th>\n",
       "      <td>27128</td>\n",
       "      <td>8616</td>\n",
       "      <td>186125</td>\n",
       "    </tr>\n",
       "    <tr>\n",
       "      <th>Manipur</th>\n",
       "      <td>45</td>\n",
       "      <td>0</td>\n",
       "      <td>78</td>\n",
       "    </tr>\n",
       "    <tr>\n",
       "      <th>Meghalaya</th>\n",
       "      <td>20</td>\n",
       "      <td>22</td>\n",
       "      <td>248</td>\n",
       "    </tr>\n",
       "    <tr>\n",
       "      <th>Mizoram</th>\n",
       "      <td>0</td>\n",
       "      <td>0</td>\n",
       "      <td>43</td>\n",
       "    </tr>\n",
       "    <tr>\n",
       "      <th>Nagaland</th>\n",
       "      <td>0</td>\n",
       "      <td>0</td>\n",
       "      <td>2</td>\n",
       "    </tr>\n",
       "    <tr>\n",
       "      <th>Odisha</th>\n",
       "      <td>845</td>\n",
       "      <td>30</td>\n",
       "      <td>2800</td>\n",
       "    </tr>\n",
       "    <tr>\n",
       "      <th>Puducherry</th>\n",
       "      <td>90</td>\n",
       "      <td>0</td>\n",
       "      <td>254</td>\n",
       "    </tr>\n",
       "    <tr>\n",
       "      <th>Punjab</th>\n",
       "      <td>1550</td>\n",
       "      <td>504</td>\n",
       "      <td>11259</td>\n",
       "    </tr>\n",
       "    <tr>\n",
       "      <th>Rajasthan</th>\n",
       "      <td>13100</td>\n",
       "      <td>852</td>\n",
       "      <td>51008</td>\n",
       "    </tr>\n",
       "    <tr>\n",
       "      <th>Tamil Nadu</th>\n",
       "      <td>18779</td>\n",
       "      <td>569</td>\n",
       "      <td>53777</td>\n",
       "    </tr>\n",
       "    <tr>\n",
       "      <th>Telengana</th>\n",
       "      <td>7203</td>\n",
       "      <td>646</td>\n",
       "      <td>26382</td>\n",
       "    </tr>\n",
       "    <tr>\n",
       "      <th>Tripura</th>\n",
       "      <td>32</td>\n",
       "      <td>0</td>\n",
       "      <td>140</td>\n",
       "    </tr>\n",
       "    <tr>\n",
       "      <th>Unassigned</th>\n",
       "      <td>0</td>\n",
       "      <td>0</td>\n",
       "      <td>161</td>\n",
       "    </tr>\n",
       "    <tr>\n",
       "      <th>Uttar Pradesh</th>\n",
       "      <td>8615</td>\n",
       "      <td>690</td>\n",
       "      <td>44390</td>\n",
       "    </tr>\n",
       "    <tr>\n",
       "      <th>Uttarakhand</th>\n",
       "      <td>617</td>\n",
       "      <td>3</td>\n",
       "      <td>1509</td>\n",
       "    </tr>\n",
       "    <tr>\n",
       "      <th>West Bengal</th>\n",
       "      <td>2664</td>\n",
       "      <td>711</td>\n",
       "      <td>15039</td>\n",
       "    </tr>\n",
       "  </tbody>\n",
       "</table>\n",
       "</div>"
      ],
      "text/plain": [
       "                             Cured  Deaths  Confirmed\n",
       "State/UnionTerritory                                 \n",
       "Andaman and Nicobar Islands    356       0        719\n",
       "Andhra Pradesh                5328     634      27869\n",
       "Arunachal Pradesh               16       0         34\n",
       "Assam                          461      26       1158\n",
       "Bihar                         1490      74       6571\n",
       "Chandigarh                     380       2       1359\n",
       "Chhattisgarh                   741       0       1124\n",
       "Dadar Nagar Haveli               0       0          1\n",
       "Delhi                        16908    1297      73099\n",
       "Goa                            164       0        271\n",
       "Gujarat                       9634    3540      72664\n",
       "Haryana                       3898     100       8816\n",
       "Himachal Pradesh               552      45       1128\n",
       "Jammu and Kashmir             3185     183      12980\n",
       "Jharkhand                      250      66       1728\n",
       "Karnataka                     4366     512      13772\n",
       "Kerala                        8633     111      16270\n",
       "Ladakh                         450       0        911\n",
       "Madhya Pradesh                7760    2581      49719\n",
       "Maharashtra                  27128    8616     186125\n",
       "Manipur                         45       0         78\n",
       "Meghalaya                       20      22        248\n",
       "Mizoram                          0       0         43\n",
       "Nagaland                         0       0          2\n",
       "Odisha                         845      30       2800\n",
       "Puducherry                      90       0        254\n",
       "Punjab                        1550     504      11259\n",
       "Rajasthan                    13100     852      51008\n",
       "Tamil Nadu                   18779     569      53777\n",
       "Telengana                     7203     646      26382\n",
       "Tripura                         32       0        140\n",
       "Unassigned                       0       0        161\n",
       "Uttar Pradesh                 8615     690      44390\n",
       "Uttarakhand                    617       3       1509\n",
       "West Bengal                   2664     711      15039"
      ]
     },
     "execution_count": 32,
     "metadata": {},
     "output_type": "execute_result"
    }
   ],
   "source": [
    "confirmed = df.groupby('State/UnionTerritory').sum()\n",
    "confirmed"
   ]
  },
  {
   "cell_type": "code",
   "execution_count": 33,
   "metadata": {},
   "outputs": [
    {
     "data": {
      "text/plain": [
       "35"
      ]
     },
     "execution_count": 33,
     "metadata": {},
     "output_type": "execute_result"
    }
   ],
   "source": [
    "len(states)"
   ]
  },
  {
   "cell_type": "code",
   "execution_count": 34,
   "metadata": {},
   "outputs": [
    {
     "data": {
      "text/plain": [
       "35"
      ]
     },
     "execution_count": 34,
     "metadata": {},
     "output_type": "execute_result"
    }
   ],
   "source": [
    "len(confirmed['Confirmed'])"
   ]
  },
  {
   "cell_type": "code",
   "execution_count": 37,
   "metadata": {
    "scrolled": false
   },
   "outputs": [
    {
     "data": {
      "image/png": "[encoded data removed]",
      "text/plain": [
       "<Figure size 720x504 with 1 Axes>"
      ]
     },
     "metadata": {
      "needs_background": "light"
     },
     "output_type": "display_data"
    },
    {
     "data": {
      "application/vnd.plotly.v1+json": {
       "config": {
        "plotlyServerURL": "https://plot.ly"
       },
       "data": [
        {
         "alignmentgroup": "True",
         "hovertemplate": "State/Union Territory=%{x}<br>Confirmed Cases=%{y}<extra></extra>",
         "legendgroup": "",
         "marker": {
          "color": "#636efa"
         },
         "name": "",
         "offsetgroup": "",
         "orientation": "v",
         "showlegend": false,
         "textposition": "auto",
         "type": "bar",
         "x": [
          "Andaman and Nicobar Islands",
          "Andhra Pradesh",
          "Arunachal Pradesh",
          "Assam",
          "Bihar",
          "Chandigarh",
          "Chhattisgarh",
          "Dadar Nagar Haveli",
          "Delhi",
          "Goa",
          "Gujarat",
          "Haryana",
          "Himachal Pradesh",
          "Jammu and Kashmir",
          "Jharkhand",
          "Karnataka",
          "Kerala",
          "Ladakh",
          "Madhya Pradesh",
          "Maharashtra",
          "Manipur",
          "Meghalaya",
          "Mizoram",
          "Nagaland",
          "Odisha",
          "Puducherry",
          "Punjab",
          "Rajasthan",
          "Tamil Nadu",
          "Telengana",
          "Tripura",
          "Unassigned",
          "Uttar Pradesh",
          "Uttarakhand",
          "West Bengal"
         ],
         "xaxis": "x",
         "y": [
          719,
          27869,
          34,
          1158,
          6571,
          1359,
          1124,
          1,
          73099,
          271,
          72664,
          8816,
          1128,
          12980,
          1728,
          13772,
          16270,
          911,
          49719,
          186125,
          78,
          248,
          43,
          2,
          2800,
          254,
          11259,
          51008,
          53777,
          26382,
          140,
          161,
          44390,
          1509,
          15039
         ],
         "yaxis": "y"
        }
       ],
       "layout": {
        "barmode": "relative",
        "legend": {
         "tracegroupgap": 0
        },
        "margin": {
         "t": 60
        },
        "template": {
         "data": {
          "bar": [
           {
            "error_x": {
             "color": "#2a3f5f"
            },
            "error_y": {
             "color": "#2a3f5f"
            },
            "marker": {
             "line": {
              "color": "#E5ECF6",
              "width": 0.5
             }
            },
            "type": "bar"
           }
          ],
          "barpolar": [
           {
            "marker": {
             "line": {
              "color": "#E5ECF6",
              "width": 0.5
             }
            },
            "type": "barpolar"
           }
          ],
          "carpet": [
           {
            "aaxis": {
             "endlinecolor": "#2a3f5f",
             "gridcolor": "white",
             "linecolor": "white",
             "minorgridcolor": "white",
             "startlinecolor": "#2a3f5f"
            },
            "baxis": {
             "endlinecolor": "#2a3f5f",
             "gridcolor": "white",
             "linecolor": "white",
             "minorgridcolor": "white",
             "startlinecolor": "#2a3f5f"
            },
            "type": "carpet"
           }
          ],
          "choropleth": [
           {
            "colorbar": {
             "outlinewidth": 0,
             "ticks": ""
            },
            "type": "choropleth"
           }
          ],
          "contour": [
           {
            "colorbar": {
             "outlinewidth": 0,
             "ticks": ""
            },
            "colorscale": [
             [
              0,
              "#0d0887"
             ],
             [
              0.1111111111111111,
              "#46039f"
             ],
             [
              0.2222222222222222,
              "#7201a8"
             ],
             [
              0.3333333333333333,
              "#9c179e"
             ],
             [
              0.4444444444444444,
              "#bd3786"
             ],
             [
              0.5555555555555556,
              "#d8576b"
             ],
             [
              0.6666666666666666,
              "#ed7953"
             ],
             [
              0.7777777777777778,
              "#fb9f3a"
             ],
             [
              0.8888888888888888,
              "#fdca26"
             ],
             [
              1,
              "#f0f921"
             ]
            ],
            "type": "contour"
           }
          ],
          "contourcarpet": [
           {
            "colorbar": {
             "outlinewidth": 0,
             "ticks": ""
            },
            "type": "contourcarpet"
           }
          ],
          "heatmap": [
           {
            "colorbar": {
             "outlinewidth": 0,
             "ticks": ""
            },
            "colorscale": [
             [
              0,
              "#0d0887"
             ],
             [
              0.1111111111111111,
              "#46039f"
             ],
             [
              0.2222222222222222,
              "#7201a8"
             ],
             [
              0.3333333333333333,
              "#9c179e"
             ],
             [
              0.4444444444444444,
              "#bd3786"
             ],
             [
              0.5555555555555556,
              "#d8576b"
             ],
             [
              0.6666666666666666,
              "#ed7953"
             ],
             [
              0.7777777777777778,
              "#fb9f3a"
             ],
             [
              0.8888888888888888,
              "#fdca26"
             ],
             [
              1,
              "#f0f921"
             ]
            ],
            "type": "heatmap"
           }
          ],
          "heatmapgl": [
           {
            "colorbar": {
             "outlinewidth": 0,
             "ticks": ""
            },
            "colorscale": [
             [
              0,
              "#0d0887"
             ],
             [
              0.1111111111111111,
              "#46039f"
             ],
             [
              0.2222222222222222,
              "#7201a8"
             ],
             [
              0.3333333333333333,
              "#9c179e"
             ],
             [
              0.4444444444444444,
              "#bd3786"
             ],
             [
              0.5555555555555556,
              "#d8576b"
             ],
             [
              0.6666666666666666,
              "#ed7953"
             ],
             [
              0.7777777777777778,
              "#fb9f3a"
             ],
             [
              0.8888888888888888,
              "#fdca26"
             ],
             [
              1,
              "#f0f921"
             ]
            ],
            "type": "heatmapgl"
           }
          ],
          "histogram": [
           {
            "marker": {
             "colorbar": {
              "outlinewidth": 0,
              "ticks": ""
             }
            },
            "type": "histogram"
           }
          ],
          "histogram2d": [
           {
            "colorbar": {
             "outlinewidth": 0,
             "ticks": ""
            },
            "colorscale": [
             [
              0,
              "#0d0887"
             ],
             [
              0.1111111111111111,
              "#46039f"
             ],
             [
              0.2222222222222222,
              "#7201a8"
             ],
             [
              0.3333333333333333,
              "#9c179e"
             ],
             [
              0.4444444444444444,
              "#bd3786"
             ],
             [
              0.5555555555555556,
              "#d8576b"
             ],
             [
              0.6666666666666666,
              "#ed7953"
             ],
             [
              0.7777777777777778,
              "#fb9f3a"
             ],
             [
              0.8888888888888888,
              "#fdca26"
             ],
             [
              1,
              "#f0f921"
             ]
            ],
            "type": "histogram2d"
           }
          ],
          "histogram2dcontour": [
           {
            "colorbar": {
             "outlinewidth": 0,
             "ticks": ""
            },
            "colorscale": [
             [
              0,
              "#0d0887"
             ],
             [
              0.1111111111111111,
              "#46039f"
             ],
             [
              0.2222222222222222,
              "#7201a8"
             ],
             [
              0.3333333333333333,
              "#9c179e"
             ],
             [
              0.4444444444444444,
              "#bd3786"
             ],
             [
              0.5555555555555556,
              "#d8576b"
             ],
             [
              0.6666666666666666,
              "#ed7953"
             ],
             [
              0.7777777777777778,
              "#fb9f3a"
             ],
             [
              0.8888888888888888,
              "#fdca26"
             ],
             [
              1,
              "#f0f921"
             ]
            ],
            "type": "histogram2dcontour"
           }
          ],
          "mesh3d": [
           {
            "colorbar": {
             "outlinewidth": 0,
             "ticks": ""
            },
            "type": "mesh3d"
           }
          ],
          "parcoords": [
           {
            "line": {
             "colorbar": {
              "outlinewidth": 0,
              "ticks": ""
             }
            },
            "type": "parcoords"
           }
          ],
          "pie": [
           {
            "automargin": true,
            "type": "pie"
           }
          ],
          "scatter": [
           {
            "marker": {
             "colorbar": {
              "outlinewidth": 0,
              "ticks": ""
             }
            },
            "type": "scatter"
           }
          ],
          "scatter3d": [
           {
            "line": {
             "colorbar": {
              "outlinewidth": 0,
              "ticks": ""
             }
            },
            "marker": {
             "colorbar": {
              "outlinewidth": 0,
              "ticks": ""
             }
            },
            "type": "scatter3d"
           }
          ],
          "scattercarpet": [
           {
            "marker": {
             "colorbar": {
              "outlinewidth": 0,
              "ticks": ""
             }
            },
            "type": "scattercarpet"
           }
          ],
          "scattergeo": [
           {
            "marker": {
             "colorbar": {
              "outlinewidth": 0,
              "ticks": ""
             }
            },
            "type": "scattergeo"
           }
          ],
          "scattergl": [
           {
            "marker": {
             "colorbar": {
              "outlinewidth": 0,
              "ticks": ""
             }
            },
            "type": "scattergl"
           }
          ],
          "scattermapbox": [
           {
            "marker": {
             "colorbar": {
              "outlinewidth": 0,
              "ticks": ""
             }
            },
            "type": "scattermapbox"
           }
          ],
          "scatterpolar": [
           {
            "marker": {
             "colorbar": {
              "outlinewidth": 0,
              "ticks": ""
             }
            },
            "type": "scatterpolar"
           }
          ],
          "scatterpolargl": [
           {
            "marker": {
             "colorbar": {
              "outlinewidth": 0,
              "ticks": ""
             }
            },
            "type": "scatterpolargl"
           }
          ],
          "scatterternary": [
           {
            "marker": {
             "colorbar": {
              "outlinewidth": 0,
              "ticks": ""
             }
            },
            "type": "scatterternary"
           }
          ],
          "surface": [
           {
            "colorbar": {
             "outlinewidth": 0,
             "ticks": ""
            },
            "colorscale": [
             [
              0,
              "#0d0887"
             ],
             [
              0.1111111111111111,
              "#46039f"
             ],
             [
              0.2222222222222222,
              "#7201a8"
             ],
             [
              0.3333333333333333,
              "#9c179e"
             ],
             [
              0.4444444444444444,
              "#bd3786"
             ],
             [
              0.5555555555555556,
              "#d8576b"
             ],
             [
              0.6666666666666666,
              "#ed7953"
             ],
             [
              0.7777777777777778,
              "#fb9f3a"
             ],
             [
              0.8888888888888888,
              "#fdca26"
             ],
             [
              1,
              "#f0f921"
             ]
            ],
            "type": "surface"
           }
          ],
          "table": [
           {
            "cells": {
             "fill": {
              "color": "#EBF0F8"
             },
             "line": {
              "color": "white"
             }
            },
            "header": {
             "fill": {
              "color": "#C8D4E3"
             },
             "line": {
              "color": "white"
             }
            },
            "type": "table"
           }
          ]
         },
         "layout": {
          "annotationdefaults": {
           "arrowcolor": "#2a3f5f",
           "arrowhead": 0,
           "arrowwidth": 1
          },
          "coloraxis": {
           "colorbar": {
            "outlinewidth": 0,
            "ticks": ""
           }
          },
          "colorscale": {
           "diverging": [
            [
             0,
             "#8e0152"
            ],
            [
             0.1,
             "#c51b7d"
            ],
            [
             0.2,
             "#de77ae"
            ],
            [
             0.3,
             "#f1b6da"
            ],
            [
             0.4,
             "#fde0ef"
            ],
            [
             0.5,
             "#f7f7f7"
            ],
            [
             0.6,
             "#e6f5d0"
            ],
            [
             0.7,
             "#b8e186"
            ],
            [
             0.8,
             "#7fbc41"
            ],
            [
             0.9,
             "#4d9221"
            ],
            [
             1,
             "#276419"
            ]
           ],
           "sequential": [
            [
             0,
             "#0d0887"
            ],
            [
             0.1111111111111111,
             "#46039f"
            ],
            [
             0.2222222222222222,
             "#7201a8"
            ],
            [
             0.3333333333333333,
             "#9c179e"
            ],
            [
             0.4444444444444444,
             "#bd3786"
            ],
            [
             0.5555555555555556,
             "#d8576b"
            ],
            [
             0.6666666666666666,
             "#ed7953"
            ],
            [
             0.7777777777777778,
             "#fb9f3a"
            ],
            [
             0.8888888888888888,
             "#fdca26"
            ],
            [
             1,
             "#f0f921"
            ]
           ],
           "sequentialminus": [
            [
             0,
             "#0d0887"
            ],
            [
             0.1111111111111111,
             "#46039f"
            ],
            [
             0.2222222222222222,
             "#7201a8"
            ],
            [
             0.3333333333333333,
             "#9c179e"
            ],
            [
             0.4444444444444444,
             "#bd3786"
            ],
            [
             0.5555555555555556,
             "#d8576b"
            ],
            [
             0.6666666666666666,
             "#ed7953"
            ],
            [
             0.7777777777777778,
             "#fb9f3a"
            ],
            [
             0.8888888888888888,
             "#fdca26"
            ],
            [
             1,
             "#f0f921"
            ]
           ]
          },
          "colorway": [
           "#636efa",
           "#EF553B",
           "#00cc96",
           "#ab63fa",
           "#FFA15A",
           "#19d3f3",
           "#FF6692",
           "#B6E880",
           "#FF97FF",
           "#FECB52"
          ],
          "font": {
           "color": "#2a3f5f"
          },
          "geo": {
           "bgcolor": "white",
           "lakecolor": "white",
           "landcolor": "#E5ECF6",
           "showlakes": true,
           "showland": true,
           "subunitcolor": "white"
          },
          "hoverlabel": {
           "align": "left"
          },
          "hovermode": "closest",
          "mapbox": {
           "style": "light"
          },
          "paper_bgcolor": "white",
          "plot_bgcolor": "#E5ECF6",
          "polar": {
           "angularaxis": {
            "gridcolor": "white",
            "linecolor": "white",
            "ticks": ""
           },
           "bgcolor": "#E5ECF6",
           "radialaxis": {
            "gridcolor": "white",
            "linecolor": "white",
            "ticks": ""
           }
          },
          "scene": {
           "xaxis": {
            "backgroundcolor": "#E5ECF6",
            "gridcolor": "white",
            "gridwidth": 2,
            "linecolor": "white",
            "showbackground": true,
            "ticks": "",
            "zerolinecolor": "white"
           },
           "yaxis": {
            "backgroundcolor": "#E5ECF6",
            "gridcolor": "white",
            "gridwidth": 2,
            "linecolor": "white",
            "showbackground": true,
            "ticks": "",
            "zerolinecolor": "white"
           },
           "zaxis": {
            "backgroundcolor": "#E5ECF6",
            "gridcolor": "white",
            "gridwidth": 2,
            "linecolor": "white",
            "showbackground": true,
            "ticks": "",
            "zerolinecolor": "white"
           }
          },
          "shapedefaults": {
           "line": {
            "color": "#2a3f5f"
           }
          },
          "ternary": {
           "aaxis": {
            "gridcolor": "white",
            "linecolor": "white",
            "ticks": ""
           },
           "baxis": {
            "gridcolor": "white",
            "linecolor": "white",
            "ticks": ""
           },
           "bgcolor": "#E5ECF6",
           "caxis": {
            "gridcolor": "white",
            "linecolor": "white",
            "ticks": ""
           }
          },
          "title": {
           "x": 0.05
          },
          "xaxis": {
           "automargin": true,
           "gridcolor": "white",
           "linecolor": "white",
           "ticks": "",
           "title": {
            "standoff": 15
           },
           "zerolinecolor": "white",
           "zerolinewidth": 2
          },
          "yaxis": {
           "automargin": true,
           "gridcolor": "white",
           "linecolor": "white",
           "ticks": "",
           "title": {
            "standoff": 15
           },
           "zerolinecolor": "white",
           "zerolinewidth": 2
          }
         }
        },
        "xaxis": {
         "anchor": "y",
         "domain": [
          0,
          1
         ],
         "title": {
          "text": "State/Union Territory"
         }
        },
        "yaxis": {
         "anchor": "x",
         "domain": [
          0,
          1
         ],
         "title": {
          "text": "Confirmed Cases"
         }
        }
       }
      },
      "text/html": [
       "<div>\n",
       "        \n",
       "        \n",
       "            <div id=\"597d5ed9-de84-44a1-88ec-931dbde24ba4\" class=\"plotly-graph-div\" style=\"height:525px; width:100%;\"></div>\n",
       "            <script type=\"text/javascript\">\n",
       "                require([\"plotly\"], function(Plotly) {\n",
       "                    window.PLOTLYENV=window.PLOTLYENV || {};\n",
       "                    \n",
       "                if (document.getElementById(\"597d5ed9-de84-44a1-88ec-931dbde24ba4\")) {\n",
       "                    Plotly.newPlot(\n",
       "                        '597d5ed9-de84-44a1-88ec-931dbde24ba4',\n",
       "                        [{\"alignmentgroup\": \"True\", \"hovertemplate\": \"State/Union Territory=%{x}<br>Confirmed Cases=%{y}<extra></extra>\", \"legendgroup\": \"\", \"marker\": {\"color\": \"#636efa\"}, \"name\": \"\", \"offsetgroup\": \"\", \"orientation\": \"v\", \"showlegend\": false, \"textposition\": \"auto\", \"type\": \"bar\", \"x\": [\"Andaman and Nicobar Islands\", \"Andhra Pradesh\", \"Arunachal Pradesh\", \"Assam\", \"Bihar\", \"Chandigarh\", \"Chhattisgarh\", \"Dadar Nagar Haveli\", \"Delhi\", \"Goa\", \"Gujarat\", \"Haryana\", \"Himachal Pradesh\", \"Jammu and Kashmir\", \"Jharkhand\", \"Karnataka\", \"Kerala\", \"Ladakh\", \"Madhya Pradesh\", \"Maharashtra\", \"Manipur\", \"Meghalaya\", \"Mizoram\", \"Nagaland\", \"Odisha\", \"Puducherry\", \"Punjab\", \"Rajasthan\", \"Tamil Nadu\", \"Telengana\", \"Tripura\", \"Unassigned\", \"Uttar Pradesh\", \"Uttarakhand\", \"West Bengal\"], \"xaxis\": \"x\", \"y\": [719, 27869, 34, 1158, 6571, 1359, 1124, 1, 73099, 271, 72664, 8816, 1128, 12980, 1728, 13772, 16270, 911, 49719, 186125, 78, 248, 43, 2, 2800, 254, 11259, 51008, 53777, 26382, 140, 161, 44390, 1509, 15039], \"yaxis\": \"y\"}],\n",
       "                        {\"barmode\": \"relative\", \"legend\": {\"tracegroupgap\": 0}, \"margin\": {\"t\": 60}, \"template\": {\"data\": {\"bar\": [{\"error_x\": {\"color\": \"#2a3f5f\"}, \"error_y\": {\"color\": \"#2a3f5f\"}, \"marker\": {\"line\": {\"color\": \"#E5ECF6\", \"width\": 0.5}}, \"type\": \"bar\"}], \"barpolar\": [{\"marker\": {\"line\": {\"color\": \"#E5ECF6\", \"width\": 0.5}}, \"type\": \"barpolar\"}], \"carpet\": [{\"aaxis\": {\"endlinecolor\": \"#2a3f5f\", \"gridcolor\": \"white\", \"linecolor\": \"white\", \"minorgridcolor\": \"white\", \"startlinecolor\": \"#2a3f5f\"}, \"baxis\": {\"endlinecolor\": \"#2a3f5f\", \"gridcolor\": \"white\", \"linecolor\": \"white\", \"minorgridcolor\": \"white\", \"startlinecolor\": \"#2a3f5f\"}, \"type\": \"carpet\"}], \"choropleth\": [{\"colorbar\": {\"outlinewidth\": 0, \"ticks\": \"\"}, \"type\": \"choropleth\"}], \"contour\": [{\"colorbar\": {\"outlinewidth\": 0, \"ticks\": \"\"}, \"colorscale\": [[0.0, \"#0d0887\"], [0.1111111111111111, \"#46039f\"], [0.2222222222222222, \"#7201a8\"], [0.3333333333333333, \"#9c179e\"], [0.4444444444444444, \"#bd3786\"], [0.5555555555555556, \"#d8576b\"], [0.6666666666666666, \"#ed7953\"], [0.7777777777777778, \"#fb9f3a\"], [0.8888888888888888, \"#fdca26\"], [1.0, \"#f0f921\"]], \"type\": \"contour\"}], \"contourcarpet\": [{\"colorbar\": {\"outlinewidth\": 0, \"ticks\": \"\"}, \"type\": \"contourcarpet\"}], \"heatmap\": [{\"colorbar\": {\"outlinewidth\": 0, \"ticks\": \"\"}, \"colorscale\": [[0.0, \"#0d0887\"], [0.1111111111111111, \"#46039f\"], [0.2222222222222222, \"#7201a8\"], [0.3333333333333333, \"#9c179e\"], [0.4444444444444444, \"#bd3786\"], [0.5555555555555556, \"#d8576b\"], [0.6666666666666666, \"#ed7953\"], [0.7777777777777778, \"#fb9f3a\"], [0.8888888888888888, \"#fdca26\"], [1.0, \"#f0f921\"]], \"type\": \"heatmap\"}], \"heatmapgl\": [{\"colorbar\": {\"outlinewidth\": 0, \"ticks\": \"\"}, \"colorscale\": [[0.0, \"#0d0887\"], [0.1111111111111111, \"#46039f\"], [0.2222222222222222, \"#7201a8\"], [0.3333333333333333, \"#9c179e\"], [0.4444444444444444, \"#bd3786\"], [0.5555555555555556, \"#d8576b\"], [0.6666666666666666, \"#ed7953\"], [0.7777777777777778, \"#fb9f3a\"], [0.8888888888888888, \"#fdca26\"], [1.0, \"#f0f921\"]], \"type\": \"heatmapgl\"}], \"histogram\": [{\"marker\": {\"colorbar\": {\"outlinewidth\": 0, \"ticks\": \"\"}}, \"type\": \"histogram\"}], \"histogram2d\": [{\"colorbar\": {\"outlinewidth\": 0, \"ticks\": \"\"}, \"colorscale\": [[0.0, \"#0d0887\"], [0.1111111111111111, \"#46039f\"], [0.2222222222222222, \"#7201a8\"], [0.3333333333333333, \"#9c179e\"], [0.4444444444444444, \"#bd3786\"], [0.5555555555555556, \"#d8576b\"], [0.6666666666666666, \"#ed7953\"], [0.7777777777777778, \"#fb9f3a\"], [0.8888888888888888, \"#fdca26\"], [1.0, \"#f0f921\"]], \"type\": \"histogram2d\"}], \"histogram2dcontour\": [{\"colorbar\": {\"outlinewidth\": 0, \"ticks\": \"\"}, \"colorscale\": [[0.0, \"#0d0887\"], [0.1111111111111111, \"#46039f\"], [0.2222222222222222, \"#7201a8\"], [0.3333333333333333, \"#9c179e\"], [0.4444444444444444, \"#bd3786\"], [0.5555555555555556, \"#d8576b\"], [0.6666666666666666, \"#ed7953\"], [0.7777777777777778, \"#fb9f3a\"], [0.8888888888888888, \"#fdca26\"], [1.0, \"#f0f921\"]], \"type\": \"histogram2dcontour\"}], \"mesh3d\": [{\"colorbar\": {\"outlinewidth\": 0, \"ticks\": \"\"}, \"type\": \"mesh3d\"}], \"parcoords\": [{\"line\": {\"colorbar\": {\"outlinewidth\": 0, \"ticks\": \"\"}}, \"type\": \"parcoords\"}], \"pie\": [{\"automargin\": true, \"type\": \"pie\"}], \"scatter\": [{\"marker\": {\"colorbar\": {\"outlinewidth\": 0, \"ticks\": \"\"}}, \"type\": \"scatter\"}], \"scatter3d\": [{\"line\": {\"colorbar\": {\"outlinewidth\": 0, \"ticks\": \"\"}}, \"marker\": {\"colorbar\": {\"outlinewidth\": 0, \"ticks\": \"\"}}, \"type\": \"scatter3d\"}], \"scattercarpet\": [{\"marker\": {\"colorbar\": {\"outlinewidth\": 0, \"ticks\": \"\"}}, \"type\": \"scattercarpet\"}], \"scattergeo\": [{\"marker\": {\"colorbar\": {\"outlinewidth\": 0, \"ticks\": \"\"}}, \"type\": \"scattergeo\"}], \"scattergl\": [{\"marker\": {\"colorbar\": {\"outlinewidth\": 0, \"ticks\": \"\"}}, \"type\": \"scattergl\"}], \"scattermapbox\": [{\"marker\": {\"colorbar\": {\"outlinewidth\": 0, \"ticks\": \"\"}}, \"type\": \"scattermapbox\"}], \"scatterpolar\": [{\"marker\": {\"colorbar\": {\"outlinewidth\": 0, \"ticks\": \"\"}}, \"type\": \"scatterpolar\"}], \"scatterpolargl\": [{\"marker\": {\"colorbar\": {\"outlinewidth\": 0, \"ticks\": \"\"}}, \"type\": \"scatterpolargl\"}], \"scatterternary\": [{\"marker\": {\"colorbar\": {\"outlinewidth\": 0, \"ticks\": \"\"}}, \"type\": \"scatterternary\"}], \"surface\": [{\"colorbar\": {\"outlinewidth\": 0, \"ticks\": \"\"}, \"colorscale\": [[0.0, \"#0d0887\"], [0.1111111111111111, \"#46039f\"], [0.2222222222222222, \"#7201a8\"], [0.3333333333333333, \"#9c179e\"], [0.4444444444444444, \"#bd3786\"], [0.5555555555555556, \"#d8576b\"], [0.6666666666666666, \"#ed7953\"], [0.7777777777777778, \"#fb9f3a\"], [0.8888888888888888, \"#fdca26\"], [1.0, \"#f0f921\"]], \"type\": \"surface\"}], \"table\": [{\"cells\": {\"fill\": {\"color\": \"#EBF0F8\"}, \"line\": {\"color\": \"white\"}}, \"header\": {\"fill\": {\"color\": \"#C8D4E3\"}, \"line\": {\"color\": \"white\"}}, \"type\": \"table\"}]}, \"layout\": {\"annotationdefaults\": {\"arrowcolor\": \"#2a3f5f\", \"arrowhead\": 0, \"arrowwidth\": 1}, \"coloraxis\": {\"colorbar\": {\"outlinewidth\": 0, \"ticks\": \"\"}}, \"colorscale\": {\"diverging\": [[0, \"#8e0152\"], [0.1, \"#c51b7d\"], [0.2, \"#de77ae\"], [0.3, \"#f1b6da\"], [0.4, \"#fde0ef\"], [0.5, \"#f7f7f7\"], [0.6, \"#e6f5d0\"], [0.7, \"#b8e186\"], [0.8, \"#7fbc41\"], [0.9, \"#4d9221\"], [1, \"#276419\"]], \"sequential\": [[0.0, \"#0d0887\"], [0.1111111111111111, \"#46039f\"], [0.2222222222222222, \"#7201a8\"], [0.3333333333333333, \"#9c179e\"], [0.4444444444444444, \"#bd3786\"], [0.5555555555555556, \"#d8576b\"], [0.6666666666666666, \"#ed7953\"], [0.7777777777777778, \"#fb9f3a\"], [0.8888888888888888, \"#fdca26\"], [1.0, \"#f0f921\"]], \"sequentialminus\": [[0.0, \"#0d0887\"], [0.1111111111111111, \"#46039f\"], [0.2222222222222222, \"#7201a8\"], [0.3333333333333333, \"#9c179e\"], [0.4444444444444444, \"#bd3786\"], [0.5555555555555556, \"#d8576b\"], [0.6666666666666666, \"#ed7953\"], [0.7777777777777778, \"#fb9f3a\"], [0.8888888888888888, \"#fdca26\"], [1.0, \"#f0f921\"]]}, \"colorway\": [\"#636efa\", \"#EF553B\", \"#00cc96\", \"#ab63fa\", \"#FFA15A\", \"#19d3f3\", \"#FF6692\", \"#B6E880\", \"#FF97FF\", \"#FECB52\"], \"font\": {\"color\": \"#2a3f5f\"}, \"geo\": {\"bgcolor\": \"white\", \"lakecolor\": \"white\", \"landcolor\": \"#E5ECF6\", \"showlakes\": true, \"showland\": true, \"subunitcolor\": \"white\"}, \"hoverlabel\": {\"align\": \"left\"}, \"hovermode\": \"closest\", \"mapbox\": {\"style\": \"light\"}, \"paper_bgcolor\": \"white\", \"plot_bgcolor\": \"#E5ECF6\", \"polar\": {\"angularaxis\": {\"gridcolor\": \"white\", \"linecolor\": \"white\", \"ticks\": \"\"}, \"bgcolor\": \"#E5ECF6\", \"radialaxis\": {\"gridcolor\": \"white\", \"linecolor\": \"white\", \"ticks\": \"\"}}, \"scene\": {\"xaxis\": {\"backgroundcolor\": \"#E5ECF6\", \"gridcolor\": \"white\", \"gridwidth\": 2, \"linecolor\": \"white\", \"showbackground\": true, \"ticks\": \"\", \"zerolinecolor\": \"white\"}, \"yaxis\": {\"backgroundcolor\": \"#E5ECF6\", \"gridcolor\": \"white\", \"gridwidth\": 2, \"linecolor\": \"white\", \"showbackground\": true, \"ticks\": \"\", \"zerolinecolor\": \"white\"}, \"zaxis\": {\"backgroundcolor\": \"#E5ECF6\", \"gridcolor\": \"white\", \"gridwidth\": 2, \"linecolor\": \"white\", \"showbackground\": true, \"ticks\": \"\", \"zerolinecolor\": \"white\"}}, \"shapedefaults\": {\"line\": {\"color\": \"#2a3f5f\"}}, \"ternary\": {\"aaxis\": {\"gridcolor\": \"white\", \"linecolor\": \"white\", \"ticks\": \"\"}, \"baxis\": {\"gridcolor\": \"white\", \"linecolor\": \"white\", \"ticks\": \"\"}, \"bgcolor\": \"#E5ECF6\", \"caxis\": {\"gridcolor\": \"white\", \"linecolor\": \"white\", \"ticks\": \"\"}}, \"title\": {\"x\": 0.05}, \"xaxis\": {\"automargin\": true, \"gridcolor\": \"white\", \"linecolor\": \"white\", \"ticks\": \"\", \"title\": {\"standoff\": 15}, \"zerolinecolor\": \"white\", \"zerolinewidth\": 2}, \"yaxis\": {\"automargin\": true, \"gridcolor\": \"white\", \"linecolor\": \"white\", \"ticks\": \"\", \"title\": {\"standoff\": 15}, \"zerolinecolor\": \"white\", \"zerolinewidth\": 2}}}, \"xaxis\": {\"anchor\": \"y\", \"domain\": [0.0, 1.0], \"title\": {\"text\": \"State/Union Territory\"}}, \"yaxis\": {\"anchor\": \"x\", \"domain\": [0.0, 1.0], \"title\": {\"text\": \"Confirmed Cases\"}}},\n",
       "                        {\"responsive\": true}\n",
       "                    ).then(function(){\n",
       "                            \n",
       "var gd = document.getElementById('597d5ed9-de84-44a1-88ec-931dbde24ba4');\n",
       "var x = new MutationObserver(function (mutations, observer) {{\n",
       "        var display = window.getComputedStyle(gd).display;\n",
       "        if (!display || display === 'none') {{\n",
       "            console.log([gd, 'removed!']);\n",
       "            Plotly.purge(gd);\n",
       "            observer.disconnect();\n",
       "        }}\n",
       "}});\n",
       "\n",
       "// Listen for the removal of the full notebook cells\n",
       "var notebookContainer = gd.closest('#notebook-container');\n",
       "if (notebookContainer) {{\n",
       "    x.observe(notebookContainer, {childList: true});\n",
       "}}\n",
       "\n",
       "// Listen for the clearing of the current output cell\n",
       "var outputEl = gd.closest('.output');\n",
       "if (outputEl) {{\n",
       "    x.observe(outputEl, {childList: true});\n",
       "}}\n",
       "\n",
       "                        })\n",
       "                };\n",
       "                });\n",
       "            </script>\n",
       "        </div>"
      ]
     },
     "metadata": {},
     "output_type": "display_data"
    }
   ],
   "source": [
    "#matplotlib\n",
    "plt.figure(figsize=(10,7))\n",
    "plt.bar(states,confirmed['Confirmed'])\n",
    "plt.xticks(rotation = 90)\n",
    "plt.xlabel('states')\n",
    "plt.ylabel('confirmed cases')\n",
    "plt.show()\n",
    "\n",
    "#plotty\n",
    "px.bar(x = states,y = confirmed['Confirmed'],labels={'x':'State/Union Territory','y':'Confirmed Cases'})"
   ]
  },
  {
   "cell_type": "markdown",
   "metadata": {},
   "source": [
    "### Q2) In which month does the covid cases reported the highest? "
   ]
  },
  {
   "cell_type": "code",
   "execution_count": 38,
   "metadata": {},
   "outputs": [
    {
     "data": {
      "text/html": [
       "<div>\n",
       "<style scoped>\n",
       "    .dataframe tbody tr th:only-of-type {\n",
       "        vertical-align: middle;\n",
       "    }\n",
       "\n",
       "    .dataframe tbody tr th {\n",
       "        vertical-align: top;\n",
       "    }\n",
       "\n",
       "    .dataframe thead th {\n",
       "        text-align: right;\n",
       "    }\n",
       "</style>\n",
       "<table border=\"1\" class=\"dataframe\">\n",
       "  <thead>\n",
       "    <tr style=\"text-align: right;\">\n",
       "      <th></th>\n",
       "      <th>Date</th>\n",
       "      <th>Time</th>\n",
       "      <th>State/UnionTerritory</th>\n",
       "      <th>ConfirmedIndianNational</th>\n",
       "      <th>ConfirmedForeignNational</th>\n",
       "      <th>Cured</th>\n",
       "      <th>Deaths</th>\n",
       "      <th>Confirmed</th>\n",
       "    </tr>\n",
       "  </thead>\n",
       "  <tbody>\n",
       "    <tr>\n",
       "      <th>0</th>\n",
       "      <td>30/01/20</td>\n",
       "      <td>6:00 PM</td>\n",
       "      <td>Kerala</td>\n",
       "      <td>1</td>\n",
       "      <td>0</td>\n",
       "      <td>0</td>\n",
       "      <td>0</td>\n",
       "      <td>1</td>\n",
       "    </tr>\n",
       "    <tr>\n",
       "      <th>1</th>\n",
       "      <td>31/01/20</td>\n",
       "      <td>6:00 PM</td>\n",
       "      <td>Kerala</td>\n",
       "      <td>1</td>\n",
       "      <td>0</td>\n",
       "      <td>0</td>\n",
       "      <td>0</td>\n",
       "      <td>1</td>\n",
       "    </tr>\n",
       "    <tr>\n",
       "      <th>2</th>\n",
       "      <td>01/02/20</td>\n",
       "      <td>6:00 PM</td>\n",
       "      <td>Kerala</td>\n",
       "      <td>2</td>\n",
       "      <td>0</td>\n",
       "      <td>0</td>\n",
       "      <td>0</td>\n",
       "      <td>2</td>\n",
       "    </tr>\n",
       "    <tr>\n",
       "      <th>3</th>\n",
       "      <td>02/02/20</td>\n",
       "      <td>6:00 PM</td>\n",
       "      <td>Kerala</td>\n",
       "      <td>3</td>\n",
       "      <td>0</td>\n",
       "      <td>0</td>\n",
       "      <td>0</td>\n",
       "      <td>3</td>\n",
       "    </tr>\n",
       "    <tr>\n",
       "      <th>4</th>\n",
       "      <td>03/02/20</td>\n",
       "      <td>6:00 PM</td>\n",
       "      <td>Kerala</td>\n",
       "      <td>3</td>\n",
       "      <td>0</td>\n",
       "      <td>0</td>\n",
       "      <td>0</td>\n",
       "      <td>3</td>\n",
       "    </tr>\n",
       "  </tbody>\n",
       "</table>\n",
       "</div>"
      ],
      "text/plain": [
       "       Date     Time State/UnionTerritory ConfirmedIndianNational  \\\n",
       "0  30/01/20  6:00 PM               Kerala                       1   \n",
       "1  31/01/20  6:00 PM               Kerala                       1   \n",
       "2  01/02/20  6:00 PM               Kerala                       2   \n",
       "3  02/02/20  6:00 PM               Kerala                       3   \n",
       "4  03/02/20  6:00 PM               Kerala                       3   \n",
       "\n",
       "  ConfirmedForeignNational  Cured  Deaths  Confirmed  \n",
       "0                        0      0       0          1  \n",
       "1                        0      0       0          1  \n",
       "2                        0      0       0          2  \n",
       "3                        0      0       0          3  \n",
       "4                        0      0       0          3  "
      ]
     },
     "execution_count": 38,
     "metadata": {},
     "output_type": "execute_result"
    }
   ],
   "source": [
    "df.head()"
   ]
  },
  {
   "cell_type": "code",
   "execution_count": 39,
   "metadata": {},
   "outputs": [],
   "source": [
    "df['Month'] = df['Date'].str[3:5]"
   ]
  },
  {
   "cell_type": "code",
   "execution_count": 40,
   "metadata": {},
   "outputs": [
    {
     "data": {
      "text/html": [
       "<div>\n",
       "<style scoped>\n",
       "    .dataframe tbody tr th:only-of-type {\n",
       "        vertical-align: middle;\n",
       "    }\n",
       "\n",
       "    .dataframe tbody tr th {\n",
       "        vertical-align: top;\n",
       "    }\n",
       "\n",
       "    .dataframe thead th {\n",
       "        text-align: right;\n",
       "    }\n",
       "</style>\n",
       "<table border=\"1\" class=\"dataframe\">\n",
       "  <thead>\n",
       "    <tr style=\"text-align: right;\">\n",
       "      <th></th>\n",
       "      <th>Cured</th>\n",
       "      <th>Deaths</th>\n",
       "      <th>Confirmed</th>\n",
       "    </tr>\n",
       "    <tr>\n",
       "      <th>Month</th>\n",
       "      <th></th>\n",
       "      <th></th>\n",
       "      <th></th>\n",
       "    </tr>\n",
       "  </thead>\n",
       "  <tbody>\n",
       "    <tr>\n",
       "      <th>01</th>\n",
       "      <td>0</td>\n",
       "      <td>0</td>\n",
       "      <td>2</td>\n",
       "    </tr>\n",
       "    <tr>\n",
       "      <th>02</th>\n",
       "      <td>0</td>\n",
       "      <td>0</td>\n",
       "      <td>86</td>\n",
       "    </tr>\n",
       "    <tr>\n",
       "      <th>03</th>\n",
       "      <td>808</td>\n",
       "      <td>202</td>\n",
       "      <td>9687</td>\n",
       "    </tr>\n",
       "    <tr>\n",
       "      <th>04</th>\n",
       "      <td>75443</td>\n",
       "      <td>13270</td>\n",
       "      <td>422442</td>\n",
       "    </tr>\n",
       "    <tr>\n",
       "      <th>05</th>\n",
       "      <td>69009</td>\n",
       "      <td>8342</td>\n",
       "      <td>251191</td>\n",
       "    </tr>\n",
       "  </tbody>\n",
       "</table>\n",
       "</div>"
      ],
      "text/plain": [
       "       Cured  Deaths  Confirmed\n",
       "Month                          \n",
       "01         0       0          2\n",
       "02         0       0         86\n",
       "03       808     202       9687\n",
       "04     75443   13270     422442\n",
       "05     69009    8342     251191"
      ]
     },
     "execution_count": 40,
     "metadata": {},
     "output_type": "execute_result"
    }
   ],
   "source": [
    "df.groupby('Month').sum()"
   ]
  },
  {
   "cell_type": "markdown",
   "metadata": {},
   "source": [
    "In the month of april, covid cases seen the highest record."
   ]
  },
  {
   "cell_type": "markdown",
   "metadata": {},
   "source": [
    "### Q3) How many active cases are there in each state?"
   ]
  },
  {
   "cell_type": "code",
   "execution_count": 41,
   "metadata": {},
   "outputs": [],
   "source": [
    "df['Active Cases'] = df['Confirmed'] - (df['Cured'] + df['Deaths'])"
   ]
  },
  {
   "cell_type": "code",
   "execution_count": 42,
   "metadata": {},
   "outputs": [],
   "source": [
    "active = df.groupby('State/UnionTerritory').sum()"
   ]
  },
  {
   "cell_type": "code",
   "execution_count": 43,
   "metadata": {},
   "outputs": [
    {
     "data": {
      "image/png": "[encoded data removed]",
      "text/plain": [
       "<Figure size 1080x360 with 1 Axes>"
      ]
     },
     "metadata": {
      "needs_background": "light"
     },
     "output_type": "display_data"
    },
    {
     "data": {
      "application/vnd.plotly.v1+json": {
       "config": {
        "plotlyServerURL": "https://plot.ly"
       },
       "data": [
        {
         "alignmentgroup": "True",
         "hovertemplate": "States/Union Territory=%{x}<br>Active Cases=%{y}<extra></extra>",
         "legendgroup": "",
         "marker": {
          "color": "#636efa"
         },
         "name": "",
         "offsetgroup": "",
         "orientation": "v",
         "showlegend": false,
         "textposition": "auto",
         "type": "bar",
         "x": [
          "Andaman and Nicobar Islands",
          "Andhra Pradesh",
          "Arunachal Pradesh",
          "Assam",
          "Bihar",
          "Chandigarh",
          "Chhattisgarh",
          "Dadar Nagar Haveli",
          "Delhi",
          "Goa",
          "Gujarat",
          "Haryana",
          "Himachal Pradesh",
          "Jammu and Kashmir",
          "Jharkhand",
          "Karnataka",
          "Kerala",
          "Ladakh",
          "Madhya Pradesh",
          "Maharashtra",
          "Manipur",
          "Meghalaya",
          "Mizoram",
          "Nagaland",
          "Odisha",
          "Puducherry",
          "Punjab",
          "Rajasthan",
          "Tamil Nadu",
          "Telengana",
          "Tripura",
          "Unassigned",
          "Uttar Pradesh",
          "Uttarakhand",
          "West Bengal"
         ],
         "xaxis": "x",
         "y": [
          363,
          21907,
          18,
          671,
          5007,
          977,
          383,
          1,
          54894,
          107,
          59490,
          4818,
          531,
          9612,
          1412,
          8894,
          7526,
          461,
          39378,
          150381,
          33,
          206,
          43,
          2,
          1925,
          164,
          9205,
          37056,
          34429,
          18533,
          108,
          161,
          35085,
          889,
          11664
         ],
         "yaxis": "y"
        }
       ],
       "layout": {
        "barmode": "relative",
        "legend": {
         "tracegroupgap": 0
        },
        "margin": {
         "t": 60
        },
        "template": {
         "data": {
          "bar": [
           {
            "error_x": {
             "color": "#2a3f5f"
            },
            "error_y": {
             "color": "#2a3f5f"
            },
            "marker": {
             "line": {
              "color": "#E5ECF6",
              "width": 0.5
             }
            },
            "type": "bar"
           }
          ],
          "barpolar": [
           {
            "marker": {
             "line": {
              "color": "#E5ECF6",
              "width": 0.5
             }
            },
            "type": "barpolar"
           }
          ],
          "carpet": [
           {
            "aaxis": {
             "endlinecolor": "#2a3f5f",
             "gridcolor": "white",
             "linecolor": "white",
             "minorgridcolor": "white",
             "startlinecolor": "#2a3f5f"
            },
            "baxis": {
             "endlinecolor": "#2a3f5f",
             "gridcolor": "white",
             "linecolor": "white",
             "minorgridcolor": "white",
             "startlinecolor": "#2a3f5f"
            },
            "type": "carpet"
           }
          ],
          "choropleth": [
           {
            "colorbar": {
             "outlinewidth": 0,
             "ticks": ""
            },
            "type": "choropleth"
           }
          ],
          "contour": [
           {
            "colorbar": {
             "outlinewidth": 0,
             "ticks": ""
            },
            "colorscale": [
             [
              0,
              "#0d0887"
             ],
             [
              0.1111111111111111,
              "#46039f"
             ],
             [
              0.2222222222222222,
              "#7201a8"
             ],
             [
              0.3333333333333333,
              "#9c179e"
             ],
             [
              0.4444444444444444,
              "#bd3786"
             ],
             [
              0.5555555555555556,
              "#d8576b"
             ],
             [
              0.6666666666666666,
              "#ed7953"
             ],
             [
              0.7777777777777778,
              "#fb9f3a"
             ],
             [
              0.8888888888888888,
              "#fdca26"
             ],
             [
              1,
              "#f0f921"
             ]
            ],
            "type": "contour"
           }
          ],
          "contourcarpet": [
           {
            "colorbar": {
             "outlinewidth": 0,
             "ticks": ""
            },
            "type": "contourcarpet"
           }
          ],
          "heatmap": [
           {
            "colorbar": {
             "outlinewidth": 0,
             "ticks": ""
            },
            "colorscale": [
             [
              0,
              "#0d0887"
             ],
             [
              0.1111111111111111,
              "#46039f"
             ],
             [
              0.2222222222222222,
              "#7201a8"
             ],
             [
              0.3333333333333333,
              "#9c179e"
             ],
             [
              0.4444444444444444,
              "#bd3786"
             ],
             [
              0.5555555555555556,
              "#d8576b"
             ],
             [
              0.6666666666666666,
              "#ed7953"
             ],
             [
              0.7777777777777778,
              "#fb9f3a"
             ],
             [
              0.8888888888888888,
              "#fdca26"
             ],
             [
              1,
              "#f0f921"
             ]
            ],
            "type": "heatmap"
           }
          ],
          "heatmapgl": [
           {
            "colorbar": {
             "outlinewidth": 0,
             "ticks": ""
            },
            "colorscale": [
             [
              0,
              "#0d0887"
             ],
             [
              0.1111111111111111,
              "#46039f"
             ],
             [
              0.2222222222222222,
              "#7201a8"
             ],
             [
              0.3333333333333333,
              "#9c179e"
             ],
             [
              0.4444444444444444,
              "#bd3786"
             ],
             [
              0.5555555555555556,
              "#d8576b"
             ],
             [
              0.6666666666666666,
              "#ed7953"
             ],
             [
              0.7777777777777778,
              "#fb9f3a"
             ],
             [
              0.8888888888888888,
              "#fdca26"
             ],
             [
              1,
              "#f0f921"
             ]
            ],
            "type": "heatmapgl"
           }
          ],
          "histogram": [
           {
            "marker": {
             "colorbar": {
              "outlinewidth": 0,
              "ticks": ""
             }
            },
            "type": "histogram"
           }
          ],
          "histogram2d": [
           {
            "colorbar": {
             "outlinewidth": 0,
             "ticks": ""
            },
            "colorscale": [
             [
              0,
              "#0d0887"
             ],
             [
              0.1111111111111111,
              "#46039f"
             ],
             [
              0.2222222222222222,
              "#7201a8"
             ],
             [
              0.3333333333333333,
              "#9c179e"
             ],
             [
              0.4444444444444444,
              "#bd3786"
             ],
             [
              0.5555555555555556,
              "#d8576b"
             ],
             [
              0.6666666666666666,
              "#ed7953"
             ],
             [
              0.7777777777777778,
              "#fb9f3a"
             ],
             [
              0.8888888888888888,
              "#fdca26"
             ],
             [
              1,
              "#f0f921"
             ]
            ],
            "type": "histogram2d"
           }
          ],
          "histogram2dcontour": [
           {
            "colorbar": {
             "outlinewidth": 0,
             "ticks": ""
            },
            "colorscale": [
             [
              0,
              "#0d0887"
             ],
             [
              0.1111111111111111,
              "#46039f"
             ],
             [
              0.2222222222222222,
              "#7201a8"
             ],
             [
              0.3333333333333333,
              "#9c179e"
             ],
             [
              0.4444444444444444,
              "#bd3786"
             ],
             [
              0.5555555555555556,
              "#d8576b"
             ],
             [
              0.6666666666666666,
              "#ed7953"
             ],
             [
              0.7777777777777778,
              "#fb9f3a"
             ],
             [
              0.8888888888888888,
              "#fdca26"
             ],
             [
              1,
              "#f0f921"
             ]
            ],
            "type": "histogram2dcontour"
           }
          ],
          "mesh3d": [
           {
            "colorbar": {
             "outlinewidth": 0,
             "ticks": ""
            },
            "type": "mesh3d"
           }
          ],
          "parcoords": [
           {
            "line": {
             "colorbar": {
              "outlinewidth": 0,
              "ticks": ""
             }
            },
            "type": "parcoords"
           }
          ],
          "pie": [
           {
            "automargin": true,
            "type": "pie"
           }
          ],
          "scatter": [
           {
            "marker": {
             "colorbar": {
              "outlinewidth": 0,
              "ticks": ""
             }
            },
            "type": "scatter"
           }
          ],
          "scatter3d": [
           {
            "line": {
             "colorbar": {
              "outlinewidth": 0,
              "ticks": ""
             }
            },
            "marker": {
             "colorbar": {
              "outlinewidth": 0,
              "ticks": ""
             }
            },
            "type": "scatter3d"
           }
          ],
          "scattercarpet": [
           {
            "marker": {
             "colorbar": {
              "outlinewidth": 0,
              "ticks": ""
             }
            },
            "type": "scattercarpet"
           }
          ],
          "scattergeo": [
           {
            "marker": {
             "colorbar": {
              "outlinewidth": 0,
              "ticks": ""
             }
            },
            "type": "scattergeo"
           }
          ],
          "scattergl": [
           {
            "marker": {
             "colorbar": {
              "outlinewidth": 0,
              "ticks": ""
             }
            },
            "type": "scattergl"
           }
          ],
          "scattermapbox": [
           {
            "marker": {
             "colorbar": {
              "outlinewidth": 0,
              "ticks": ""
             }
            },
            "type": "scattermapbox"
           }
          ],
          "scatterpolar": [
           {
            "marker": {
             "colorbar": {
              "outlinewidth": 0,
              "ticks": ""
             }
            },
            "type": "scatterpolar"
           }
          ],
          "scatterpolargl": [
           {
            "marker": {
             "colorbar": {
              "outlinewidth": 0,
              "ticks": ""
             }
            },
            "type": "scatterpolargl"
           }
          ],
          "scatterternary": [
           {
            "marker": {
             "colorbar": {
              "outlinewidth": 0,
              "ticks": ""
             }
            },
            "type": "scatterternary"
           }
          ],
          "surface": [
           {
            "colorbar": {
             "outlinewidth": 0,
             "ticks": ""
            },
            "colorscale": [
             [
              0,
              "#0d0887"
             ],
             [
              0.1111111111111111,
              "#46039f"
             ],
             [
              0.2222222222222222,
              "#7201a8"
             ],
             [
              0.3333333333333333,
              "#9c179e"
             ],
             [
              0.4444444444444444,
              "#bd3786"
             ],
             [
              0.5555555555555556,
              "#d8576b"
             ],
             [
              0.6666666666666666,
              "#ed7953"
             ],
             [
              0.7777777777777778,
              "#fb9f3a"
             ],
             [
              0.8888888888888888,
              "#fdca26"
             ],
             [
              1,
              "#f0f921"
             ]
            ],
            "type": "surface"
           }
          ],
          "table": [
           {
            "cells": {
             "fill": {
              "color": "#EBF0F8"
             },
             "line": {
              "color": "white"
             }
            },
            "header": {
             "fill": {
              "color": "#C8D4E3"
             },
             "line": {
              "color": "white"
             }
            },
            "type": "table"
           }
          ]
         },
         "layout": {
          "annotationdefaults": {
           "arrowcolor": "#2a3f5f",
           "arrowhead": 0,
           "arrowwidth": 1
          },
          "coloraxis": {
           "colorbar": {
            "outlinewidth": 0,
            "ticks": ""
           }
          },
          "colorscale": {
           "diverging": [
            [
             0,
             "#8e0152"
            ],
            [
             0.1,
             "#c51b7d"
            ],
            [
             0.2,
             "#de77ae"
            ],
            [
             0.3,
             "#f1b6da"
            ],
            [
             0.4,
             "#fde0ef"
            ],
            [
             0.5,
             "#f7f7f7"
            ],
            [
             0.6,
             "#e6f5d0"
            ],
            [
             0.7,
             "#b8e186"
            ],
            [
             0.8,
             "#7fbc41"
            ],
            [
             0.9,
             "#4d9221"
            ],
            [
             1,
             "#276419"
            ]
           ],
           "sequential": [
            [
             0,
             "#0d0887"
            ],
            [
             0.1111111111111111,
             "#46039f"
            ],
            [
             0.2222222222222222,
             "#7201a8"
            ],
            [
             0.3333333333333333,
             "#9c179e"
            ],
            [
             0.4444444444444444,
             "#bd3786"
            ],
            [
             0.5555555555555556,
             "#d8576b"
            ],
            [
             0.6666666666666666,
             "#ed7953"
            ],
            [
             0.7777777777777778,
             "#fb9f3a"
            ],
            [
             0.8888888888888888,
             "#fdca26"
            ],
            [
             1,
             "#f0f921"
            ]
           ],
           "sequentialminus": [
            [
             0,
             "#0d0887"
            ],
            [
             0.1111111111111111,
             "#46039f"
            ],
            [
             0.2222222222222222,
             "#7201a8"
            ],
            [
             0.3333333333333333,
             "#9c179e"
            ],
            [
             0.4444444444444444,
             "#bd3786"
            ],
            [
             0.5555555555555556,
             "#d8576b"
            ],
            [
             0.6666666666666666,
             "#ed7953"
            ],
            [
             0.7777777777777778,
             "#fb9f3a"
            ],
            [
             0.8888888888888888,
             "#fdca26"
            ],
            [
             1,
             "#f0f921"
            ]
           ]
          },
          "colorway": [
           "#636efa",
           "#EF553B",
           "#00cc96",
           "#ab63fa",
           "#FFA15A",
           "#19d3f3",
           "#FF6692",
           "#B6E880",
           "#FF97FF",
           "#FECB52"
          ],
          "font": {
           "color": "#2a3f5f"
          },
          "geo": {
           "bgcolor": "white",
           "lakecolor": "white",
           "landcolor": "#E5ECF6",
           "showlakes": true,
           "showland": true,
           "subunitcolor": "white"
          },
          "hoverlabel": {
           "align": "left"
          },
          "hovermode": "closest",
          "mapbox": {
           "style": "light"
          },
          "paper_bgcolor": "white",
          "plot_bgcolor": "#E5ECF6",
          "polar": {
           "angularaxis": {
            "gridcolor": "white",
            "linecolor": "white",
            "ticks": ""
           },
           "bgcolor": "#E5ECF6",
           "radialaxis": {
            "gridcolor": "white",
            "linecolor": "white",
            "ticks": ""
           }
          },
          "scene": {
           "xaxis": {
            "backgroundcolor": "#E5ECF6",
            "gridcolor": "white",
            "gridwidth": 2,
            "linecolor": "white",
            "showbackground": true,
            "ticks": "",
            "zerolinecolor": "white"
           },
           "yaxis": {
            "backgroundcolor": "#E5ECF6",
            "gridcolor": "white",
            "gridwidth": 2,
            "linecolor": "white",
            "showbackground": true,
            "ticks": "",
            "zerolinecolor": "white"
           },
           "zaxis": {
            "backgroundcolor": "#E5ECF6",
            "gridcolor": "white",
            "gridwidth": 2,
            "linecolor": "white",
            "showbackground": true,
            "ticks": "",
            "zerolinecolor": "white"
           }
          },
          "shapedefaults": {
           "line": {
            "color": "#2a3f5f"
           }
          },
          "ternary": {
           "aaxis": {
            "gridcolor": "white",
            "linecolor": "white",
            "ticks": ""
           },
           "baxis": {
            "gridcolor": "white",
            "linecolor": "white",
            "ticks": ""
           },
           "bgcolor": "#E5ECF6",
           "caxis": {
            "gridcolor": "white",
            "linecolor": "white",
            "ticks": ""
           }
          },
          "title": {
           "x": 0.05
          },
          "xaxis": {
           "automargin": true,
           "gridcolor": "white",
           "linecolor": "white",
           "ticks": "",
           "title": {
            "standoff": 15
           },
           "zerolinecolor": "white",
           "zerolinewidth": 2
          },
          "yaxis": {
           "automargin": true,
           "gridcolor": "white",
           "linecolor": "white",
           "ticks": "",
           "title": {
            "standoff": 15
           },
           "zerolinecolor": "white",
           "zerolinewidth": 2
          }
         }
        },
        "xaxis": {
         "anchor": "y",
         "domain": [
          0,
          1
         ],
         "title": {
          "text": "States/Union Territory"
         }
        },
        "yaxis": {
         "anchor": "x",
         "domain": [
          0,
          1
         ],
         "title": {
          "text": "Active Cases"
         }
        }
       }
      },
      "text/html": [
       "<div>\n",
       "        \n",
       "        \n",
       "            <div id=\"c6f53f68-fd51-44cf-96e1-e9fdfafca0a6\" class=\"plotly-graph-div\" style=\"height:525px; width:100%;\"></div>\n",
       "            <script type=\"text/javascript\">\n",
       "                require([\"plotly\"], function(Plotly) {\n",
       "                    window.PLOTLYENV=window.PLOTLYENV || {};\n",
       "                    \n",
       "                if (document.getElementById(\"c6f53f68-fd51-44cf-96e1-e9fdfafca0a6\")) {\n",
       "                    Plotly.newPlot(\n",
       "                        'c6f53f68-fd51-44cf-96e1-e9fdfafca0a6',\n",
       "                        [{\"alignmentgroup\": \"True\", \"hovertemplate\": \"States/Union Territory=%{x}<br>Active Cases=%{y}<extra></extra>\", \"legendgroup\": \"\", \"marker\": {\"color\": \"#636efa\"}, \"name\": \"\", \"offsetgroup\": \"\", \"orientation\": \"v\", \"showlegend\": false, \"textposition\": \"auto\", \"type\": \"bar\", \"x\": [\"Andaman and Nicobar Islands\", \"Andhra Pradesh\", \"Arunachal Pradesh\", \"Assam\", \"Bihar\", \"Chandigarh\", \"Chhattisgarh\", \"Dadar Nagar Haveli\", \"Delhi\", \"Goa\", \"Gujarat\", \"Haryana\", \"Himachal Pradesh\", \"Jammu and Kashmir\", \"Jharkhand\", \"Karnataka\", \"Kerala\", \"Ladakh\", \"Madhya Pradesh\", \"Maharashtra\", \"Manipur\", \"Meghalaya\", \"Mizoram\", \"Nagaland\", \"Odisha\", \"Puducherry\", \"Punjab\", \"Rajasthan\", \"Tamil Nadu\", \"Telengana\", \"Tripura\", \"Unassigned\", \"Uttar Pradesh\", \"Uttarakhand\", \"West Bengal\"], \"xaxis\": \"x\", \"y\": [363, 21907, 18, 671, 5007, 977, 383, 1, 54894, 107, 59490, 4818, 531, 9612, 1412, 8894, 7526, 461, 39378, 150381, 33, 206, 43, 2, 1925, 164, 9205, 37056, 34429, 18533, 108, 161, 35085, 889, 11664], \"yaxis\": \"y\"}],\n",
       "                        {\"barmode\": \"relative\", \"legend\": {\"tracegroupgap\": 0}, \"margin\": {\"t\": 60}, \"template\": {\"data\": {\"bar\": [{\"error_x\": {\"color\": \"#2a3f5f\"}, \"error_y\": {\"color\": \"#2a3f5f\"}, \"marker\": {\"line\": {\"color\": \"#E5ECF6\", \"width\": 0.5}}, \"type\": \"bar\"}], \"barpolar\": [{\"marker\": {\"line\": {\"color\": \"#E5ECF6\", \"width\": 0.5}}, \"type\": \"barpolar\"}], \"carpet\": [{\"aaxis\": {\"endlinecolor\": \"#2a3f5f\", \"gridcolor\": \"white\", \"linecolor\": \"white\", \"minorgridcolor\": \"white\", \"startlinecolor\": \"#2a3f5f\"}, \"baxis\": {\"endlinecolor\": \"#2a3f5f\", \"gridcolor\": \"white\", \"linecolor\": \"white\", \"minorgridcolor\": \"white\", \"startlinecolor\": \"#2a3f5f\"}, \"type\": \"carpet\"}], \"choropleth\": [{\"colorbar\": {\"outlinewidth\": 0, \"ticks\": \"\"}, \"type\": \"choropleth\"}], \"contour\": [{\"colorbar\": {\"outlinewidth\": 0, \"ticks\": \"\"}, \"colorscale\": [[0.0, \"#0d0887\"], [0.1111111111111111, \"#46039f\"], [0.2222222222222222, \"#7201a8\"], [0.3333333333333333, \"#9c179e\"], [0.4444444444444444, \"#bd3786\"], [0.5555555555555556, \"#d8576b\"], [0.6666666666666666, \"#ed7953\"], [0.7777777777777778, \"#fb9f3a\"], [0.8888888888888888, \"#fdca26\"], [1.0, \"#f0f921\"]], \"type\": \"contour\"}], \"contourcarpet\": [{\"colorbar\": {\"outlinewidth\": 0, \"ticks\": \"\"}, \"type\": \"contourcarpet\"}], \"heatmap\": [{\"colorbar\": {\"outlinewidth\": 0, \"ticks\": \"\"}, \"colorscale\": [[0.0, \"#0d0887\"], [0.1111111111111111, \"#46039f\"], [0.2222222222222222, \"#7201a8\"], [0.3333333333333333, \"#9c179e\"], [0.4444444444444444, \"#bd3786\"], [0.5555555555555556, \"#d8576b\"], [0.6666666666666666, \"#ed7953\"], [0.7777777777777778, \"#fb9f3a\"], [0.8888888888888888, \"#fdca26\"], [1.0, \"#f0f921\"]], \"type\": \"heatmap\"}], \"heatmapgl\": [{\"colorbar\": {\"outlinewidth\": 0, \"ticks\": \"\"}, \"colorscale\": [[0.0, \"#0d0887\"], [0.1111111111111111, \"#46039f\"], [0.2222222222222222, \"#7201a8\"], [0.3333333333333333, \"#9c179e\"], [0.4444444444444444, \"#bd3786\"], [0.5555555555555556, \"#d8576b\"], [0.6666666666666666, \"#ed7953\"], [0.7777777777777778, \"#fb9f3a\"], [0.8888888888888888, \"#fdca26\"], [1.0, \"#f0f921\"]], \"type\": \"heatmapgl\"}], \"histogram\": [{\"marker\": {\"colorbar\": {\"outlinewidth\": 0, \"ticks\": \"\"}}, \"type\": \"histogram\"}], \"histogram2d\": [{\"colorbar\": {\"outlinewidth\": 0, \"ticks\": \"\"}, \"colorscale\": [[0.0, \"#0d0887\"], [0.1111111111111111, \"#46039f\"], [0.2222222222222222, \"#7201a8\"], [0.3333333333333333, \"#9c179e\"], [0.4444444444444444, \"#bd3786\"], [0.5555555555555556, \"#d8576b\"], [0.6666666666666666, \"#ed7953\"], [0.7777777777777778, \"#fb9f3a\"], [0.8888888888888888, \"#fdca26\"], [1.0, \"#f0f921\"]], \"type\": \"histogram2d\"}], \"histogram2dcontour\": [{\"colorbar\": {\"outlinewidth\": 0, \"ticks\": \"\"}, \"colorscale\": [[0.0, \"#0d0887\"], [0.1111111111111111, \"#46039f\"], [0.2222222222222222, \"#7201a8\"], [0.3333333333333333, \"#9c179e\"], [0.4444444444444444, \"#bd3786\"], [0.5555555555555556, \"#d8576b\"], [0.6666666666666666, \"#ed7953\"], [0.7777777777777778, \"#fb9f3a\"], [0.8888888888888888, \"#fdca26\"], [1.0, \"#f0f921\"]], \"type\": \"histogram2dcontour\"}], \"mesh3d\": [{\"colorbar\": {\"outlinewidth\": 0, \"ticks\": \"\"}, \"type\": \"mesh3d\"}], \"parcoords\": [{\"line\": {\"colorbar\": {\"outlinewidth\": 0, \"ticks\": \"\"}}, \"type\": \"parcoords\"}], \"pie\": [{\"automargin\": true, \"type\": \"pie\"}], \"scatter\": [{\"marker\": {\"colorbar\": {\"outlinewidth\": 0, \"ticks\": \"\"}}, \"type\": \"scatter\"}], \"scatter3d\": [{\"line\": {\"colorbar\": {\"outlinewidth\": 0, \"ticks\": \"\"}}, \"marker\": {\"colorbar\": {\"outlinewidth\": 0, \"ticks\": \"\"}}, \"type\": \"scatter3d\"}], \"scattercarpet\": [{\"marker\": {\"colorbar\": {\"outlinewidth\": 0, \"ticks\": \"\"}}, \"type\": \"scattercarpet\"}], \"scattergeo\": [{\"marker\": {\"colorbar\": {\"outlinewidth\": 0, \"ticks\": \"\"}}, \"type\": \"scattergeo\"}], \"scattergl\": [{\"marker\": {\"colorbar\": {\"outlinewidth\": 0, \"ticks\": \"\"}}, \"type\": \"scattergl\"}], \"scattermapbox\": [{\"marker\": {\"colorbar\": {\"outlinewidth\": 0, \"ticks\": \"\"}}, \"type\": \"scattermapbox\"}], \"scatterpolar\": [{\"marker\": {\"colorbar\": {\"outlinewidth\": 0, \"ticks\": \"\"}}, \"type\": \"scatterpolar\"}], \"scatterpolargl\": [{\"marker\": {\"colorbar\": {\"outlinewidth\": 0, \"ticks\": \"\"}}, \"type\": \"scatterpolargl\"}], \"scatterternary\": [{\"marker\": {\"colorbar\": {\"outlinewidth\": 0, \"ticks\": \"\"}}, \"type\": \"scatterternary\"}], \"surface\": [{\"colorbar\": {\"outlinewidth\": 0, \"ticks\": \"\"}, \"colorscale\": [[0.0, \"#0d0887\"], [0.1111111111111111, \"#46039f\"], [0.2222222222222222, \"#7201a8\"], [0.3333333333333333, \"#9c179e\"], [0.4444444444444444, \"#bd3786\"], [0.5555555555555556, \"#d8576b\"], [0.6666666666666666, \"#ed7953\"], [0.7777777777777778, \"#fb9f3a\"], [0.8888888888888888, \"#fdca26\"], [1.0, \"#f0f921\"]], \"type\": \"surface\"}], \"table\": [{\"cells\": {\"fill\": {\"color\": \"#EBF0F8\"}, \"line\": {\"color\": \"white\"}}, \"header\": {\"fill\": {\"color\": \"#C8D4E3\"}, \"line\": {\"color\": \"white\"}}, \"type\": \"table\"}]}, \"layout\": {\"annotationdefaults\": {\"arrowcolor\": \"#2a3f5f\", \"arrowhead\": 0, \"arrowwidth\": 1}, \"coloraxis\": {\"colorbar\": {\"outlinewidth\": 0, \"ticks\": \"\"}}, \"colorscale\": {\"diverging\": [[0, \"#8e0152\"], [0.1, \"#c51b7d\"], [0.2, \"#de77ae\"], [0.3, \"#f1b6da\"], [0.4, \"#fde0ef\"], [0.5, \"#f7f7f7\"], [0.6, \"#e6f5d0\"], [0.7, \"#b8e186\"], [0.8, \"#7fbc41\"], [0.9, \"#4d9221\"], [1, \"#276419\"]], \"sequential\": [[0.0, \"#0d0887\"], [0.1111111111111111, \"#46039f\"], [0.2222222222222222, \"#7201a8\"], [0.3333333333333333, \"#9c179e\"], [0.4444444444444444, \"#bd3786\"], [0.5555555555555556, \"#d8576b\"], [0.6666666666666666, \"#ed7953\"], [0.7777777777777778, \"#fb9f3a\"], [0.8888888888888888, \"#fdca26\"], [1.0, \"#f0f921\"]], \"sequentialminus\": [[0.0, \"#0d0887\"], [0.1111111111111111, \"#46039f\"], [0.2222222222222222, \"#7201a8\"], [0.3333333333333333, \"#9c179e\"], [0.4444444444444444, \"#bd3786\"], [0.5555555555555556, \"#d8576b\"], [0.6666666666666666, \"#ed7953\"], [0.7777777777777778, \"#fb9f3a\"], [0.8888888888888888, \"#fdca26\"], [1.0, \"#f0f921\"]]}, \"colorway\": [\"#636efa\", \"#EF553B\", \"#00cc96\", \"#ab63fa\", \"#FFA15A\", \"#19d3f3\", \"#FF6692\", \"#B6E880\", \"#FF97FF\", \"#FECB52\"], \"font\": {\"color\": \"#2a3f5f\"}, \"geo\": {\"bgcolor\": \"white\", \"lakecolor\": \"white\", \"landcolor\": \"#E5ECF6\", \"showlakes\": true, \"showland\": true, \"subunitcolor\": \"white\"}, \"hoverlabel\": {\"align\": \"left\"}, \"hovermode\": \"closest\", \"mapbox\": {\"style\": \"light\"}, \"paper_bgcolor\": \"white\", \"plot_bgcolor\": \"#E5ECF6\", \"polar\": {\"angularaxis\": {\"gridcolor\": \"white\", \"linecolor\": \"white\", \"ticks\": \"\"}, \"bgcolor\": \"#E5ECF6\", \"radialaxis\": {\"gridcolor\": \"white\", \"linecolor\": \"white\", \"ticks\": \"\"}}, \"scene\": {\"xaxis\": {\"backgroundcolor\": \"#E5ECF6\", \"gridcolor\": \"white\", \"gridwidth\": 2, \"linecolor\": \"white\", \"showbackground\": true, \"ticks\": \"\", \"zerolinecolor\": \"white\"}, \"yaxis\": {\"backgroundcolor\": \"#E5ECF6\", \"gridcolor\": \"white\", \"gridwidth\": 2, \"linecolor\": \"white\", \"showbackground\": true, \"ticks\": \"\", \"zerolinecolor\": \"white\"}, \"zaxis\": {\"backgroundcolor\": \"#E5ECF6\", \"gridcolor\": \"white\", \"gridwidth\": 2, \"linecolor\": \"white\", \"showbackground\": true, \"ticks\": \"\", \"zerolinecolor\": \"white\"}}, \"shapedefaults\": {\"line\": {\"color\": \"#2a3f5f\"}}, \"ternary\": {\"aaxis\": {\"gridcolor\": \"white\", \"linecolor\": \"white\", \"ticks\": \"\"}, \"baxis\": {\"gridcolor\": \"white\", \"linecolor\": \"white\", \"ticks\": \"\"}, \"bgcolor\": \"#E5ECF6\", \"caxis\": {\"gridcolor\": \"white\", \"linecolor\": \"white\", \"ticks\": \"\"}}, \"title\": {\"x\": 0.05}, \"xaxis\": {\"automargin\": true, \"gridcolor\": \"white\", \"linecolor\": \"white\", \"ticks\": \"\", \"title\": {\"standoff\": 15}, \"zerolinecolor\": \"white\", \"zerolinewidth\": 2}, \"yaxis\": {\"automargin\": true, \"gridcolor\": \"white\", \"linecolor\": \"white\", \"ticks\": \"\", \"title\": {\"standoff\": 15}, \"zerolinecolor\": \"white\", \"zerolinewidth\": 2}}}, \"xaxis\": {\"anchor\": \"y\", \"domain\": [0.0, 1.0], \"title\": {\"text\": \"States/Union Territory\"}}, \"yaxis\": {\"anchor\": \"x\", \"domain\": [0.0, 1.0], \"title\": {\"text\": \"Active Cases\"}}},\n",
       "                        {\"responsive\": true}\n",
       "                    ).then(function(){\n",
       "                            \n",
       "var gd = document.getElementById('c6f53f68-fd51-44cf-96e1-e9fdfafca0a6');\n",
       "var x = new MutationObserver(function (mutations, observer) {{\n",
       "        var display = window.getComputedStyle(gd).display;\n",
       "        if (!display || display === 'none') {{\n",
       "            console.log([gd, 'removed!']);\n",
       "            Plotly.purge(gd);\n",
       "            observer.disconnect();\n",
       "        }}\n",
       "}});\n",
       "\n",
       "// Listen for the removal of the full notebook cells\n",
       "var notebookContainer = gd.closest('#notebook-container');\n",
       "if (notebookContainer) {{\n",
       "    x.observe(notebookContainer, {childList: true});\n",
       "}}\n",
       "\n",
       "// Listen for the clearing of the current output cell\n",
       "var outputEl = gd.closest('.output');\n",
       "if (outputEl) {{\n",
       "    x.observe(outputEl, {childList: true});\n",
       "}}\n",
       "\n",
       "                        })\n",
       "                };\n",
       "                });\n",
       "            </script>\n",
       "        </div>"
      ]
     },
     "metadata": {},
     "output_type": "display_data"
    }
   ],
   "source": [
    "#matplotlib\n",
    "plt.figure(figsize=(15,5))\n",
    "plt.plot(states,active['Active Cases'])\n",
    "plt.xticks(rotation = 90)\n",
    "plt.xlabel('states')\n",
    "plt.ylabel('count for active cases')\n",
    "plt.show()\n",
    "\n",
    "#plotty\n",
    "px.bar(x = states,y = active['Active Cases'],labels={'x':'States/Union Territory','y':'Active Cases'})"
   ]
  },
  {
   "cell_type": "markdown",
   "metadata": {},
   "source": [
    "From the above plot, we can clearly see the active cases.\n",
    "since, maharashtra covid active cases are more 14000+ , which leads to the conclusion that if at the earliest they are not treated then the cases will increase day by day leading to double the infected people around the state."
   ]
  },
  {
   "cell_type": "markdown",
   "metadata": {},
   "source": [
    "### Instead of looking at the plots we can simply use the below method to find the heighest,lowest cases."
   ]
  },
  {
   "cell_type": "code",
   "execution_count": 44,
   "metadata": {},
   "outputs": [],
   "source": [
    "total = df.groupby('State/UnionTerritory')[['Cured','Deaths','Confirmed','Active Cases']].sum().sort_values(ascending=False, by='Active Cases')"
   ]
  },
  {
   "cell_type": "code",
   "execution_count": 45,
   "metadata": {},
   "outputs": [
    {
     "data": {
      "text/html": [
       "<style  type=\"text/css\" >\n",
       "    #T_3084cfcc_a0e3_11ea_999b_8c1645af636arow0_col0 {\n",
       "            background-color:  #67000d;\n",
       "            color:  #f1f1f1;\n",
       "        }    #T_3084cfcc_a0e3_11ea_999b_8c1645af636arow0_col1 {\n",
       "            background-color:  #67000d;\n",
       "            color:  #f1f1f1;\n",
       "        }    #T_3084cfcc_a0e3_11ea_999b_8c1645af636arow0_col2 {\n",
       "            background-color:  #67000d;\n",
       "            color:  #f1f1f1;\n",
       "        }    #T_3084cfcc_a0e3_11ea_999b_8c1645af636arow0_col3 {\n",
       "            background-color:  #67000d;\n",
       "            color:  #f1f1f1;\n",
       "        }    #T_3084cfcc_a0e3_11ea_999b_8c1645af636arow1_col0 {\n",
       "            background-color:  #fc997a;\n",
       "            color:  #000000;\n",
       "        }    #T_3084cfcc_a0e3_11ea_999b_8c1645af636arow1_col1 {\n",
       "            background-color:  #fc8666;\n",
       "            color:  #000000;\n",
       "        }    #T_3084cfcc_a0e3_11ea_999b_8c1645af636arow1_col2 {\n",
       "            background-color:  #fc8e6e;\n",
       "            color:  #000000;\n",
       "        }    #T_3084cfcc_a0e3_11ea_999b_8c1645af636arow1_col3 {\n",
       "            background-color:  #fc8b6b;\n",
       "            color:  #000000;\n",
       "        }    #T_3084cfcc_a0e3_11ea_999b_8c1645af636arow2_col0 {\n",
       "            background-color:  #ef3c2c;\n",
       "            color:  #f1f1f1;\n",
       "        }    #T_3084cfcc_a0e3_11ea_999b_8c1645af636arow2_col1 {\n",
       "            background-color:  #fed9c9;\n",
       "            color:  #000000;\n",
       "        }    #T_3084cfcc_a0e3_11ea_999b_8c1645af636arow2_col2 {\n",
       "            background-color:  #fc8d6d;\n",
       "            color:  #000000;\n",
       "        }    #T_3084cfcc_a0e3_11ea_999b_8c1645af636arow2_col3 {\n",
       "            background-color:  #fc9576;\n",
       "            color:  #000000;\n",
       "        }    #T_3084cfcc_a0e3_11ea_999b_8c1645af636arow3_col0 {\n",
       "            background-color:  #fcaf93;\n",
       "            color:  #000000;\n",
       "        }    #T_3084cfcc_a0e3_11ea_999b_8c1645af636arow3_col1 {\n",
       "            background-color:  #fcab8f;\n",
       "            color:  #000000;\n",
       "        }    #T_3084cfcc_a0e3_11ea_999b_8c1645af636arow3_col2 {\n",
       "            background-color:  #fcb69b;\n",
       "            color:  #000000;\n",
       "        }    #T_3084cfcc_a0e3_11ea_999b_8c1645af636arow3_col3 {\n",
       "            background-color:  #fcb79c;\n",
       "            color:  #000000;\n",
       "        }    #T_3084cfcc_a0e3_11ea_999b_8c1645af636arow4_col0 {\n",
       "            background-color:  #fb7050;\n",
       "            color:  #000000;\n",
       "        }    #T_3084cfcc_a0e3_11ea_999b_8c1645af636arow4_col1 {\n",
       "            background-color:  #fee5d8;\n",
       "            color:  #000000;\n",
       "        }    #T_3084cfcc_a0e3_11ea_999b_8c1645af636arow4_col2 {\n",
       "            background-color:  #fcb398;\n",
       "            color:  #000000;\n",
       "        }    #T_3084cfcc_a0e3_11ea_999b_8c1645af636arow4_col3 {\n",
       "            background-color:  #fcbca2;\n",
       "            color:  #000000;\n",
       "        }    #T_3084cfcc_a0e3_11ea_999b_8c1645af636arow5_col0 {\n",
       "            background-color:  #fca588;\n",
       "            color:  #000000;\n",
       "        }    #T_3084cfcc_a0e3_11ea_999b_8c1645af636arow5_col1 {\n",
       "            background-color:  #fee8dd;\n",
       "            color:  #000000;\n",
       "        }    #T_3084cfcc_a0e3_11ea_999b_8c1645af636arow5_col2 {\n",
       "            background-color:  #fcbea5;\n",
       "            color:  #000000;\n",
       "        }    #T_3084cfcc_a0e3_11ea_999b_8c1645af636arow5_col3 {\n",
       "            background-color:  #fcc1a8;\n",
       "            color:  #000000;\n",
       "        }    #T_3084cfcc_a0e3_11ea_999b_8c1645af636arow6_col0 {\n",
       "            background-color:  #db2824;\n",
       "            color:  #f1f1f1;\n",
       "        }    #T_3084cfcc_a0e3_11ea_999b_8c1645af636arow6_col1 {\n",
       "            background-color:  #feeae1;\n",
       "            color:  #000000;\n",
       "        }    #T_3084cfcc_a0e3_11ea_999b_8c1645af636arow6_col2 {\n",
       "            background-color:  #fcaf93;\n",
       "            color:  #000000;\n",
       "        }    #T_3084cfcc_a0e3_11ea_999b_8c1645af636arow6_col3 {\n",
       "            background-color:  #fcc2aa;\n",
       "            color:  #000000;\n",
       "        }    #T_3084cfcc_a0e3_11ea_999b_8c1645af636arow7_col0 {\n",
       "            background-color:  #fdcbb6;\n",
       "            color:  #000000;\n",
       "        }    #T_3084cfcc_a0e3_11ea_999b_8c1645af636arow7_col1 {\n",
       "            background-color:  #fee9df;\n",
       "            color:  #000000;\n",
       "        }    #T_3084cfcc_a0e3_11ea_999b_8c1645af636arow7_col2 {\n",
       "            background-color:  #fed9c9;\n",
       "            color:  #000000;\n",
       "        }    #T_3084cfcc_a0e3_11ea_999b_8c1645af636arow7_col3 {\n",
       "            background-color:  #fedaca;\n",
       "            color:  #000000;\n",
       "        }    #T_3084cfcc_a0e3_11ea_999b_8c1645af636arow8_col0 {\n",
       "            background-color:  #fcb79c;\n",
       "            color:  #000000;\n",
       "        }    #T_3084cfcc_a0e3_11ea_999b_8c1645af636arow8_col1 {\n",
       "            background-color:  #fee8de;\n",
       "            color:  #000000;\n",
       "        }    #T_3084cfcc_a0e3_11ea_999b_8c1645af636arow8_col2 {\n",
       "            background-color:  #fedbcc;\n",
       "            color:  #000000;\n",
       "        }    #T_3084cfcc_a0e3_11ea_999b_8c1645af636arow8_col3 {\n",
       "            background-color:  #fee1d3;\n",
       "            color:  #000000;\n",
       "        }    #T_3084cfcc_a0e3_11ea_999b_8c1645af636arow9_col0 {\n",
       "            background-color:  #fee5d8;\n",
       "            color:  #000000;\n",
       "        }    #T_3084cfcc_a0e3_11ea_999b_8c1645af636arow9_col1 {\n",
       "            background-color:  #fee7dc;\n",
       "            color:  #000000;\n",
       "        }    #T_3084cfcc_a0e3_11ea_999b_8c1645af636arow9_col2 {\n",
       "            background-color:  #fee8dd;\n",
       "            color:  #000000;\n",
       "        }    #T_3084cfcc_a0e3_11ea_999b_8c1645af636arow9_col3 {\n",
       "            background-color:  #fee8de;\n",
       "            color:  #000000;\n",
       "        }    #T_3084cfcc_a0e3_11ea_999b_8c1645af636arow10_col0 {\n",
       "            background-color:  #fee1d4;\n",
       "            color:  #000000;\n",
       "        }    #T_3084cfcc_a0e3_11ea_999b_8c1645af636arow10_col1 {\n",
       "            background-color:  #fff2eb;\n",
       "            color:  #000000;\n",
       "        }    #T_3084cfcc_a0e3_11ea_999b_8c1645af636arow10_col2 {\n",
       "            background-color:  #feeae0;\n",
       "            color:  #000000;\n",
       "        }    #T_3084cfcc_a0e3_11ea_999b_8c1645af636arow10_col3 {\n",
       "            background-color:  #feeae1;\n",
       "            color:  #000000;\n",
       "        }    #T_3084cfcc_a0e3_11ea_999b_8c1645af636arow11_col0 {\n",
       "            background-color:  #ffece3;\n",
       "            color:  #000000;\n",
       "        }    #T_3084cfcc_a0e3_11ea_999b_8c1645af636arow11_col1 {\n",
       "            background-color:  #ffece3;\n",
       "            color:  #000000;\n",
       "        }    #T_3084cfcc_a0e3_11ea_999b_8c1645af636arow11_col2 {\n",
       "            background-color:  #ffebe2;\n",
       "            color:  #000000;\n",
       "        }    #T_3084cfcc_a0e3_11ea_999b_8c1645af636arow11_col3 {\n",
       "            background-color:  #ffebe2;\n",
       "            color:  #000000;\n",
       "        }    #T_3084cfcc_a0e3_11ea_999b_8c1645af636arow12_col0 {\n",
       "            background-color:  #fdd5c4;\n",
       "            color:  #000000;\n",
       "        }    #T_3084cfcc_a0e3_11ea_999b_8c1645af636arow12_col1 {\n",
       "            background-color:  #ffebe2;\n",
       "            color:  #000000;\n",
       "        }    #T_3084cfcc_a0e3_11ea_999b_8c1645af636arow12_col2 {\n",
       "            background-color:  #fee9df;\n",
       "            color:  #000000;\n",
       "        }    #T_3084cfcc_a0e3_11ea_999b_8c1645af636arow12_col3 {\n",
       "            background-color:  #ffebe2;\n",
       "            color:  #000000;\n",
       "        }    #T_3084cfcc_a0e3_11ea_999b_8c1645af636arow13_col0 {\n",
       "            background-color:  #fca588;\n",
       "            color:  #000000;\n",
       "        }    #T_3084cfcc_a0e3_11ea_999b_8c1645af636arow13_col1 {\n",
       "            background-color:  #fff3ed;\n",
       "            color:  #000000;\n",
       "        }    #T_3084cfcc_a0e3_11ea_999b_8c1645af636arow13_col2 {\n",
       "            background-color:  #fee7db;\n",
       "            color:  #000000;\n",
       "        }    #T_3084cfcc_a0e3_11ea_999b_8c1645af636arow13_col3 {\n",
       "            background-color:  #ffede5;\n",
       "            color:  #000000;\n",
       "        }    #T_3084cfcc_a0e3_11ea_999b_8c1645af636arow14_col0 {\n",
       "            background-color:  #ffece3;\n",
       "            color:  #000000;\n",
       "        }    #T_3084cfcc_a0e3_11ea_999b_8c1645af636arow14_col1 {\n",
       "            background-color:  #fff4ee;\n",
       "            color:  #000000;\n",
       "        }    #T_3084cfcc_a0e3_11ea_999b_8c1645af636arow14_col2 {\n",
       "            background-color:  #ffefe8;\n",
       "            color:  #000000;\n",
       "        }    #T_3084cfcc_a0e3_11ea_999b_8c1645af636arow14_col3 {\n",
       "            background-color:  #fff0e8;\n",
       "            color:  #000000;\n",
       "        }    #T_3084cfcc_a0e3_11ea_999b_8c1645af636arow15_col0 {\n",
       "            background-color:  #fedbcc;\n",
       "            color:  #000000;\n",
       "        }    #T_3084cfcc_a0e3_11ea_999b_8c1645af636arow15_col1 {\n",
       "            background-color:  #fff4ee;\n",
       "            color:  #000000;\n",
       "        }    #T_3084cfcc_a0e3_11ea_999b_8c1645af636arow15_col2 {\n",
       "            background-color:  #ffede5;\n",
       "            color:  #000000;\n",
       "        }    #T_3084cfcc_a0e3_11ea_999b_8c1645af636arow15_col3 {\n",
       "            background-color:  #fff0e8;\n",
       "            color:  #000000;\n",
       "        }    #T_3084cfcc_a0e3_11ea_999b_8c1645af636arow16_col0 {\n",
       "            background-color:  #fff0e9;\n",
       "            color:  #000000;\n",
       "        }    #T_3084cfcc_a0e3_11ea_999b_8c1645af636arow16_col1 {\n",
       "            background-color:  #fff5f0;\n",
       "            color:  #000000;\n",
       "        }    #T_3084cfcc_a0e3_11ea_999b_8c1645af636arow16_col2 {\n",
       "            background-color:  #fff3ed;\n",
       "            color:  #000000;\n",
       "        }    #T_3084cfcc_a0e3_11ea_999b_8c1645af636arow16_col3 {\n",
       "            background-color:  #fff3ed;\n",
       "            color:  #000000;\n",
       "        }    #T_3084cfcc_a0e3_11ea_999b_8c1645af636arow17_col0 {\n",
       "            background-color:  #fff4ee;\n",
       "            color:  #000000;\n",
       "        }    #T_3084cfcc_a0e3_11ea_999b_8c1645af636arow17_col1 {\n",
       "            background-color:  #fff4ef;\n",
       "            color:  #000000;\n",
       "        }    #T_3084cfcc_a0e3_11ea_999b_8c1645af636arow17_col2 {\n",
       "            background-color:  #fff4ee;\n",
       "            color:  #000000;\n",
       "        }    #T_3084cfcc_a0e3_11ea_999b_8c1645af636arow17_col3 {\n",
       "            background-color:  #fff4ee;\n",
       "            color:  #000000;\n",
       "        }    #T_3084cfcc_a0e3_11ea_999b_8c1645af636arow18_col0 {\n",
       "            background-color:  #fff3ed;\n",
       "            color:  #000000;\n",
       "        }    #T_3084cfcc_a0e3_11ea_999b_8c1645af636arow18_col1 {\n",
       "            background-color:  #fff5f0;\n",
       "            color:  #000000;\n",
       "        }    #T_3084cfcc_a0e3_11ea_999b_8c1645af636arow18_col2 {\n",
       "            background-color:  #fff4ef;\n",
       "            color:  #000000;\n",
       "        }    #T_3084cfcc_a0e3_11ea_999b_8c1645af636arow18_col3 {\n",
       "            background-color:  #fff4ef;\n",
       "            color:  #000000;\n",
       "        }    #T_3084cfcc_a0e3_11ea_999b_8c1645af636arow19_col0 {\n",
       "            background-color:  #fff2eb;\n",
       "            color:  #000000;\n",
       "        }    #T_3084cfcc_a0e3_11ea_999b_8c1645af636arow19_col1 {\n",
       "            background-color:  #fff5f0;\n",
       "            color:  #000000;\n",
       "        }    #T_3084cfcc_a0e3_11ea_999b_8c1645af636arow19_col2 {\n",
       "            background-color:  #fff4ee;\n",
       "            color:  #000000;\n",
       "        }    #T_3084cfcc_a0e3_11ea_999b_8c1645af636arow19_col3 {\n",
       "            background-color:  #fff4ef;\n",
       "            color:  #000000;\n",
       "        }    #T_3084cfcc_a0e3_11ea_999b_8c1645af636arow20_col0 {\n",
       "            background-color:  #fff2ec;\n",
       "            color:  #000000;\n",
       "        }    #T_3084cfcc_a0e3_11ea_999b_8c1645af636arow20_col1 {\n",
       "            background-color:  #fff5f0;\n",
       "            color:  #000000;\n",
       "        }    #T_3084cfcc_a0e3_11ea_999b_8c1645af636arow20_col2 {\n",
       "            background-color:  #fff4ef;\n",
       "            color:  #000000;\n",
       "        }    #T_3084cfcc_a0e3_11ea_999b_8c1645af636arow20_col3 {\n",
       "            background-color:  #fff4ef;\n",
       "            color:  #000000;\n",
       "        }    #T_3084cfcc_a0e3_11ea_999b_8c1645af636arow21_col0 {\n",
       "            background-color:  #fff2eb;\n",
       "            color:  #000000;\n",
       "        }    #T_3084cfcc_a0e3_11ea_999b_8c1645af636arow21_col1 {\n",
       "            background-color:  #fff4ef;\n",
       "            color:  #000000;\n",
       "        }    #T_3084cfcc_a0e3_11ea_999b_8c1645af636arow21_col2 {\n",
       "            background-color:  #fff4ef;\n",
       "            color:  #000000;\n",
       "        }    #T_3084cfcc_a0e3_11ea_999b_8c1645af636arow21_col3 {\n",
       "            background-color:  #fff5f0;\n",
       "            color:  #000000;\n",
       "        }    #T_3084cfcc_a0e3_11ea_999b_8c1645af636arow22_col0 {\n",
       "            background-color:  #fff2ec;\n",
       "            color:  #000000;\n",
       "        }    #T_3084cfcc_a0e3_11ea_999b_8c1645af636arow22_col1 {\n",
       "            background-color:  #fff5f0;\n",
       "            color:  #000000;\n",
       "        }    #T_3084cfcc_a0e3_11ea_999b_8c1645af636arow22_col2 {\n",
       "            background-color:  #fff4ef;\n",
       "            color:  #000000;\n",
       "        }    #T_3084cfcc_a0e3_11ea_999b_8c1645af636arow22_col3 {\n",
       "            background-color:  #fff5f0;\n",
       "            color:  #000000;\n",
       "        }    #T_3084cfcc_a0e3_11ea_999b_8c1645af636arow23_col0 {\n",
       "            background-color:  #fff1ea;\n",
       "            color:  #000000;\n",
       "        }    #T_3084cfcc_a0e3_11ea_999b_8c1645af636arow23_col1 {\n",
       "            background-color:  #fff5f0;\n",
       "            color:  #000000;\n",
       "        }    #T_3084cfcc_a0e3_11ea_999b_8c1645af636arow23_col2 {\n",
       "            background-color:  #fff4ef;\n",
       "            color:  #000000;\n",
       "        }    #T_3084cfcc_a0e3_11ea_999b_8c1645af636arow23_col3 {\n",
       "            background-color:  #fff5f0;\n",
       "            color:  #000000;\n",
       "        }    #T_3084cfcc_a0e3_11ea_999b_8c1645af636arow24_col0 {\n",
       "            background-color:  #fff3ed;\n",
       "            color:  #000000;\n",
       "        }    #T_3084cfcc_a0e3_11ea_999b_8c1645af636arow24_col1 {\n",
       "            background-color:  #fff5f0;\n",
       "            color:  #000000;\n",
       "        }    #T_3084cfcc_a0e3_11ea_999b_8c1645af636arow24_col2 {\n",
       "            background-color:  #fff5f0;\n",
       "            color:  #000000;\n",
       "        }    #T_3084cfcc_a0e3_11ea_999b_8c1645af636arow24_col3 {\n",
       "            background-color:  #fff5f0;\n",
       "            color:  #000000;\n",
       "        }    #T_3084cfcc_a0e3_11ea_999b_8c1645af636arow25_col0 {\n",
       "            background-color:  #fff5f0;\n",
       "            color:  #000000;\n",
       "        }    #T_3084cfcc_a0e3_11ea_999b_8c1645af636arow25_col1 {\n",
       "            background-color:  #fff5f0;\n",
       "            color:  #000000;\n",
       "        }    #T_3084cfcc_a0e3_11ea_999b_8c1645af636arow25_col2 {\n",
       "            background-color:  #fff5f0;\n",
       "            color:  #000000;\n",
       "        }    #T_3084cfcc_a0e3_11ea_999b_8c1645af636arow25_col3 {\n",
       "            background-color:  #fff5f0;\n",
       "            color:  #000000;\n",
       "        }    #T_3084cfcc_a0e3_11ea_999b_8c1645af636arow26_col0 {\n",
       "            background-color:  #fff5f0;\n",
       "            color:  #000000;\n",
       "        }    #T_3084cfcc_a0e3_11ea_999b_8c1645af636arow26_col1 {\n",
       "            background-color:  #fff5f0;\n",
       "            color:  #000000;\n",
       "        }    #T_3084cfcc_a0e3_11ea_999b_8c1645af636arow26_col2 {\n",
       "            background-color:  #fff5f0;\n",
       "            color:  #000000;\n",
       "        }    #T_3084cfcc_a0e3_11ea_999b_8c1645af636arow26_col3 {\n",
       "            background-color:  #fff5f0;\n",
       "            color:  #000000;\n",
       "        }    #T_3084cfcc_a0e3_11ea_999b_8c1645af636arow27_col0 {\n",
       "            background-color:  #fff5f0;\n",
       "            color:  #000000;\n",
       "        }    #T_3084cfcc_a0e3_11ea_999b_8c1645af636arow27_col1 {\n",
       "            background-color:  #fff5f0;\n",
       "            color:  #000000;\n",
       "        }    #T_3084cfcc_a0e3_11ea_999b_8c1645af636arow27_col2 {\n",
       "            background-color:  #fff5f0;\n",
       "            color:  #000000;\n",
       "        }    #T_3084cfcc_a0e3_11ea_999b_8c1645af636arow27_col3 {\n",
       "            background-color:  #fff5f0;\n",
       "            color:  #000000;\n",
       "        }    #T_3084cfcc_a0e3_11ea_999b_8c1645af636arow28_col0 {\n",
       "            background-color:  #fff5f0;\n",
       "            color:  #000000;\n",
       "        }    #T_3084cfcc_a0e3_11ea_999b_8c1645af636arow28_col1 {\n",
       "            background-color:  #fff5f0;\n",
       "            color:  #000000;\n",
       "        }    #T_3084cfcc_a0e3_11ea_999b_8c1645af636arow28_col2 {\n",
       "            background-color:  #fff5f0;\n",
       "            color:  #000000;\n",
       "        }    #T_3084cfcc_a0e3_11ea_999b_8c1645af636arow28_col3 {\n",
       "            background-color:  #fff5f0;\n",
       "            color:  #000000;\n",
       "        }    #T_3084cfcc_a0e3_11ea_999b_8c1645af636arow29_col0 {\n",
       "            background-color:  #fff4ef;\n",
       "            color:  #000000;\n",
       "        }    #T_3084cfcc_a0e3_11ea_999b_8c1645af636arow29_col1 {\n",
       "            background-color:  #fff5f0;\n",
       "            color:  #000000;\n",
       "        }    #T_3084cfcc_a0e3_11ea_999b_8c1645af636arow29_col2 {\n",
       "            background-color:  #fff5f0;\n",
       "            color:  #000000;\n",
       "        }    #T_3084cfcc_a0e3_11ea_999b_8c1645af636arow29_col3 {\n",
       "            background-color:  #fff5f0;\n",
       "            color:  #000000;\n",
       "        }    #T_3084cfcc_a0e3_11ea_999b_8c1645af636arow30_col0 {\n",
       "            background-color:  #fff5f0;\n",
       "            color:  #000000;\n",
       "        }    #T_3084cfcc_a0e3_11ea_999b_8c1645af636arow30_col1 {\n",
       "            background-color:  #fff5f0;\n",
       "            color:  #000000;\n",
       "        }    #T_3084cfcc_a0e3_11ea_999b_8c1645af636arow30_col2 {\n",
       "            background-color:  #fff5f0;\n",
       "            color:  #000000;\n",
       "        }    #T_3084cfcc_a0e3_11ea_999b_8c1645af636arow30_col3 {\n",
       "            background-color:  #fff5f0;\n",
       "            color:  #000000;\n",
       "        }    #T_3084cfcc_a0e3_11ea_999b_8c1645af636arow31_col0 {\n",
       "            background-color:  #fff5f0;\n",
       "            color:  #000000;\n",
       "        }    #T_3084cfcc_a0e3_11ea_999b_8c1645af636arow31_col1 {\n",
       "            background-color:  #fff5f0;\n",
       "            color:  #000000;\n",
       "        }    #T_3084cfcc_a0e3_11ea_999b_8c1645af636arow31_col2 {\n",
       "            background-color:  #fff5f0;\n",
       "            color:  #000000;\n",
       "        }    #T_3084cfcc_a0e3_11ea_999b_8c1645af636arow31_col3 {\n",
       "            background-color:  #fff5f0;\n",
       "            color:  #000000;\n",
       "        }    #T_3084cfcc_a0e3_11ea_999b_8c1645af636arow32_col0 {\n",
       "            background-color:  #fff5f0;\n",
       "            color:  #000000;\n",
       "        }    #T_3084cfcc_a0e3_11ea_999b_8c1645af636arow32_col1 {\n",
       "            background-color:  #fff5f0;\n",
       "            color:  #000000;\n",
       "        }    #T_3084cfcc_a0e3_11ea_999b_8c1645af636arow32_col2 {\n",
       "            background-color:  #fff5f0;\n",
       "            color:  #000000;\n",
       "        }    #T_3084cfcc_a0e3_11ea_999b_8c1645af636arow32_col3 {\n",
       "            background-color:  #fff5f0;\n",
       "            color:  #000000;\n",
       "        }    #T_3084cfcc_a0e3_11ea_999b_8c1645af636arow33_col0 {\n",
       "            background-color:  #fff5f0;\n",
       "            color:  #000000;\n",
       "        }    #T_3084cfcc_a0e3_11ea_999b_8c1645af636arow33_col1 {\n",
       "            background-color:  #fff5f0;\n",
       "            color:  #000000;\n",
       "        }    #T_3084cfcc_a0e3_11ea_999b_8c1645af636arow33_col2 {\n",
       "            background-color:  #fff5f0;\n",
       "            color:  #000000;\n",
       "        }    #T_3084cfcc_a0e3_11ea_999b_8c1645af636arow33_col3 {\n",
       "            background-color:  #fff5f0;\n",
       "            color:  #000000;\n",
       "        }    #T_3084cfcc_a0e3_11ea_999b_8c1645af636arow34_col0 {\n",
       "            background-color:  #fff5f0;\n",
       "            color:  #000000;\n",
       "        }    #T_3084cfcc_a0e3_11ea_999b_8c1645af636arow34_col1 {\n",
       "            background-color:  #fff5f0;\n",
       "            color:  #000000;\n",
       "        }    #T_3084cfcc_a0e3_11ea_999b_8c1645af636arow34_col2 {\n",
       "            background-color:  #fff5f0;\n",
       "            color:  #000000;\n",
       "        }    #T_3084cfcc_a0e3_11ea_999b_8c1645af636arow34_col3 {\n",
       "            background-color:  #fff5f0;\n",
       "            color:  #000000;\n",
       "        }</style><table id=\"T_3084cfcc_a0e3_11ea_999b_8c1645af636a\" ><thead>    <tr>        <th class=\"blank level0\" ></th>        <th class=\"col_heading level0 col0\" >Cured</th>        <th class=\"col_heading level0 col1\" >Deaths</th>        <th class=\"col_heading level0 col2\" >Confirmed</th>        <th class=\"col_heading level0 col3\" >Active Cases</th>    </tr>    <tr>        <th class=\"index_name level0\" >State/UnionTerritory</th>        <th class=\"blank\" ></th>        <th class=\"blank\" ></th>        <th class=\"blank\" ></th>        <th class=\"blank\" ></th>    </tr></thead><tbody>\n",
       "                <tr>\n",
       "                        <th id=\"T_3084cfcc_a0e3_11ea_999b_8c1645af636alevel0_row0\" class=\"row_heading level0 row0\" >Maharashtra</th>\n",
       "                        <td id=\"T_3084cfcc_a0e3_11ea_999b_8c1645af636arow0_col0\" class=\"data row0 col0\" >27128</td>\n",
       "                        <td id=\"T_3084cfcc_a0e3_11ea_999b_8c1645af636arow0_col1\" class=\"data row0 col1\" >8616</td>\n",
       "                        <td id=\"T_3084cfcc_a0e3_11ea_999b_8c1645af636arow0_col2\" class=\"data row0 col2\" >186125</td>\n",
       "                        <td id=\"T_3084cfcc_a0e3_11ea_999b_8c1645af636arow0_col3\" class=\"data row0 col3\" >150381</td>\n",
       "            </tr>\n",
       "            <tr>\n",
       "                        <th id=\"T_3084cfcc_a0e3_11ea_999b_8c1645af636alevel0_row1\" class=\"row_heading level0 row1\" >Gujarat</th>\n",
       "                        <td id=\"T_3084cfcc_a0e3_11ea_999b_8c1645af636arow1_col0\" class=\"data row1 col0\" >9634</td>\n",
       "                        <td id=\"T_3084cfcc_a0e3_11ea_999b_8c1645af636arow1_col1\" class=\"data row1 col1\" >3540</td>\n",
       "                        <td id=\"T_3084cfcc_a0e3_11ea_999b_8c1645af636arow1_col2\" class=\"data row1 col2\" >72664</td>\n",
       "                        <td id=\"T_3084cfcc_a0e3_11ea_999b_8c1645af636arow1_col3\" class=\"data row1 col3\" >59490</td>\n",
       "            </tr>\n",
       "            <tr>\n",
       "                        <th id=\"T_3084cfcc_a0e3_11ea_999b_8c1645af636alevel0_row2\" class=\"row_heading level0 row2\" >Delhi</th>\n",
       "                        <td id=\"T_3084cfcc_a0e3_11ea_999b_8c1645af636arow2_col0\" class=\"data row2 col0\" >16908</td>\n",
       "                        <td id=\"T_3084cfcc_a0e3_11ea_999b_8c1645af636arow2_col1\" class=\"data row2 col1\" >1297</td>\n",
       "                        <td id=\"T_3084cfcc_a0e3_11ea_999b_8c1645af636arow2_col2\" class=\"data row2 col2\" >73099</td>\n",
       "                        <td id=\"T_3084cfcc_a0e3_11ea_999b_8c1645af636arow2_col3\" class=\"data row2 col3\" >54894</td>\n",
       "            </tr>\n",
       "            <tr>\n",
       "                        <th id=\"T_3084cfcc_a0e3_11ea_999b_8c1645af636alevel0_row3\" class=\"row_heading level0 row3\" >Madhya Pradesh</th>\n",
       "                        <td id=\"T_3084cfcc_a0e3_11ea_999b_8c1645af636arow3_col0\" class=\"data row3 col0\" >7760</td>\n",
       "                        <td id=\"T_3084cfcc_a0e3_11ea_999b_8c1645af636arow3_col1\" class=\"data row3 col1\" >2581</td>\n",
       "                        <td id=\"T_3084cfcc_a0e3_11ea_999b_8c1645af636arow3_col2\" class=\"data row3 col2\" >49719</td>\n",
       "                        <td id=\"T_3084cfcc_a0e3_11ea_999b_8c1645af636arow3_col3\" class=\"data row3 col3\" >39378</td>\n",
       "            </tr>\n",
       "            <tr>\n",
       "                        <th id=\"T_3084cfcc_a0e3_11ea_999b_8c1645af636alevel0_row4\" class=\"row_heading level0 row4\" >Rajasthan</th>\n",
       "                        <td id=\"T_3084cfcc_a0e3_11ea_999b_8c1645af636arow4_col0\" class=\"data row4 col0\" >13100</td>\n",
       "                        <td id=\"T_3084cfcc_a0e3_11ea_999b_8c1645af636arow4_col1\" class=\"data row4 col1\" >852</td>\n",
       "                        <td id=\"T_3084cfcc_a0e3_11ea_999b_8c1645af636arow4_col2\" class=\"data row4 col2\" >51008</td>\n",
       "                        <td id=\"T_3084cfcc_a0e3_11ea_999b_8c1645af636arow4_col3\" class=\"data row4 col3\" >37056</td>\n",
       "            </tr>\n",
       "            <tr>\n",
       "                        <th id=\"T_3084cfcc_a0e3_11ea_999b_8c1645af636alevel0_row5\" class=\"row_heading level0 row5\" >Uttar Pradesh</th>\n",
       "                        <td id=\"T_3084cfcc_a0e3_11ea_999b_8c1645af636arow5_col0\" class=\"data row5 col0\" >8615</td>\n",
       "                        <td id=\"T_3084cfcc_a0e3_11ea_999b_8c1645af636arow5_col1\" class=\"data row5 col1\" >690</td>\n",
       "                        <td id=\"T_3084cfcc_a0e3_11ea_999b_8c1645af636arow5_col2\" class=\"data row5 col2\" >44390</td>\n",
       "                        <td id=\"T_3084cfcc_a0e3_11ea_999b_8c1645af636arow5_col3\" class=\"data row5 col3\" >35085</td>\n",
       "            </tr>\n",
       "            <tr>\n",
       "                        <th id=\"T_3084cfcc_a0e3_11ea_999b_8c1645af636alevel0_row6\" class=\"row_heading level0 row6\" >Tamil Nadu</th>\n",
       "                        <td id=\"T_3084cfcc_a0e3_11ea_999b_8c1645af636arow6_col0\" class=\"data row6 col0\" >18779</td>\n",
       "                        <td id=\"T_3084cfcc_a0e3_11ea_999b_8c1645af636arow6_col1\" class=\"data row6 col1\" >569</td>\n",
       "                        <td id=\"T_3084cfcc_a0e3_11ea_999b_8c1645af636arow6_col2\" class=\"data row6 col2\" >53777</td>\n",
       "                        <td id=\"T_3084cfcc_a0e3_11ea_999b_8c1645af636arow6_col3\" class=\"data row6 col3\" >34429</td>\n",
       "            </tr>\n",
       "            <tr>\n",
       "                        <th id=\"T_3084cfcc_a0e3_11ea_999b_8c1645af636alevel0_row7\" class=\"row_heading level0 row7\" >Andhra Pradesh</th>\n",
       "                        <td id=\"T_3084cfcc_a0e3_11ea_999b_8c1645af636arow7_col0\" class=\"data row7 col0\" >5328</td>\n",
       "                        <td id=\"T_3084cfcc_a0e3_11ea_999b_8c1645af636arow7_col1\" class=\"data row7 col1\" >634</td>\n",
       "                        <td id=\"T_3084cfcc_a0e3_11ea_999b_8c1645af636arow7_col2\" class=\"data row7 col2\" >27869</td>\n",
       "                        <td id=\"T_3084cfcc_a0e3_11ea_999b_8c1645af636arow7_col3\" class=\"data row7 col3\" >21907</td>\n",
       "            </tr>\n",
       "            <tr>\n",
       "                        <th id=\"T_3084cfcc_a0e3_11ea_999b_8c1645af636alevel0_row8\" class=\"row_heading level0 row8\" >Telengana</th>\n",
       "                        <td id=\"T_3084cfcc_a0e3_11ea_999b_8c1645af636arow8_col0\" class=\"data row8 col0\" >7203</td>\n",
       "                        <td id=\"T_3084cfcc_a0e3_11ea_999b_8c1645af636arow8_col1\" class=\"data row8 col1\" >646</td>\n",
       "                        <td id=\"T_3084cfcc_a0e3_11ea_999b_8c1645af636arow8_col2\" class=\"data row8 col2\" >26382</td>\n",
       "                        <td id=\"T_3084cfcc_a0e3_11ea_999b_8c1645af636arow8_col3\" class=\"data row8 col3\" >18533</td>\n",
       "            </tr>\n",
       "            <tr>\n",
       "                        <th id=\"T_3084cfcc_a0e3_11ea_999b_8c1645af636alevel0_row9\" class=\"row_heading level0 row9\" >West Bengal</th>\n",
       "                        <td id=\"T_3084cfcc_a0e3_11ea_999b_8c1645af636arow9_col0\" class=\"data row9 col0\" >2664</td>\n",
       "                        <td id=\"T_3084cfcc_a0e3_11ea_999b_8c1645af636arow9_col1\" class=\"data row9 col1\" >711</td>\n",
       "                        <td id=\"T_3084cfcc_a0e3_11ea_999b_8c1645af636arow9_col2\" class=\"data row9 col2\" >15039</td>\n",
       "                        <td id=\"T_3084cfcc_a0e3_11ea_999b_8c1645af636arow9_col3\" class=\"data row9 col3\" >11664</td>\n",
       "            </tr>\n",
       "            <tr>\n",
       "                        <th id=\"T_3084cfcc_a0e3_11ea_999b_8c1645af636alevel0_row10\" class=\"row_heading level0 row10\" >Jammu and Kashmir</th>\n",
       "                        <td id=\"T_3084cfcc_a0e3_11ea_999b_8c1645af636arow10_col0\" class=\"data row10 col0\" >3185</td>\n",
       "                        <td id=\"T_3084cfcc_a0e3_11ea_999b_8c1645af636arow10_col1\" class=\"data row10 col1\" >183</td>\n",
       "                        <td id=\"T_3084cfcc_a0e3_11ea_999b_8c1645af636arow10_col2\" class=\"data row10 col2\" >12980</td>\n",
       "                        <td id=\"T_3084cfcc_a0e3_11ea_999b_8c1645af636arow10_col3\" class=\"data row10 col3\" >9612</td>\n",
       "            </tr>\n",
       "            <tr>\n",
       "                        <th id=\"T_3084cfcc_a0e3_11ea_999b_8c1645af636alevel0_row11\" class=\"row_heading level0 row11\" >Punjab</th>\n",
       "                        <td id=\"T_3084cfcc_a0e3_11ea_999b_8c1645af636arow11_col0\" class=\"data row11 col0\" >1550</td>\n",
       "                        <td id=\"T_3084cfcc_a0e3_11ea_999b_8c1645af636arow11_col1\" class=\"data row11 col1\" >504</td>\n",
       "                        <td id=\"T_3084cfcc_a0e3_11ea_999b_8c1645af636arow11_col2\" class=\"data row11 col2\" >11259</td>\n",
       "                        <td id=\"T_3084cfcc_a0e3_11ea_999b_8c1645af636arow11_col3\" class=\"data row11 col3\" >9205</td>\n",
       "            </tr>\n",
       "            <tr>\n",
       "                        <th id=\"T_3084cfcc_a0e3_11ea_999b_8c1645af636alevel0_row12\" class=\"row_heading level0 row12\" >Karnataka</th>\n",
       "                        <td id=\"T_3084cfcc_a0e3_11ea_999b_8c1645af636arow12_col0\" class=\"data row12 col0\" >4366</td>\n",
       "                        <td id=\"T_3084cfcc_a0e3_11ea_999b_8c1645af636arow12_col1\" class=\"data row12 col1\" >512</td>\n",
       "                        <td id=\"T_3084cfcc_a0e3_11ea_999b_8c1645af636arow12_col2\" class=\"data row12 col2\" >13772</td>\n",
       "                        <td id=\"T_3084cfcc_a0e3_11ea_999b_8c1645af636arow12_col3\" class=\"data row12 col3\" >8894</td>\n",
       "            </tr>\n",
       "            <tr>\n",
       "                        <th id=\"T_3084cfcc_a0e3_11ea_999b_8c1645af636alevel0_row13\" class=\"row_heading level0 row13\" >Kerala</th>\n",
       "                        <td id=\"T_3084cfcc_a0e3_11ea_999b_8c1645af636arow13_col0\" class=\"data row13 col0\" >8633</td>\n",
       "                        <td id=\"T_3084cfcc_a0e3_11ea_999b_8c1645af636arow13_col1\" class=\"data row13 col1\" >111</td>\n",
       "                        <td id=\"T_3084cfcc_a0e3_11ea_999b_8c1645af636arow13_col2\" class=\"data row13 col2\" >16270</td>\n",
       "                        <td id=\"T_3084cfcc_a0e3_11ea_999b_8c1645af636arow13_col3\" class=\"data row13 col3\" >7526</td>\n",
       "            </tr>\n",
       "            <tr>\n",
       "                        <th id=\"T_3084cfcc_a0e3_11ea_999b_8c1645af636alevel0_row14\" class=\"row_heading level0 row14\" >Bihar</th>\n",
       "                        <td id=\"T_3084cfcc_a0e3_11ea_999b_8c1645af636arow14_col0\" class=\"data row14 col0\" >1490</td>\n",
       "                        <td id=\"T_3084cfcc_a0e3_11ea_999b_8c1645af636arow14_col1\" class=\"data row14 col1\" >74</td>\n",
       "                        <td id=\"T_3084cfcc_a0e3_11ea_999b_8c1645af636arow14_col2\" class=\"data row14 col2\" >6571</td>\n",
       "                        <td id=\"T_3084cfcc_a0e3_11ea_999b_8c1645af636arow14_col3\" class=\"data row14 col3\" >5007</td>\n",
       "            </tr>\n",
       "            <tr>\n",
       "                        <th id=\"T_3084cfcc_a0e3_11ea_999b_8c1645af636alevel0_row15\" class=\"row_heading level0 row15\" >Haryana</th>\n",
       "                        <td id=\"T_3084cfcc_a0e3_11ea_999b_8c1645af636arow15_col0\" class=\"data row15 col0\" >3898</td>\n",
       "                        <td id=\"T_3084cfcc_a0e3_11ea_999b_8c1645af636arow15_col1\" class=\"data row15 col1\" >100</td>\n",
       "                        <td id=\"T_3084cfcc_a0e3_11ea_999b_8c1645af636arow15_col2\" class=\"data row15 col2\" >8816</td>\n",
       "                        <td id=\"T_3084cfcc_a0e3_11ea_999b_8c1645af636arow15_col3\" class=\"data row15 col3\" >4818</td>\n",
       "            </tr>\n",
       "            <tr>\n",
       "                        <th id=\"T_3084cfcc_a0e3_11ea_999b_8c1645af636alevel0_row16\" class=\"row_heading level0 row16\" >Odisha</th>\n",
       "                        <td id=\"T_3084cfcc_a0e3_11ea_999b_8c1645af636arow16_col0\" class=\"data row16 col0\" >845</td>\n",
       "                        <td id=\"T_3084cfcc_a0e3_11ea_999b_8c1645af636arow16_col1\" class=\"data row16 col1\" >30</td>\n",
       "                        <td id=\"T_3084cfcc_a0e3_11ea_999b_8c1645af636arow16_col2\" class=\"data row16 col2\" >2800</td>\n",
       "                        <td id=\"T_3084cfcc_a0e3_11ea_999b_8c1645af636arow16_col3\" class=\"data row16 col3\" >1925</td>\n",
       "            </tr>\n",
       "            <tr>\n",
       "                        <th id=\"T_3084cfcc_a0e3_11ea_999b_8c1645af636alevel0_row17\" class=\"row_heading level0 row17\" >Jharkhand</th>\n",
       "                        <td id=\"T_3084cfcc_a0e3_11ea_999b_8c1645af636arow17_col0\" class=\"data row17 col0\" >250</td>\n",
       "                        <td id=\"T_3084cfcc_a0e3_11ea_999b_8c1645af636arow17_col1\" class=\"data row17 col1\" >66</td>\n",
       "                        <td id=\"T_3084cfcc_a0e3_11ea_999b_8c1645af636arow17_col2\" class=\"data row17 col2\" >1728</td>\n",
       "                        <td id=\"T_3084cfcc_a0e3_11ea_999b_8c1645af636arow17_col3\" class=\"data row17 col3\" >1412</td>\n",
       "            </tr>\n",
       "            <tr>\n",
       "                        <th id=\"T_3084cfcc_a0e3_11ea_999b_8c1645af636alevel0_row18\" class=\"row_heading level0 row18\" >Chandigarh</th>\n",
       "                        <td id=\"T_3084cfcc_a0e3_11ea_999b_8c1645af636arow18_col0\" class=\"data row18 col0\" >380</td>\n",
       "                        <td id=\"T_3084cfcc_a0e3_11ea_999b_8c1645af636arow18_col1\" class=\"data row18 col1\" >2</td>\n",
       "                        <td id=\"T_3084cfcc_a0e3_11ea_999b_8c1645af636arow18_col2\" class=\"data row18 col2\" >1359</td>\n",
       "                        <td id=\"T_3084cfcc_a0e3_11ea_999b_8c1645af636arow18_col3\" class=\"data row18 col3\" >977</td>\n",
       "            </tr>\n",
       "            <tr>\n",
       "                        <th id=\"T_3084cfcc_a0e3_11ea_999b_8c1645af636alevel0_row19\" class=\"row_heading level0 row19\" >Uttarakhand</th>\n",
       "                        <td id=\"T_3084cfcc_a0e3_11ea_999b_8c1645af636arow19_col0\" class=\"data row19 col0\" >617</td>\n",
       "                        <td id=\"T_3084cfcc_a0e3_11ea_999b_8c1645af636arow19_col1\" class=\"data row19 col1\" >3</td>\n",
       "                        <td id=\"T_3084cfcc_a0e3_11ea_999b_8c1645af636arow19_col2\" class=\"data row19 col2\" >1509</td>\n",
       "                        <td id=\"T_3084cfcc_a0e3_11ea_999b_8c1645af636arow19_col3\" class=\"data row19 col3\" >889</td>\n",
       "            </tr>\n",
       "            <tr>\n",
       "                        <th id=\"T_3084cfcc_a0e3_11ea_999b_8c1645af636alevel0_row20\" class=\"row_heading level0 row20\" >Assam</th>\n",
       "                        <td id=\"T_3084cfcc_a0e3_11ea_999b_8c1645af636arow20_col0\" class=\"data row20 col0\" >461</td>\n",
       "                        <td id=\"T_3084cfcc_a0e3_11ea_999b_8c1645af636arow20_col1\" class=\"data row20 col1\" >26</td>\n",
       "                        <td id=\"T_3084cfcc_a0e3_11ea_999b_8c1645af636arow20_col2\" class=\"data row20 col2\" >1158</td>\n",
       "                        <td id=\"T_3084cfcc_a0e3_11ea_999b_8c1645af636arow20_col3\" class=\"data row20 col3\" >671</td>\n",
       "            </tr>\n",
       "            <tr>\n",
       "                        <th id=\"T_3084cfcc_a0e3_11ea_999b_8c1645af636alevel0_row21\" class=\"row_heading level0 row21\" >Himachal Pradesh</th>\n",
       "                        <td id=\"T_3084cfcc_a0e3_11ea_999b_8c1645af636arow21_col0\" class=\"data row21 col0\" >552</td>\n",
       "                        <td id=\"T_3084cfcc_a0e3_11ea_999b_8c1645af636arow21_col1\" class=\"data row21 col1\" >45</td>\n",
       "                        <td id=\"T_3084cfcc_a0e3_11ea_999b_8c1645af636arow21_col2\" class=\"data row21 col2\" >1128</td>\n",
       "                        <td id=\"T_3084cfcc_a0e3_11ea_999b_8c1645af636arow21_col3\" class=\"data row21 col3\" >531</td>\n",
       "            </tr>\n",
       "            <tr>\n",
       "                        <th id=\"T_3084cfcc_a0e3_11ea_999b_8c1645af636alevel0_row22\" class=\"row_heading level0 row22\" >Ladakh</th>\n",
       "                        <td id=\"T_3084cfcc_a0e3_11ea_999b_8c1645af636arow22_col0\" class=\"data row22 col0\" >450</td>\n",
       "                        <td id=\"T_3084cfcc_a0e3_11ea_999b_8c1645af636arow22_col1\" class=\"data row22 col1\" >0</td>\n",
       "                        <td id=\"T_3084cfcc_a0e3_11ea_999b_8c1645af636arow22_col2\" class=\"data row22 col2\" >911</td>\n",
       "                        <td id=\"T_3084cfcc_a0e3_11ea_999b_8c1645af636arow22_col3\" class=\"data row22 col3\" >461</td>\n",
       "            </tr>\n",
       "            <tr>\n",
       "                        <th id=\"T_3084cfcc_a0e3_11ea_999b_8c1645af636alevel0_row23\" class=\"row_heading level0 row23\" >Chhattisgarh</th>\n",
       "                        <td id=\"T_3084cfcc_a0e3_11ea_999b_8c1645af636arow23_col0\" class=\"data row23 col0\" >741</td>\n",
       "                        <td id=\"T_3084cfcc_a0e3_11ea_999b_8c1645af636arow23_col1\" class=\"data row23 col1\" >0</td>\n",
       "                        <td id=\"T_3084cfcc_a0e3_11ea_999b_8c1645af636arow23_col2\" class=\"data row23 col2\" >1124</td>\n",
       "                        <td id=\"T_3084cfcc_a0e3_11ea_999b_8c1645af636arow23_col3\" class=\"data row23 col3\" >383</td>\n",
       "            </tr>\n",
       "            <tr>\n",
       "                        <th id=\"T_3084cfcc_a0e3_11ea_999b_8c1645af636alevel0_row24\" class=\"row_heading level0 row24\" >Andaman and Nicobar Islands</th>\n",
       "                        <td id=\"T_3084cfcc_a0e3_11ea_999b_8c1645af636arow24_col0\" class=\"data row24 col0\" >356</td>\n",
       "                        <td id=\"T_3084cfcc_a0e3_11ea_999b_8c1645af636arow24_col1\" class=\"data row24 col1\" >0</td>\n",
       "                        <td id=\"T_3084cfcc_a0e3_11ea_999b_8c1645af636arow24_col2\" class=\"data row24 col2\" >719</td>\n",
       "                        <td id=\"T_3084cfcc_a0e3_11ea_999b_8c1645af636arow24_col3\" class=\"data row24 col3\" >363</td>\n",
       "            </tr>\n",
       "            <tr>\n",
       "                        <th id=\"T_3084cfcc_a0e3_11ea_999b_8c1645af636alevel0_row25\" class=\"row_heading level0 row25\" >Meghalaya</th>\n",
       "                        <td id=\"T_3084cfcc_a0e3_11ea_999b_8c1645af636arow25_col0\" class=\"data row25 col0\" >20</td>\n",
       "                        <td id=\"T_3084cfcc_a0e3_11ea_999b_8c1645af636arow25_col1\" class=\"data row25 col1\" >22</td>\n",
       "                        <td id=\"T_3084cfcc_a0e3_11ea_999b_8c1645af636arow25_col2\" class=\"data row25 col2\" >248</td>\n",
       "                        <td id=\"T_3084cfcc_a0e3_11ea_999b_8c1645af636arow25_col3\" class=\"data row25 col3\" >206</td>\n",
       "            </tr>\n",
       "            <tr>\n",
       "                        <th id=\"T_3084cfcc_a0e3_11ea_999b_8c1645af636alevel0_row26\" class=\"row_heading level0 row26\" >Puducherry</th>\n",
       "                        <td id=\"T_3084cfcc_a0e3_11ea_999b_8c1645af636arow26_col0\" class=\"data row26 col0\" >90</td>\n",
       "                        <td id=\"T_3084cfcc_a0e3_11ea_999b_8c1645af636arow26_col1\" class=\"data row26 col1\" >0</td>\n",
       "                        <td id=\"T_3084cfcc_a0e3_11ea_999b_8c1645af636arow26_col2\" class=\"data row26 col2\" >254</td>\n",
       "                        <td id=\"T_3084cfcc_a0e3_11ea_999b_8c1645af636arow26_col3\" class=\"data row26 col3\" >164</td>\n",
       "            </tr>\n",
       "            <tr>\n",
       "                        <th id=\"T_3084cfcc_a0e3_11ea_999b_8c1645af636alevel0_row27\" class=\"row_heading level0 row27\" >Unassigned</th>\n",
       "                        <td id=\"T_3084cfcc_a0e3_11ea_999b_8c1645af636arow27_col0\" class=\"data row27 col0\" >0</td>\n",
       "                        <td id=\"T_3084cfcc_a0e3_11ea_999b_8c1645af636arow27_col1\" class=\"data row27 col1\" >0</td>\n",
       "                        <td id=\"T_3084cfcc_a0e3_11ea_999b_8c1645af636arow27_col2\" class=\"data row27 col2\" >161</td>\n",
       "                        <td id=\"T_3084cfcc_a0e3_11ea_999b_8c1645af636arow27_col3\" class=\"data row27 col3\" >161</td>\n",
       "            </tr>\n",
       "            <tr>\n",
       "                        <th id=\"T_3084cfcc_a0e3_11ea_999b_8c1645af636alevel0_row28\" class=\"row_heading level0 row28\" >Tripura</th>\n",
       "                        <td id=\"T_3084cfcc_a0e3_11ea_999b_8c1645af636arow28_col0\" class=\"data row28 col0\" >32</td>\n",
       "                        <td id=\"T_3084cfcc_a0e3_11ea_999b_8c1645af636arow28_col1\" class=\"data row28 col1\" >0</td>\n",
       "                        <td id=\"T_3084cfcc_a0e3_11ea_999b_8c1645af636arow28_col2\" class=\"data row28 col2\" >140</td>\n",
       "                        <td id=\"T_3084cfcc_a0e3_11ea_999b_8c1645af636arow28_col3\" class=\"data row28 col3\" >108</td>\n",
       "            </tr>\n",
       "            <tr>\n",
       "                        <th id=\"T_3084cfcc_a0e3_11ea_999b_8c1645af636alevel0_row29\" class=\"row_heading level0 row29\" >Goa</th>\n",
       "                        <td id=\"T_3084cfcc_a0e3_11ea_999b_8c1645af636arow29_col0\" class=\"data row29 col0\" >164</td>\n",
       "                        <td id=\"T_3084cfcc_a0e3_11ea_999b_8c1645af636arow29_col1\" class=\"data row29 col1\" >0</td>\n",
       "                        <td id=\"T_3084cfcc_a0e3_11ea_999b_8c1645af636arow29_col2\" class=\"data row29 col2\" >271</td>\n",
       "                        <td id=\"T_3084cfcc_a0e3_11ea_999b_8c1645af636arow29_col3\" class=\"data row29 col3\" >107</td>\n",
       "            </tr>\n",
       "            <tr>\n",
       "                        <th id=\"T_3084cfcc_a0e3_11ea_999b_8c1645af636alevel0_row30\" class=\"row_heading level0 row30\" >Mizoram</th>\n",
       "                        <td id=\"T_3084cfcc_a0e3_11ea_999b_8c1645af636arow30_col0\" class=\"data row30 col0\" >0</td>\n",
       "                        <td id=\"T_3084cfcc_a0e3_11ea_999b_8c1645af636arow30_col1\" class=\"data row30 col1\" >0</td>\n",
       "                        <td id=\"T_3084cfcc_a0e3_11ea_999b_8c1645af636arow30_col2\" class=\"data row30 col2\" >43</td>\n",
       "                        <td id=\"T_3084cfcc_a0e3_11ea_999b_8c1645af636arow30_col3\" class=\"data row30 col3\" >43</td>\n",
       "            </tr>\n",
       "            <tr>\n",
       "                        <th id=\"T_3084cfcc_a0e3_11ea_999b_8c1645af636alevel0_row31\" class=\"row_heading level0 row31\" >Manipur</th>\n",
       "                        <td id=\"T_3084cfcc_a0e3_11ea_999b_8c1645af636arow31_col0\" class=\"data row31 col0\" >45</td>\n",
       "                        <td id=\"T_3084cfcc_a0e3_11ea_999b_8c1645af636arow31_col1\" class=\"data row31 col1\" >0</td>\n",
       "                        <td id=\"T_3084cfcc_a0e3_11ea_999b_8c1645af636arow31_col2\" class=\"data row31 col2\" >78</td>\n",
       "                        <td id=\"T_3084cfcc_a0e3_11ea_999b_8c1645af636arow31_col3\" class=\"data row31 col3\" >33</td>\n",
       "            </tr>\n",
       "            <tr>\n",
       "                        <th id=\"T_3084cfcc_a0e3_11ea_999b_8c1645af636alevel0_row32\" class=\"row_heading level0 row32\" >Arunachal Pradesh</th>\n",
       "                        <td id=\"T_3084cfcc_a0e3_11ea_999b_8c1645af636arow32_col0\" class=\"data row32 col0\" >16</td>\n",
       "                        <td id=\"T_3084cfcc_a0e3_11ea_999b_8c1645af636arow32_col1\" class=\"data row32 col1\" >0</td>\n",
       "                        <td id=\"T_3084cfcc_a0e3_11ea_999b_8c1645af636arow32_col2\" class=\"data row32 col2\" >34</td>\n",
       "                        <td id=\"T_3084cfcc_a0e3_11ea_999b_8c1645af636arow32_col3\" class=\"data row32 col3\" >18</td>\n",
       "            </tr>\n",
       "            <tr>\n",
       "                        <th id=\"T_3084cfcc_a0e3_11ea_999b_8c1645af636alevel0_row33\" class=\"row_heading level0 row33\" >Nagaland</th>\n",
       "                        <td id=\"T_3084cfcc_a0e3_11ea_999b_8c1645af636arow33_col0\" class=\"data row33 col0\" >0</td>\n",
       "                        <td id=\"T_3084cfcc_a0e3_11ea_999b_8c1645af636arow33_col1\" class=\"data row33 col1\" >0</td>\n",
       "                        <td id=\"T_3084cfcc_a0e3_11ea_999b_8c1645af636arow33_col2\" class=\"data row33 col2\" >2</td>\n",
       "                        <td id=\"T_3084cfcc_a0e3_11ea_999b_8c1645af636arow33_col3\" class=\"data row33 col3\" >2</td>\n",
       "            </tr>\n",
       "            <tr>\n",
       "                        <th id=\"T_3084cfcc_a0e3_11ea_999b_8c1645af636alevel0_row34\" class=\"row_heading level0 row34\" >Dadar Nagar Haveli</th>\n",
       "                        <td id=\"T_3084cfcc_a0e3_11ea_999b_8c1645af636arow34_col0\" class=\"data row34 col0\" >0</td>\n",
       "                        <td id=\"T_3084cfcc_a0e3_11ea_999b_8c1645af636arow34_col1\" class=\"data row34 col1\" >0</td>\n",
       "                        <td id=\"T_3084cfcc_a0e3_11ea_999b_8c1645af636arow34_col2\" class=\"data row34 col2\" >1</td>\n",
       "                        <td id=\"T_3084cfcc_a0e3_11ea_999b_8c1645af636arow34_col3\" class=\"data row34 col3\" >1</td>\n",
       "            </tr>\n",
       "    </tbody></table>"
      ],
      "text/plain": [
       "<pandas.io.formats.style.Styler at 0x13db3b4abe0>"
      ]
     },
     "execution_count": 45,
     "metadata": {},
     "output_type": "execute_result"
    }
   ],
   "source": [
    "total.style.background_gradient(cmap='Reds')"
   ]
  },
  {
   "cell_type": "code",
   "execution_count": 46,
   "metadata": {},
   "outputs": [],
   "source": [
    "df1 = pd.read_excel('C:\\\\Users\\\\preethi\\\\Downloads\\\\covid19-in-india\\\\Indian Coordinates.xlsx')"
   ]
  },
  {
   "cell_type": "code",
   "execution_count": 47,
   "metadata": {},
   "outputs": [
    {
     "data": {
      "text/html": [
       "<div>\n",
       "<style scoped>\n",
       "    .dataframe tbody tr th:only-of-type {\n",
       "        vertical-align: middle;\n",
       "    }\n",
       "\n",
       "    .dataframe tbody tr th {\n",
       "        vertical-align: top;\n",
       "    }\n",
       "\n",
       "    .dataframe thead th {\n",
       "        text-align: right;\n",
       "    }\n",
       "</style>\n",
       "<table border=\"1\" class=\"dataframe\">\n",
       "  <thead>\n",
       "    <tr style=\"text-align: right;\">\n",
       "      <th></th>\n",
       "      <th>Name of State / UT</th>\n",
       "      <th>Latitude</th>\n",
       "      <th>Longitude</th>\n",
       "    </tr>\n",
       "  </thead>\n",
       "  <tbody>\n",
       "    <tr>\n",
       "      <th>0</th>\n",
       "      <td>Andaman And Nicobar</td>\n",
       "      <td>11.667026</td>\n",
       "      <td>92.735983</td>\n",
       "    </tr>\n",
       "    <tr>\n",
       "      <th>1</th>\n",
       "      <td>Andhra Pradesh</td>\n",
       "      <td>14.750429</td>\n",
       "      <td>78.570026</td>\n",
       "    </tr>\n",
       "    <tr>\n",
       "      <th>2</th>\n",
       "      <td>Arunachal Pradesh</td>\n",
       "      <td>27.100399</td>\n",
       "      <td>93.616601</td>\n",
       "    </tr>\n",
       "    <tr>\n",
       "      <th>3</th>\n",
       "      <td>Assam</td>\n",
       "      <td>26.749981</td>\n",
       "      <td>94.216667</td>\n",
       "    </tr>\n",
       "    <tr>\n",
       "      <th>4</th>\n",
       "      <td>Bihar</td>\n",
       "      <td>25.785414</td>\n",
       "      <td>87.479973</td>\n",
       "    </tr>\n",
       "  </tbody>\n",
       "</table>\n",
       "</div>"
      ],
      "text/plain": [
       "     Name of State / UT   Latitude  Longitude\n",
       "0  Andaman And Nicobar   11.667026  92.735983\n",
       "1        Andhra Pradesh  14.750429  78.570026\n",
       "2    Arunachal Pradesh   27.100399  93.616601\n",
       "3                Assam   26.749981  94.216667\n",
       "4                Bihar   25.785414  87.479973"
      ]
     },
     "execution_count": 47,
     "metadata": {},
     "output_type": "execute_result"
    }
   ],
   "source": [
    "df1.head()"
   ]
  },
  {
   "cell_type": "code",
   "execution_count": 48,
   "metadata": {},
   "outputs": [],
   "source": [
    "df1.rename(columns={'Name of State / UT':'State/UnionTerritory'},inplace = True)"
   ]
  },
  {
   "cell_type": "code",
   "execution_count": 49,
   "metadata": {},
   "outputs": [
    {
     "data": {
      "text/html": [
       "<div>\n",
       "<style scoped>\n",
       "    .dataframe tbody tr th:only-of-type {\n",
       "        vertical-align: middle;\n",
       "    }\n",
       "\n",
       "    .dataframe tbody tr th {\n",
       "        vertical-align: top;\n",
       "    }\n",
       "\n",
       "    .dataframe thead th {\n",
       "        text-align: right;\n",
       "    }\n",
       "</style>\n",
       "<table border=\"1\" class=\"dataframe\">\n",
       "  <thead>\n",
       "    <tr style=\"text-align: right;\">\n",
       "      <th></th>\n",
       "      <th>State/UnionTerritory</th>\n",
       "      <th>Latitude</th>\n",
       "      <th>Longitude</th>\n",
       "    </tr>\n",
       "  </thead>\n",
       "  <tbody>\n",
       "    <tr>\n",
       "      <th>0</th>\n",
       "      <td>Andaman And Nicobar</td>\n",
       "      <td>11.667026</td>\n",
       "      <td>92.735983</td>\n",
       "    </tr>\n",
       "    <tr>\n",
       "      <th>1</th>\n",
       "      <td>Andhra Pradesh</td>\n",
       "      <td>14.750429</td>\n",
       "      <td>78.570026</td>\n",
       "    </tr>\n",
       "    <tr>\n",
       "      <th>2</th>\n",
       "      <td>Arunachal Pradesh</td>\n",
       "      <td>27.100399</td>\n",
       "      <td>93.616601</td>\n",
       "    </tr>\n",
       "    <tr>\n",
       "      <th>3</th>\n",
       "      <td>Assam</td>\n",
       "      <td>26.749981</td>\n",
       "      <td>94.216667</td>\n",
       "    </tr>\n",
       "    <tr>\n",
       "      <th>4</th>\n",
       "      <td>Bihar</td>\n",
       "      <td>25.785414</td>\n",
       "      <td>87.479973</td>\n",
       "    </tr>\n",
       "  </tbody>\n",
       "</table>\n",
       "</div>"
      ],
      "text/plain": [
       "   State/UnionTerritory   Latitude  Longitude\n",
       "0  Andaman And Nicobar   11.667026  92.735983\n",
       "1        Andhra Pradesh  14.750429  78.570026\n",
       "2    Arunachal Pradesh   27.100399  93.616601\n",
       "3                Assam   26.749981  94.216667\n",
       "4                Bihar   25.785414  87.479973"
      ]
     },
     "execution_count": 49,
     "metadata": {},
     "output_type": "execute_result"
    }
   ],
   "source": [
    "df1.head()"
   ]
  },
  {
   "cell_type": "code",
   "execution_count": 50,
   "metadata": {},
   "outputs": [],
   "source": [
    "df1['State/UnionTerritory'] = df1['State/UnionTerritory'].replace({'Union Territory of Ladakh':'Ladakh','Union Territory of Jammu and Kashmir':'Jammu and Kashmir'})"
   ]
  },
  {
   "cell_type": "code",
   "execution_count": 51,
   "metadata": {},
   "outputs": [],
   "source": [
    "merge = pd.merge(total,df1,on='State/UnionTerritory')"
   ]
  },
  {
   "cell_type": "code",
   "execution_count": 52,
   "metadata": {},
   "outputs": [
    {
     "data": {
      "text/html": [
       "<div>\n",
       "<style scoped>\n",
       "    .dataframe tbody tr th:only-of-type {\n",
       "        vertical-align: middle;\n",
       "    }\n",
       "\n",
       "    .dataframe tbody tr th {\n",
       "        vertical-align: top;\n",
       "    }\n",
       "\n",
       "    .dataframe thead th {\n",
       "        text-align: right;\n",
       "    }\n",
       "</style>\n",
       "<table border=\"1\" class=\"dataframe\">\n",
       "  <thead>\n",
       "    <tr style=\"text-align: right;\">\n",
       "      <th></th>\n",
       "      <th>State/UnionTerritory</th>\n",
       "      <th>Cured</th>\n",
       "      <th>Deaths</th>\n",
       "      <th>Confirmed</th>\n",
       "      <th>Active Cases</th>\n",
       "      <th>Latitude</th>\n",
       "      <th>Longitude</th>\n",
       "    </tr>\n",
       "  </thead>\n",
       "  <tbody>\n",
       "    <tr>\n",
       "      <th>0</th>\n",
       "      <td>Maharashtra</td>\n",
       "      <td>27128</td>\n",
       "      <td>8616</td>\n",
       "      <td>186125</td>\n",
       "      <td>150381</td>\n",
       "      <td>19.250232</td>\n",
       "      <td>73.160175</td>\n",
       "    </tr>\n",
       "    <tr>\n",
       "      <th>1</th>\n",
       "      <td>Delhi</td>\n",
       "      <td>16908</td>\n",
       "      <td>1297</td>\n",
       "      <td>73099</td>\n",
       "      <td>54894</td>\n",
       "      <td>28.669993</td>\n",
       "      <td>77.230004</td>\n",
       "    </tr>\n",
       "    <tr>\n",
       "      <th>2</th>\n",
       "      <td>Rajasthan</td>\n",
       "      <td>13100</td>\n",
       "      <td>852</td>\n",
       "      <td>51008</td>\n",
       "      <td>37056</td>\n",
       "      <td>26.449999</td>\n",
       "      <td>74.639981</td>\n",
       "    </tr>\n",
       "    <tr>\n",
       "      <th>3</th>\n",
       "      <td>Uttar Pradesh</td>\n",
       "      <td>8615</td>\n",
       "      <td>690</td>\n",
       "      <td>44390</td>\n",
       "      <td>35085</td>\n",
       "      <td>27.599981</td>\n",
       "      <td>78.050006</td>\n",
       "    </tr>\n",
       "    <tr>\n",
       "      <th>4</th>\n",
       "      <td>Tamil Nadu</td>\n",
       "      <td>18779</td>\n",
       "      <td>569</td>\n",
       "      <td>53777</td>\n",
       "      <td>34429</td>\n",
       "      <td>12.920386</td>\n",
       "      <td>79.150042</td>\n",
       "    </tr>\n",
       "    <tr>\n",
       "      <th>5</th>\n",
       "      <td>Andhra Pradesh</td>\n",
       "      <td>5328</td>\n",
       "      <td>634</td>\n",
       "      <td>27869</td>\n",
       "      <td>21907</td>\n",
       "      <td>14.750429</td>\n",
       "      <td>78.570026</td>\n",
       "    </tr>\n",
       "    <tr>\n",
       "      <th>6</th>\n",
       "      <td>Telengana</td>\n",
       "      <td>7203</td>\n",
       "      <td>646</td>\n",
       "      <td>26382</td>\n",
       "      <td>18533</td>\n",
       "      <td>18.112400</td>\n",
       "      <td>79.019300</td>\n",
       "    </tr>\n",
       "    <tr>\n",
       "      <th>7</th>\n",
       "      <td>Jammu and Kashmir</td>\n",
       "      <td>3185</td>\n",
       "      <td>183</td>\n",
       "      <td>12980</td>\n",
       "      <td>9612</td>\n",
       "      <td>33.450000</td>\n",
       "      <td>76.240000</td>\n",
       "    </tr>\n",
       "    <tr>\n",
       "      <th>8</th>\n",
       "      <td>Punjab</td>\n",
       "      <td>1550</td>\n",
       "      <td>504</td>\n",
       "      <td>11259</td>\n",
       "      <td>9205</td>\n",
       "      <td>31.519974</td>\n",
       "      <td>75.980003</td>\n",
       "    </tr>\n",
       "    <tr>\n",
       "      <th>9</th>\n",
       "      <td>Karnataka</td>\n",
       "      <td>4366</td>\n",
       "      <td>512</td>\n",
       "      <td>13772</td>\n",
       "      <td>8894</td>\n",
       "      <td>12.570381</td>\n",
       "      <td>76.919997</td>\n",
       "    </tr>\n",
       "    <tr>\n",
       "      <th>10</th>\n",
       "      <td>Kerala</td>\n",
       "      <td>8633</td>\n",
       "      <td>111</td>\n",
       "      <td>16270</td>\n",
       "      <td>7526</td>\n",
       "      <td>8.900373</td>\n",
       "      <td>76.569993</td>\n",
       "    </tr>\n",
       "    <tr>\n",
       "      <th>11</th>\n",
       "      <td>Haryana</td>\n",
       "      <td>3898</td>\n",
       "      <td>100</td>\n",
       "      <td>8816</td>\n",
       "      <td>4818</td>\n",
       "      <td>28.450006</td>\n",
       "      <td>77.019991</td>\n",
       "    </tr>\n",
       "    <tr>\n",
       "      <th>12</th>\n",
       "      <td>Uttarakhand</td>\n",
       "      <td>617</td>\n",
       "      <td>3</td>\n",
       "      <td>1509</td>\n",
       "      <td>889</td>\n",
       "      <td>30.320409</td>\n",
       "      <td>78.050006</td>\n",
       "    </tr>\n",
       "    <tr>\n",
       "      <th>13</th>\n",
       "      <td>Ladakh</td>\n",
       "      <td>450</td>\n",
       "      <td>0</td>\n",
       "      <td>911</td>\n",
       "      <td>461</td>\n",
       "      <td>34.100000</td>\n",
       "      <td>77.340000</td>\n",
       "    </tr>\n",
       "  </tbody>\n",
       "</table>\n",
       "</div>"
      ],
      "text/plain": [
       "   State/UnionTerritory  Cured  Deaths  Confirmed  Active Cases   Latitude  \\\n",
       "0           Maharashtra  27128    8616     186125        150381  19.250232   \n",
       "1                 Delhi  16908    1297      73099         54894  28.669993   \n",
       "2             Rajasthan  13100     852      51008         37056  26.449999   \n",
       "3         Uttar Pradesh   8615     690      44390         35085  27.599981   \n",
       "4            Tamil Nadu  18779     569      53777         34429  12.920386   \n",
       "5        Andhra Pradesh   5328     634      27869         21907  14.750429   \n",
       "6             Telengana   7203     646      26382         18533  18.112400   \n",
       "7     Jammu and Kashmir   3185     183      12980          9612  33.450000   \n",
       "8                Punjab   1550     504      11259          9205  31.519974   \n",
       "9             Karnataka   4366     512      13772          8894  12.570381   \n",
       "10               Kerala   8633     111      16270          7526   8.900373   \n",
       "11              Haryana   3898     100       8816          4818  28.450006   \n",
       "12          Uttarakhand    617       3       1509           889  30.320409   \n",
       "13               Ladakh    450       0        911           461  34.100000   \n",
       "\n",
       "    Longitude  \n",
       "0   73.160175  \n",
       "1   77.230004  \n",
       "2   74.639981  \n",
       "3   78.050006  \n",
       "4   79.150042  \n",
       "5   78.570026  \n",
       "6   79.019300  \n",
       "7   76.240000  \n",
       "8   75.980003  \n",
       "9   76.919997  \n",
       "10  76.569993  \n",
       "11  77.019991  \n",
       "12  78.050006  \n",
       "13  77.340000  "
      ]
     },
     "execution_count": 52,
     "metadata": {},
     "output_type": "execute_result"
    }
   ],
   "source": [
    "merge"
   ]
  },
  {
   "cell_type": "code",
   "execution_count": 65,
   "metadata": {},
   "outputs": [],
   "source": [
    "map = folium.Map(location=[20,70],zoom_start = 4,tiles = 'stamenterrain')\n",
    "for lat,long,value,name in zip(merge['Latitude'],merge['Longitude'],merge['Confirmed'],merge['State/UnionTerritory']):\n",
    "    folium.CircleMarker(location = [lat,long],radius =20,popup = ('<strong>State</strong>: '+ str(name).capitalize() +'<br>'+'<strong>Total cases</strong>: ' + str(value)+'<br>'),color='red',fill_color = 'red',fill_opacity = 0.3).add_to(map)"
   ]
  },
  {
   "cell_type": "code",
   "execution_count": 66,
   "metadata": {},
   "outputs": [
    {
     "data": {
      "text/html": [
       "<div style=\"width:100%;\"><div style=\"position:relative;width:100%;height:0;padding-bottom:60%;\"><iframe src=\"about:blank\" style=\"position:absolute;width:100%;height:100%;left:0;top:0;border:none !important;\" data-html=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 onload=\"this.contentDocument.open();this.contentDocument.write(atob(this.getAttribute('data-html')));this.contentDocument.close();\" allowfullscreen webkitallowfullscreen mozallowfullscreen></iframe></div></div>"
      ],
      "text/plain": [
       "<folium.folium.Map at 0x13db5dee518>"
      ]
     },
     "execution_count": 66,
     "metadata": {},
     "output_type": "execute_result"
    }
   ],
   "source": [
    "map"
   ]
  },
  {
   "cell_type": "code",
   "execution_count": null,
   "metadata": {},
   "outputs": [],
   "source": []
  },
  {
   "cell_type": "code",
   "execution_count": null,
   "metadata": {},
   "outputs": [],
   "source": []
  }
 ],
 "metadata": {
  "kernelspec": {
   "display_name": "Python 3",
   "language": "python",
   "name": "python3"
  },
  "language_info": {
   "codemirror_mode": {
    "name": "ipython",
    "version": 3
   },
   "file_extension": ".py",
   "mimetype": "text/x-python",
   "name": "python",
   "nbconvert_exporter": "python",
   "pygments_lexer": "ipython3",
   "version": "3.7.3"
  }
 },
 "nbformat": 4,
 "nbformat_minor": 2
}

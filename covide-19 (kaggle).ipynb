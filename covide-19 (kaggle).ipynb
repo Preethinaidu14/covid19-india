{
 "cells": [
  {
   "cell_type": "markdown",
   "metadata": {},
   "source": [
    "### WHO ARE AFFECTED DUE TO LOCKDOWN"
   ]
  },
  {
   "cell_type": "code",
   "execution_count": 1,
   "metadata": {},
   "outputs": [],
   "source": [
    "import pandas as pd\n",
    "import numpy as np\n",
    "import matplotlib.pyplot as plt\n",
    "import seaborn as sns\n",
    "sns.set()"
   ]
  },
  {
   "cell_type": "code",
   "execution_count": 3,
   "metadata": {},
   "outputs": [
    {
     "data": {
      "text/html": [
       "<div>\n",
       "<style scoped>\n",
       "    .dataframe tbody tr th:only-of-type {\n",
       "        vertical-align: middle;\n",
       "    }\n",
       "\n",
       "    .dataframe tbody tr th {\n",
       "        vertical-align: top;\n",
       "    }\n",
       "\n",
       "    .dataframe thead th {\n",
       "        text-align: right;\n",
       "    }\n",
       "</style>\n",
       "<table border=\"1\" class=\"dataframe\">\n",
       "  <thead>\n",
       "    <tr style=\"text-align: right;\">\n",
       "      <th></th>\n",
       "      <th>id</th>\n",
       "      <th>unique_id</th>\n",
       "      <th>government_id</th>\n",
       "      <th>diagnosed_date</th>\n",
       "      <th>age</th>\n",
       "      <th>gender</th>\n",
       "      <th>detected_city</th>\n",
       "      <th>detected_city_pt</th>\n",
       "      <th>detected_district</th>\n",
       "      <th>detected_state</th>\n",
       "      <th>nationality</th>\n",
       "      <th>current_status</th>\n",
       "      <th>status_change_date</th>\n",
       "      <th>notes</th>\n",
       "      <th>current_location</th>\n",
       "      <th>current_location_pt</th>\n",
       "      <th>contacts</th>\n",
       "    </tr>\n",
       "  </thead>\n",
       "  <tbody>\n",
       "    <tr>\n",
       "      <th>0</th>\n",
       "      <td>1</td>\n",
       "      <td>1</td>\n",
       "      <td>KL-TS-P1</td>\n",
       "      <td>2020-01-30</td>\n",
       "      <td>20.0</td>\n",
       "      <td>Female</td>\n",
       "      <td>Thrissur</td>\n",
       "      <td>SRID=4326;POINT (76.21325419999999 10.5256264)</td>\n",
       "      <td>Thrissur</td>\n",
       "      <td>Kerala</td>\n",
       "      <td>India</td>\n",
       "      <td>Recovered</td>\n",
       "      <td>2020-02-14</td>\n",
       "      <td>Travelled from Wuhan.\\nStudent from Wuhan</td>\n",
       "      <td>NaN</td>\n",
       "      <td>SRID=4326;POINT (76.21325419999999 10.5256264)</td>\n",
       "      <td>[]</td>\n",
       "    </tr>\n",
       "    <tr>\n",
       "      <th>1</th>\n",
       "      <td>2</td>\n",
       "      <td>2</td>\n",
       "      <td>KL-AL-P1</td>\n",
       "      <td>2020-02-02</td>\n",
       "      <td>NaN</td>\n",
       "      <td>Unknown</td>\n",
       "      <td>Alappuzha</td>\n",
       "      <td>SRID=4326;POINT (76.333482 9.498000100000001)</td>\n",
       "      <td>Alappuzha</td>\n",
       "      <td>Kerala</td>\n",
       "      <td>India</td>\n",
       "      <td>Recovered</td>\n",
       "      <td>2020-02-14</td>\n",
       "      <td>Travelled from Wuhan.\\nStudent from Wuhan</td>\n",
       "      <td>NaN</td>\n",
       "      <td>SRID=4326;POINT (76.333482 9.498000100000001)</td>\n",
       "      <td>[]</td>\n",
       "    </tr>\n",
       "    <tr>\n",
       "      <th>2</th>\n",
       "      <td>3</td>\n",
       "      <td>3</td>\n",
       "      <td>KL-KS-P1</td>\n",
       "      <td>2020-02-03</td>\n",
       "      <td>NaN</td>\n",
       "      <td>Unknown</td>\n",
       "      <td>Kasaragod</td>\n",
       "      <td>SRID=4326;POINT (80 20)</td>\n",
       "      <td>Kasaragod</td>\n",
       "      <td>Kerala</td>\n",
       "      <td>India</td>\n",
       "      <td>Recovered</td>\n",
       "      <td>2020-02-14</td>\n",
       "      <td>Travelled from Wuhan.\\nStudent from Wuhan</td>\n",
       "      <td>NaN</td>\n",
       "      <td>SRID=4326;POINT (80 20)</td>\n",
       "      <td>[]</td>\n",
       "    </tr>\n",
       "    <tr>\n",
       "      <th>3</th>\n",
       "      <td>4</td>\n",
       "      <td>4</td>\n",
       "      <td>DL-P1</td>\n",
       "      <td>2020-03-02</td>\n",
       "      <td>45.0</td>\n",
       "      <td>Male</td>\n",
       "      <td>East Delhi (Mayur Vihar)</td>\n",
       "      <td>SRID=4326;POINT (80 20)</td>\n",
       "      <td>East Delhi</td>\n",
       "      <td>Delhi</td>\n",
       "      <td>India</td>\n",
       "      <td>Recovered</td>\n",
       "      <td>2020-03-15</td>\n",
       "      <td>Travelled from Austria, Italy.\\nTravel history...</td>\n",
       "      <td>NaN</td>\n",
       "      <td>SRID=4326;POINT (80 20)</td>\n",
       "      <td>[22,23,24,25,26,27,47]</td>\n",
       "    </tr>\n",
       "    <tr>\n",
       "      <th>4</th>\n",
       "      <td>5</td>\n",
       "      <td>5</td>\n",
       "      <td>TS-P1</td>\n",
       "      <td>2020-03-02</td>\n",
       "      <td>24.0</td>\n",
       "      <td>Male</td>\n",
       "      <td>Hyderabad</td>\n",
       "      <td>SRID=4326;POINT (78.4349398685041 17.4263524)</td>\n",
       "      <td>Hyderabad</td>\n",
       "      <td>Telangana</td>\n",
       "      <td>India</td>\n",
       "      <td>Recovered</td>\n",
       "      <td>2020-03-02</td>\n",
       "      <td>.\\nTravel history to Dubai, Singapore contact</td>\n",
       "      <td>NaN</td>\n",
       "      <td>SRID=4326;POINT (78.4349398685041 17.4263524)</td>\n",
       "      <td>[]</td>\n",
       "    </tr>\n",
       "  </tbody>\n",
       "</table>\n",
       "</div>"
      ],
      "text/plain": [
       "   id  unique_id government_id diagnosed_date   age   gender  \\\n",
       "0   1          1      KL-TS-P1     2020-01-30  20.0   Female   \n",
       "1   2          2      KL-AL-P1     2020-02-02   NaN  Unknown   \n",
       "2   3          3      KL-KS-P1     2020-02-03   NaN  Unknown   \n",
       "3   4          4         DL-P1     2020-03-02  45.0     Male   \n",
       "4   5          5         TS-P1     2020-03-02  24.0     Male   \n",
       "\n",
       "              detected_city                                detected_city_pt  \\\n",
       "0                  Thrissur  SRID=4326;POINT (76.21325419999999 10.5256264)   \n",
       "1                 Alappuzha   SRID=4326;POINT (76.333482 9.498000100000001)   \n",
       "2                 Kasaragod                         SRID=4326;POINT (80 20)   \n",
       "3  East Delhi (Mayur Vihar)                         SRID=4326;POINT (80 20)   \n",
       "4                 Hyderabad   SRID=4326;POINT (78.4349398685041 17.4263524)   \n",
       "\n",
       "  detected_district detected_state nationality current_status  \\\n",
       "0          Thrissur         Kerala       India      Recovered   \n",
       "1         Alappuzha         Kerala       India      Recovered   \n",
       "2         Kasaragod         Kerala       India      Recovered   \n",
       "3        East Delhi          Delhi       India      Recovered   \n",
       "4         Hyderabad      Telangana       India      Recovered   \n",
       "\n",
       "  status_change_date                                              notes  \\\n",
       "0         2020-02-14          Travelled from Wuhan.\\nStudent from Wuhan   \n",
       "1         2020-02-14          Travelled from Wuhan.\\nStudent from Wuhan   \n",
       "2         2020-02-14          Travelled from Wuhan.\\nStudent from Wuhan   \n",
       "3         2020-03-15  Travelled from Austria, Italy.\\nTravel history...   \n",
       "4         2020-03-02      .\\nTravel history to Dubai, Singapore contact   \n",
       "\n",
       "  current_location                             current_location_pt  \\\n",
       "0              NaN  SRID=4326;POINT (76.21325419999999 10.5256264)   \n",
       "1              NaN   SRID=4326;POINT (76.333482 9.498000100000001)   \n",
       "2              NaN                         SRID=4326;POINT (80 20)   \n",
       "3              NaN                         SRID=4326;POINT (80 20)   \n",
       "4              NaN   SRID=4326;POINT (78.4349398685041 17.4263524)   \n",
       "\n",
       "                 contacts  \n",
       "0                      []  \n",
       "1                      []  \n",
       "2                      []  \n",
       "3  [22,23,24,25,26,27,47]  \n",
       "4                      []  "
      ]
     },
     "execution_count": 3,
     "metadata": {},
     "output_type": "execute_result"
    }
   ],
   "source": [
    "df = pd.read_csv('C:\\\\Users\\\\preethi\\\\Downloads\\\\covidindia.csv')\n",
    "df.head()"
   ]
  },
  {
   "cell_type": "code",
   "execution_count": 13,
   "metadata": {},
   "outputs": [
    {
     "data": {
      "text/plain": [
       "<matplotlib.axes._subplots.AxesSubplot at 0x22f2e9c8860>"
      ]
     },
     "execution_count": 13,
     "metadata": {},
     "output_type": "execute_result"
    },
    {
     "data": {
      "image/png": "[encoded data removed]",
      "text/plain": [
       "<Figure size 1080x720 with 1 Axes>"
      ]
     },
     "metadata": {
      "needs_background": "light"
     },
     "output_type": "display_data"
    }
   ],
   "source": [
    "df.groupby(['detected_state','gender'])[['gender']].size().unstack().plot(kind='barh',figsize=(15,10))"
   ]
  },
  {
   "cell_type": "code",
   "execution_count": 18,
   "metadata": {},
   "outputs": [
    {
     "data": {
      "text/plain": [
       "array([20., nan, 45., 24., 69., 55., 70., 27., 59., 65., 75., 54., 53.,\n",
       "       61., 25., 63.,  3., 48., 40., 13., 96., 89., 85., 46., 68., 26.,\n",
       "       76., 33., 35., 37., 43., 21., 32., 47., 42., 44., 51., 31., 29.,\n",
       "       67., 49., 52., 18., 34., 28., 22., 56., 50., 30., 38., 23., 19.,\n",
       "       58., 41.,  2., 60., 74., 39., 17., 36., 57., 64., 81., 62.,  9.,\n",
       "        7., 66., 12.,  1., 14., 11.,  6., 73.])"
      ]
     },
     "execution_count": 18,
     "metadata": {},
     "output_type": "execute_result"
    }
   ],
   "source": [
    "df['age'].unique()"
   ]
  },
  {
   "cell_type": "code",
   "execution_count": 16,
   "metadata": {},
   "outputs": [
    {
     "data": {
      "text/html": [
       "<div>\n",
       "<style scoped>\n",
       "    .dataframe tbody tr th:only-of-type {\n",
       "        vertical-align: middle;\n",
       "    }\n",
       "\n",
       "    .dataframe tbody tr th {\n",
       "        vertical-align: top;\n",
       "    }\n",
       "\n",
       "    .dataframe thead th {\n",
       "        text-align: right;\n",
       "    }\n",
       "</style>\n",
       "<table border=\"1\" class=\"dataframe\">\n",
       "  <thead>\n",
       "    <tr style=\"text-align: right;\">\n",
       "      <th></th>\n",
       "      <th>id</th>\n",
       "      <th>unique_id</th>\n",
       "      <th>government_id</th>\n",
       "      <th>diagnosed_date</th>\n",
       "      <th>age</th>\n",
       "      <th>gender</th>\n",
       "      <th>detected_city</th>\n",
       "      <th>detected_city_pt</th>\n",
       "      <th>detected_district</th>\n",
       "      <th>detected_state</th>\n",
       "      <th>nationality</th>\n",
       "      <th>current_status</th>\n",
       "      <th>status_change_date</th>\n",
       "      <th>notes</th>\n",
       "      <th>current_location</th>\n",
       "      <th>current_location_pt</th>\n",
       "      <th>contacts</th>\n",
       "    </tr>\n",
       "  </thead>\n",
       "  <tbody>\n",
       "    <tr>\n",
       "      <th>179</th>\n",
       "      <td>180</td>\n",
       "      <td>180</td>\n",
       "      <td>NaN</td>\n",
       "      <td>2020-03-19</td>\n",
       "      <td>-1.0</td>\n",
       "      <td>Unknown</td>\n",
       "      <td>Lakhimpur kheri</td>\n",
       "      <td>SRID=4326;POINT (80.75328826904295 27.95923007...</td>\n",
       "      <td>Lucknow</td>\n",
       "      <td>Uttar Pradesh</td>\n",
       "      <td>India</td>\n",
       "      <td>Hospitalized</td>\n",
       "      <td>2020-03-19</td>\n",
       "      <td>Travelled from Turkey.\\nTravel history to Turkey</td>\n",
       "      <td>Lakhimpur kheri</td>\n",
       "      <td>SRID=4326;POINT (80.75328826904295 27.95923007...</td>\n",
       "      <td>[]</td>\n",
       "    </tr>\n",
       "  </tbody>\n",
       "</table>\n",
       "</div>"
      ],
      "text/plain": [
       "      id  unique_id government_id diagnosed_date  age   gender  \\\n",
       "179  180        180           NaN     2020-03-19 -1.0  Unknown   \n",
       "\n",
       "       detected_city                                   detected_city_pt  \\\n",
       "179  Lakhimpur kheri  SRID=4326;POINT (80.75328826904295 27.95923007...   \n",
       "\n",
       "    detected_district detected_state nationality current_status  \\\n",
       "179           Lucknow  Uttar Pradesh       India   Hospitalized   \n",
       "\n",
       "    status_change_date                                             notes  \\\n",
       "179         2020-03-19  Travelled from Turkey.\\nTravel history to Turkey   \n",
       "\n",
       "    current_location                                current_location_pt  \\\n",
       "179  Lakhimpur kheri  SRID=4326;POINT (80.75328826904295 27.95923007...   \n",
       "\n",
       "    contacts  \n",
       "179       []  "
      ]
     },
     "execution_count": 16,
     "metadata": {},
     "output_type": "execute_result"
    }
   ],
   "source": [
    "df.loc[df['age']== -1]"
   ]
  },
  {
   "cell_type": "code",
   "execution_count": 17,
   "metadata": {},
   "outputs": [],
   "source": [
    "df.drop(df.loc[df['age']== -1].index , inplace = True)"
   ]
  },
  {
   "cell_type": "code",
   "execution_count": 49,
   "metadata": {},
   "outputs": [
    {
     "name": "stdout",
     "output_type": "stream",
     "text": [
      "cases less than 10 age group 14\n",
      "__________________\n",
      "cases less than 20 age group 23\n",
      "__________________\n",
      "cases less than 30 age group 129\n",
      "__________________\n",
      "cases less than 40 age group 94\n",
      "__________________\n",
      "cases less than 50 age group 66\n",
      "__________________\n",
      "cases less than 60 age group 74\n",
      "__________________\n",
      "cases less than 70 age group 58\n",
      "__________________\n",
      "cases less than 80 age group 9\n",
      "__________________\n",
      "cases less than 90 age group 4\n",
      "__________________\n",
      "cases less than 1000 age group 1\n"
     ]
    }
   ],
   "source": [
    "age_10 = df[df['age'].between(0,10,inclusive = True)]['age'].count()\n",
    "print('cases less than 10 age group' , age_10)\n",
    "age_20 = df[df['age'].between(11,20,inclusive = True)]['age'].count()\n",
    "print('__________________')\n",
    "print('cases less than 20 age group' , age_20)\n",
    "age_30 = df[df['age'].between(21,30,inclusive = True)]['age'].count()\n",
    "print('__________________')\n",
    "print('cases less than 30 age group' , age_30)\n",
    "age_40 = df[df['age'].between(31,40,inclusive = True)]['age'].count()\n",
    "print('__________________')\n",
    "print('cases less than 40 age group' , age_40)\n",
    "age_50 = df[df['age'].between(41,50,inclusive = True)]['age'].count()\n",
    "print('__________________')\n",
    "print('cases less than 50 age group' , age_50)\n",
    "age_60 = df[df['age'].between(51,60,inclusive = True)]['age'].count()\n",
    "print('__________________')\n",
    "print('cases less than 60 age group' , age_60)\n",
    "age_70 = df[df['age'].between(61,70,inclusive = True)]['age'].count()\n",
    "print('__________________')\n",
    "print('cases less than 70 age group' , age_70)\n",
    "age_80 = df[df['age'].between(71,80,inclusive = True)]['age'].count()\n",
    "print('__________________')\n",
    "print('cases less than 80 age group' , age_80)\n",
    "age_90 = df[df['age'].between(81,90,inclusive = True)]['age'].count()\n",
    "print('__________________')\n",
    "print('cases less than 90 age group' , age_90)\n",
    "age_100 = df[df['age'].between(91,100,inclusive = True)]['age'].count()\n",
    "print('__________________')\n",
    "print('cases less than 1000 age group' , age_100)"
   ]
  },
  {
   "cell_type": "code",
   "execution_count": 56,
   "metadata": {},
   "outputs": [
    {
     "data": {
      "text/html": [
       "<div>\n",
       "<style scoped>\n",
       "    .dataframe tbody tr th:only-of-type {\n",
       "        vertical-align: middle;\n",
       "    }\n",
       "\n",
       "    .dataframe tbody tr th {\n",
       "        vertical-align: top;\n",
       "    }\n",
       "\n",
       "    .dataframe thead th {\n",
       "        text-align: right;\n",
       "    }\n",
       "</style>\n",
       "<table border=\"1\" class=\"dataframe\">\n",
       "  <thead>\n",
       "    <tr style=\"text-align: right;\">\n",
       "      <th></th>\n",
       "      <th>cases</th>\n",
       "    </tr>\n",
       "  </thead>\n",
       "  <tbody>\n",
       "    <tr>\n",
       "      <th>0-10</th>\n",
       "      <td>14</td>\n",
       "    </tr>\n",
       "    <tr>\n",
       "      <th>10-20</th>\n",
       "      <td>23</td>\n",
       "    </tr>\n",
       "    <tr>\n",
       "      <th>20-30</th>\n",
       "      <td>129</td>\n",
       "    </tr>\n",
       "    <tr>\n",
       "      <th>30-40</th>\n",
       "      <td>94</td>\n",
       "    </tr>\n",
       "    <tr>\n",
       "      <th>40-50</th>\n",
       "      <td>66</td>\n",
       "    </tr>\n",
       "    <tr>\n",
       "      <th>50-60</th>\n",
       "      <td>74</td>\n",
       "    </tr>\n",
       "    <tr>\n",
       "      <th>60-70</th>\n",
       "      <td>58</td>\n",
       "    </tr>\n",
       "    <tr>\n",
       "      <th>70-80</th>\n",
       "      <td>9</td>\n",
       "    </tr>\n",
       "    <tr>\n",
       "      <th>80-90</th>\n",
       "      <td>4</td>\n",
       "    </tr>\n",
       "    <tr>\n",
       "      <th>90-100</th>\n",
       "      <td>1</td>\n",
       "    </tr>\n",
       "  </tbody>\n",
       "</table>\n",
       "</div>"
      ],
      "text/plain": [
       "        cases\n",
       "0-10       14\n",
       "10-20      23\n",
       "20-30     129\n",
       "30-40      94\n",
       "40-50      66\n",
       "50-60      74\n",
       "60-70      58\n",
       "70-80       9\n",
       "80-90       4\n",
       "90-100      1"
      ]
     },
     "execution_count": 56,
     "metadata": {},
     "output_type": "execute_result"
    }
   ],
   "source": [
    "age_grp = pd.DataFrame([14,23,129,94,66,74,58,9,4,1],\n",
    "                       index = ['0-10','10-20','20-30','30-40','40-50','50-60','60-70','70-80','80-90','90-100'],\n",
    "                      columns = ['cases'])\n",
    "age_grp"
   ]
  },
  {
   "cell_type": "code",
   "execution_count": 60,
   "metadata": {},
   "outputs": [
    {
     "data": {
      "text/plain": [
       "array([<matplotlib.axes._subplots.AxesSubplot object at 0x0000022F2ED88F60>],\n",
       "      dtype=object)"
      ]
     },
     "execution_count": 60,
     "metadata": {},
     "output_type": "execute_result"
    },
    {
     "data": {
      "image/png": "[encoded data removed]",
      "text/plain": [
       "<Figure size 576x576 with 1 Axes>"
      ]
     },
     "metadata": {},
     "output_type": "display_data"
    }
   ],
   "source": [
    "age_grp.plot(kind='pie',figsize=(8,8),subplots='True')"
   ]
  },
  {
   "cell_type": "code",
   "execution_count": 61,
   "metadata": {},
   "outputs": [],
   "source": [
    "cor = df.corr()"
   ]
  },
  {
   "cell_type": "code",
   "execution_count": 62,
   "metadata": {},
   "outputs": [
    {
     "data": {
      "text/plain": [
       "<matplotlib.axes._subplots.AxesSubplot at 0x22f2ee11080>"
      ]
     },
     "execution_count": 62,
     "metadata": {},
     "output_type": "execute_result"
    },
    {
     "data": {
      "image/png": "[encoded data removed]",
      "text/plain": [
       "<Figure size 432x288 with 2 Axes>"
      ]
     },
     "metadata": {
      "needs_background": "light"
     },
     "output_type": "display_data"
    }
   ],
   "source": [
    "sns.heatmap(cor,annot = True)"
   ]
  },
  {
   "cell_type": "code",
   "execution_count": 63,
   "metadata": {},
   "outputs": [],
   "source": [
    "df.drop(columns=['unique_id','contacts'],axis = 1,inplace = True)"
   ]
  },
  {
   "cell_type": "code",
   "execution_count": 64,
   "metadata": {},
   "outputs": [
    {
     "data": {
      "text/html": [
       "<div>\n",
       "<style scoped>\n",
       "    .dataframe tbody tr th:only-of-type {\n",
       "        vertical-align: middle;\n",
       "    }\n",
       "\n",
       "    .dataframe tbody tr th {\n",
       "        vertical-align: top;\n",
       "    }\n",
       "\n",
       "    .dataframe thead th {\n",
       "        text-align: right;\n",
       "    }\n",
       "</style>\n",
       "<table border=\"1\" class=\"dataframe\">\n",
       "  <thead>\n",
       "    <tr style=\"text-align: right;\">\n",
       "      <th></th>\n",
       "      <th>id</th>\n",
       "      <th>government_id</th>\n",
       "      <th>diagnosed_date</th>\n",
       "      <th>age</th>\n",
       "      <th>gender</th>\n",
       "      <th>detected_city</th>\n",
       "      <th>detected_city_pt</th>\n",
       "      <th>detected_district</th>\n",
       "      <th>detected_state</th>\n",
       "      <th>nationality</th>\n",
       "      <th>current_status</th>\n",
       "      <th>status_change_date</th>\n",
       "      <th>notes</th>\n",
       "      <th>current_location</th>\n",
       "      <th>current_location_pt</th>\n",
       "    </tr>\n",
       "  </thead>\n",
       "  <tbody>\n",
       "    <tr>\n",
       "      <th>0</th>\n",
       "      <td>1</td>\n",
       "      <td>KL-TS-P1</td>\n",
       "      <td>2020-01-30</td>\n",
       "      <td>20.0</td>\n",
       "      <td>Female</td>\n",
       "      <td>Thrissur</td>\n",
       "      <td>SRID=4326;POINT (76.21325419999999 10.5256264)</td>\n",
       "      <td>Thrissur</td>\n",
       "      <td>Kerala</td>\n",
       "      <td>India</td>\n",
       "      <td>Recovered</td>\n",
       "      <td>2020-02-14</td>\n",
       "      <td>Travelled from Wuhan.\\nStudent from Wuhan</td>\n",
       "      <td>NaN</td>\n",
       "      <td>SRID=4326;POINT (76.21325419999999 10.5256264)</td>\n",
       "    </tr>\n",
       "    <tr>\n",
       "      <th>1</th>\n",
       "      <td>2</td>\n",
       "      <td>KL-AL-P1</td>\n",
       "      <td>2020-02-02</td>\n",
       "      <td>NaN</td>\n",
       "      <td>Unknown</td>\n",
       "      <td>Alappuzha</td>\n",
       "      <td>SRID=4326;POINT (76.333482 9.498000100000001)</td>\n",
       "      <td>Alappuzha</td>\n",
       "      <td>Kerala</td>\n",
       "      <td>India</td>\n",
       "      <td>Recovered</td>\n",
       "      <td>2020-02-14</td>\n",
       "      <td>Travelled from Wuhan.\\nStudent from Wuhan</td>\n",
       "      <td>NaN</td>\n",
       "      <td>SRID=4326;POINT (76.333482 9.498000100000001)</td>\n",
       "    </tr>\n",
       "    <tr>\n",
       "      <th>2</th>\n",
       "      <td>3</td>\n",
       "      <td>KL-KS-P1</td>\n",
       "      <td>2020-02-03</td>\n",
       "      <td>NaN</td>\n",
       "      <td>Unknown</td>\n",
       "      <td>Kasaragod</td>\n",
       "      <td>SRID=4326;POINT (80 20)</td>\n",
       "      <td>Kasaragod</td>\n",
       "      <td>Kerala</td>\n",
       "      <td>India</td>\n",
       "      <td>Recovered</td>\n",
       "      <td>2020-02-14</td>\n",
       "      <td>Travelled from Wuhan.\\nStudent from Wuhan</td>\n",
       "      <td>NaN</td>\n",
       "      <td>SRID=4326;POINT (80 20)</td>\n",
       "    </tr>\n",
       "    <tr>\n",
       "      <th>3</th>\n",
       "      <td>4</td>\n",
       "      <td>DL-P1</td>\n",
       "      <td>2020-03-02</td>\n",
       "      <td>45.0</td>\n",
       "      <td>Male</td>\n",
       "      <td>East Delhi (Mayur Vihar)</td>\n",
       "      <td>SRID=4326;POINT (80 20)</td>\n",
       "      <td>East Delhi</td>\n",
       "      <td>Delhi</td>\n",
       "      <td>India</td>\n",
       "      <td>Recovered</td>\n",
       "      <td>2020-03-15</td>\n",
       "      <td>Travelled from Austria, Italy.\\nTravel history...</td>\n",
       "      <td>NaN</td>\n",
       "      <td>SRID=4326;POINT (80 20)</td>\n",
       "    </tr>\n",
       "    <tr>\n",
       "      <th>4</th>\n",
       "      <td>5</td>\n",
       "      <td>TS-P1</td>\n",
       "      <td>2020-03-02</td>\n",
       "      <td>24.0</td>\n",
       "      <td>Male</td>\n",
       "      <td>Hyderabad</td>\n",
       "      <td>SRID=4326;POINT (78.4349398685041 17.4263524)</td>\n",
       "      <td>Hyderabad</td>\n",
       "      <td>Telangana</td>\n",
       "      <td>India</td>\n",
       "      <td>Recovered</td>\n",
       "      <td>2020-03-02</td>\n",
       "      <td>.\\nTravel history to Dubai, Singapore contact</td>\n",
       "      <td>NaN</td>\n",
       "      <td>SRID=4326;POINT (78.4349398685041 17.4263524)</td>\n",
       "    </tr>\n",
       "  </tbody>\n",
       "</table>\n",
       "</div>"
      ],
      "text/plain": [
       "   id government_id diagnosed_date   age   gender             detected_city  \\\n",
       "0   1      KL-TS-P1     2020-01-30  20.0   Female                  Thrissur   \n",
       "1   2      KL-AL-P1     2020-02-02   NaN  Unknown                 Alappuzha   \n",
       "2   3      KL-KS-P1     2020-02-03   NaN  Unknown                 Kasaragod   \n",
       "3   4         DL-P1     2020-03-02  45.0     Male  East Delhi (Mayur Vihar)   \n",
       "4   5         TS-P1     2020-03-02  24.0     Male                 Hyderabad   \n",
       "\n",
       "                                 detected_city_pt detected_district  \\\n",
       "0  SRID=4326;POINT (76.21325419999999 10.5256264)          Thrissur   \n",
       "1   SRID=4326;POINT (76.333482 9.498000100000001)         Alappuzha   \n",
       "2                         SRID=4326;POINT (80 20)         Kasaragod   \n",
       "3                         SRID=4326;POINT (80 20)        East Delhi   \n",
       "4   SRID=4326;POINT (78.4349398685041 17.4263524)         Hyderabad   \n",
       "\n",
       "  detected_state nationality current_status status_change_date  \\\n",
       "0         Kerala       India      Recovered         2020-02-14   \n",
       "1         Kerala       India      Recovered         2020-02-14   \n",
       "2         Kerala       India      Recovered         2020-02-14   \n",
       "3          Delhi       India      Recovered         2020-03-15   \n",
       "4      Telangana       India      Recovered         2020-03-02   \n",
       "\n",
       "                                               notes current_location  \\\n",
       "0          Travelled from Wuhan.\\nStudent from Wuhan              NaN   \n",
       "1          Travelled from Wuhan.\\nStudent from Wuhan              NaN   \n",
       "2          Travelled from Wuhan.\\nStudent from Wuhan              NaN   \n",
       "3  Travelled from Austria, Italy.\\nTravel history...              NaN   \n",
       "4      .\\nTravel history to Dubai, Singapore contact              NaN   \n",
       "\n",
       "                              current_location_pt  \n",
       "0  SRID=4326;POINT (76.21325419999999 10.5256264)  \n",
       "1   SRID=4326;POINT (76.333482 9.498000100000001)  \n",
       "2                         SRID=4326;POINT (80 20)  \n",
       "3                         SRID=4326;POINT (80 20)  \n",
       "4   SRID=4326;POINT (78.4349398685041 17.4263524)  "
      ]
     },
     "execution_count": 64,
     "metadata": {},
     "output_type": "execute_result"
    }
   ],
   "source": [
    "df.head()"
   ]
  },
  {
   "cell_type": "code",
   "execution_count": 65,
   "metadata": {},
   "outputs": [
    {
     "data": {
      "text/plain": [
       "Hospitalized    974\n",
       "Recovered        31\n",
       "Deceased         18\n",
       "Name: current_status, dtype: int64"
      ]
     },
     "execution_count": 65,
     "metadata": {},
     "output_type": "execute_result"
    }
   ],
   "source": [
    "df['current_status'].value_counts()"
   ]
  },
  {
   "cell_type": "code",
   "execution_count": 68,
   "metadata": {},
   "outputs": [],
   "source": [
    "Status = pd.DataFrame([974,31,18],index = ['Hospitalized','Recovered','Deceased'],columns = ['Count'])"
   ]
  },
  {
   "cell_type": "code",
   "execution_count": 69,
   "metadata": {},
   "outputs": [
    {
     "data": {
      "text/html": [
       "<div>\n",
       "<style scoped>\n",
       "    .dataframe tbody tr th:only-of-type {\n",
       "        vertical-align: middle;\n",
       "    }\n",
       "\n",
       "    .dataframe tbody tr th {\n",
       "        vertical-align: top;\n",
       "    }\n",
       "\n",
       "    .dataframe thead th {\n",
       "        text-align: right;\n",
       "    }\n",
       "</style>\n",
       "<table border=\"1\" class=\"dataframe\">\n",
       "  <thead>\n",
       "    <tr style=\"text-align: right;\">\n",
       "      <th></th>\n",
       "      <th>Count</th>\n",
       "    </tr>\n",
       "  </thead>\n",
       "  <tbody>\n",
       "    <tr>\n",
       "      <th>Hospitalized</th>\n",
       "      <td>974</td>\n",
       "    </tr>\n",
       "    <tr>\n",
       "      <th>Recovered</th>\n",
       "      <td>31</td>\n",
       "    </tr>\n",
       "    <tr>\n",
       "      <th>Deceased</th>\n",
       "      <td>18</td>\n",
       "    </tr>\n",
       "  </tbody>\n",
       "</table>\n",
       "</div>"
      ],
      "text/plain": [
       "              Count\n",
       "Hospitalized    974\n",
       "Recovered        31\n",
       "Deceased         18"
      ]
     },
     "execution_count": 69,
     "metadata": {},
     "output_type": "execute_result"
    }
   ],
   "source": [
    "Status"
   ]
  },
  {
   "cell_type": "code",
   "execution_count": 71,
   "metadata": {},
   "outputs": [
    {
     "data": {
      "text/plain": [
       "array([<matplotlib.axes._subplots.AxesSubplot object at 0x0000022F2FFB8630>],\n",
       "      dtype=object)"
      ]
     },
     "execution_count": 71,
     "metadata": {},
     "output_type": "execute_result"
    },
    {
     "data": {
      "image/png": "[encoded data removed]",
      "text/plain": [
       "<Figure size 432x432 with 1 Axes>"
      ]
     },
     "metadata": {},
     "output_type": "display_data"
    }
   ],
   "source": [
    "Status.plot(kind='pie',subplots=True,figsize=(6,6))"
   ]
  },
  {
   "cell_type": "code",
   "execution_count": 103,
   "metadata": {},
   "outputs": [
    {
     "data": {
      "text/plain": [
       "array(['2020-01-30', '2020-02-02', '2020-02-03', '2020-03-02',\n",
       "       '2020-03-03', '2020-03-04', '2020-03-05', '2020-03-06',\n",
       "       '2020-03-07', '2020-03-08', '2020-03-09', '2020-03-10',\n",
       "       '2020-03-11', '2020-03-12', '2020-03-13', '2020-03-14',\n",
       "       '2020-03-15', '2020-03-16', '2020-03-17', '2020-03-18',\n",
       "       '2020-03-19', '2020-03-20', '2020-03-21', '2020-03-22',\n",
       "       '2020-03-23', '2020-03-24', '2020-03-25', '2020-03-26',\n",
       "       '2020-03-27', '2020-03-28'], dtype=object)"
      ]
     },
     "execution_count": 103,
     "metadata": {},
     "output_type": "execute_result"
    }
   ],
   "source": [
    "df['diagnosed_date'].unique()"
   ]
  },
  {
   "cell_type": "code",
   "execution_count": 114,
   "metadata": {
    "scrolled": false
   },
   "outputs": [],
   "source": [
    "Education_sector = (df['diagnosed_date'] > '2020-01-30') & (df['diagnosed_date'] <= '2020-03-08')\n",
    "Education_sector = len(df[Education_sector])\n",
    "Public_place = (df['diagnosed_date'] > '2020-01-30') & (df['diagnosed_date'] <= '2020-03-12')\n",
    "Public_place = len(df[Public_place])\n",
    "Work_from_home = (df['diagnosed_date'] > '2020-01-30') & (df['diagnosed_date'] <= '2020-03-15')\n",
    "Work_from_home = len(df[Work_from_home])\n",
    "Lockdown = (df['diagnosed_date'] > '2020-01-30') & (df['diagnosed_date'] <= '2020-03-28')\n",
    "Lockdown = len(df[Lockdown])"
   ]
  },
  {
   "cell_type": "code",
   "execution_count": 139,
   "metadata": {},
   "outputs": [],
   "source": [
    "Sectors_count = [Education_sector,Public_place,Work_from_home,Lockdown]\n",
    "dates = ['2020-03-08','2020-03-12','2020-03-15','2020-03-28']"
   ]
  },
  {
   "cell_type": "code",
   "execution_count": 140,
   "metadata": {},
   "outputs": [
    {
     "data": {
      "text/html": [
       "<div>\n",
       "<style scoped>\n",
       "    .dataframe tbody tr th:only-of-type {\n",
       "        vertical-align: middle;\n",
       "    }\n",
       "\n",
       "    .dataframe tbody tr th {\n",
       "        vertical-align: top;\n",
       "    }\n",
       "\n",
       "    .dataframe thead th {\n",
       "        text-align: right;\n",
       "    }\n",
       "</style>\n",
       "<table border=\"1\" class=\"dataframe\">\n",
       "  <thead>\n",
       "    <tr style=\"text-align: right;\">\n",
       "      <th></th>\n",
       "      <th>Sectors_count</th>\n",
       "      <th>labels</th>\n",
       "      <th>dates</th>\n",
       "    </tr>\n",
       "  </thead>\n",
       "  <tbody>\n",
       "    <tr>\n",
       "      <th>0</th>\n",
       "      <td>38</td>\n",
       "      <td>schools shutdown</td>\n",
       "      <td>2020-03-08</td>\n",
       "    </tr>\n",
       "    <tr>\n",
       "      <th>1</th>\n",
       "      <td>81</td>\n",
       "      <td>public places shutdown</td>\n",
       "      <td>2020-03-12</td>\n",
       "    </tr>\n",
       "    <tr>\n",
       "      <th>2</th>\n",
       "      <td>112</td>\n",
       "      <td>work from home started</td>\n",
       "      <td>2020-03-15</td>\n",
       "    </tr>\n",
       "    <tr>\n",
       "      <th>3</th>\n",
       "      <td>1023</td>\n",
       "      <td>country under lockdown</td>\n",
       "      <td>2020-03-28</td>\n",
       "    </tr>\n",
       "  </tbody>\n",
       "</table>\n",
       "</div>"
      ],
      "text/plain": [
       "   Sectors_count                  labels       dates\n",
       "0             38        schools shutdown  2020-03-08\n",
       "1             81  public places shutdown  2020-03-12\n",
       "2            112  work from home started  2020-03-15\n",
       "3           1023  country under lockdown  2020-03-28"
      ]
     },
     "execution_count": 140,
     "metadata": {},
     "output_type": "execute_result"
    }
   ],
   "source": [
    "df2 = pd.DataFrame({'Sectors_count':Sectors_count,'labels':['schools shutdown','public places shutdown',\n",
    "            'work from home started','country under lockdown'],'dates':dates})\n",
    "df2"
   ]
  },
  {
   "cell_type": "code",
   "execution_count": 147,
   "metadata": {},
   "outputs": [
    {
     "data": {
      "text/plain": [
       "<matplotlib.axes._subplots.AxesSubplot at 0x22f32eae198>"
      ]
     },
     "execution_count": 147,
     "metadata": {},
     "output_type": "execute_result"
    },
    {
     "data": {
      "image/png": "[encoded data removed]",
      "text/plain": [
       "<Figure size 432x288 with 1 Axes>"
      ]
     },
     "metadata": {
      "needs_background": "light"
     },
     "output_type": "display_data"
    }
   ],
   "source": [
    "df2.groupby(['dates','labels','Sectors_count'])[['Sectors_count','labels']].size().unstack().plot(kind='bar')"
   ]
  },
  {
   "cell_type": "code",
   "execution_count": null,
   "metadata": {},
   "outputs": [],
   "source": []
  }
 ],
 "metadata": {
  "kernelspec": {
   "display_name": "Python 3",
   "language": "python",
   "name": "python3"
  },
  "language_info": {
   "codemirror_mode": {
    "name": "ipython",
    "version": 3
   },
   "file_extension": ".py",
   "mimetype": "text/x-python",
   "name": "python",
   "nbconvert_exporter": "python",
   "pygments_lexer": "ipython3",
   "version": "3.7.3"
  }
 },
 "nbformat": 4,
 "nbformat_minor": 2
}
